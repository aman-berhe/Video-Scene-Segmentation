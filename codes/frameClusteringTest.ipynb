{
 "cells": [
  {
   "cell_type": "code",
<<<<<<< HEAD
   "execution_count": null,
=======
   "execution_count": 2,
>>>>>>> f2e74cd5a1223a3093e23f89289fd496972ac3e9
   "metadata": {},
   "outputs": [
    {
     "name": "stderr",
     "output_type": "stream",
     "text": [
<<<<<<< HEAD
      "/people/berhe/anaconda3/envs/pyannote/lib/python3.6/site-packages/h5py/__init__.py:36: FutureWarning: Conversion of the second argument of issubdtype from `float` to `np.floating` is deprecated. In future, it will be treated as `np.float64 == np.dtype(float).type`.\n",
=======
      "/home/berhe/anaconda3/envs/pyannote/lib/python3.6/site-packages/h5py/__init__.py:36: FutureWarning: Conversion of the second argument of issubdtype from `float` to `np.floating` is deprecated. In future, it will be treated as `np.float64 == np.dtype(float).type`.\n",
>>>>>>> f2e74cd5a1223a3093e23f89289fd496972ac3e9
      "  from ._conv import register_converters as _register_converters\n",
      "Using TensorFlow backend.\n"
     ]
    }
   ],
   "source": [
    "import ExtractingFrameFeatures as eff\n",
    "import evaluationMetrics as em\n",
    "import cv2\n",
    "import math\n",
    "import numpy as np\n",
    "import sys\n",
    "import pandas as pd\n",
    "from sklearn.preprocessing import normalize"
   ]
  },
  {
   "cell_type": "code",
<<<<<<< HEAD
   "execution_count": 2,
   "metadata": {},
   "outputs": [],
   "source": [
    "videoFile='/people/berhe/Bureau/video/GameOfThrones.Season01.Episode01.mkv'\n",
    "shot='/people/berhe/Bureau/video/Shot_output01_10_10.json'"
=======
   "execution_count": 3,
   "metadata": {},
   "outputs": [],
   "source": [
    "videoFile='/home/berhe/GoT/GameOfThrones.Season01.Episode01.mkv'\n",
    "shot='/home/berhe/Desktop/Thesis_git/TLP_thesis/threadsShot/Shot_output2_10_10.json'"
>>>>>>> f2e74cd5a1223a3093e23f89289fd496972ac3e9
   ]
  },
  {
   "cell_type": "code",
<<<<<<< HEAD
   "execution_count": 4,
=======
   "execution_count": null,
>>>>>>> f2e74cd5a1223a3093e23f89289fd496972ac3e9
   "metadata": {},
   "outputs": [
    {
     "name": "stdout",
     "output_type": "stream",
     "text": [
<<<<<<< HEAD
      "88000\n",
      " Done!\n"
=======
      "Extracting frame number 514"
>>>>>>> f2e74cd5a1223a3093e23f89289fd496972ac3e9
     ]
    }
   ],
   "source": [
<<<<<<< HEAD
    "framesFeatures,timeStamp,frameIds=eff.getframes(1000,videoFile)"
   ]
  },
  {
   "cell_type": "code",
   "execution_count": 7,
   "metadata": {},
   "outputs": [
    {
     "data": {
      "text/plain": [
       "(89, 90, 89)"
      ]
     },
     "execution_count": 7,
     "metadata": {},
     "output_type": "execute_result"
    }
   ],
   "source": [
    "len(framesFeatures),len(timeStamp),len(frameIds)"
   ]
  },
  {
   "cell_type": "code",
   "execution_count": 8,
   "metadata": {},
   "outputs": [],
   "source": [
    "framesFeatures=np.array(framesFeatures)\n",
    "dist_out1=eff.getSimilarityMatrix(framesFeatures,'cosine') \n",
    "np.save('SimilairtMtarix_cosine',dist_out1)"
=======
    "featuresList,timeStamp=eff.getFrameFeatures(videoFile,eff.model)"
>>>>>>> f2e74cd5a1223a3093e23f89289fd496972ac3e9
   ]
  },
  {
   "cell_type": "code",
<<<<<<< HEAD
   "execution_count": 9,
   "metadata": {},
   "outputs": [
    {
     "data": {
      "text/plain": [
       "matrix([[1.        , 0.14980036, 0.01843715, ..., 0.12563539, 0.99999994,\n",
       "         0.4448564 ],\n",
       "        [0.14980036, 1.        , 0.12119967, ..., 0.17233521, 0.14980036,\n",
       "         0.07570535],\n",
       "        [0.01843715, 0.12119967, 1.        , ..., 0.08099663, 0.01843715,\n",
       "         0.01891559],\n",
       "        ...,\n",
       "        [0.12563539, 0.17233521, 0.08099663, ..., 1.        , 0.12563539,\n",
       "         0.06856161],\n",
       "        [0.99999994, 0.14980036, 0.01843715, ..., 0.12563539, 1.        ,\n",
       "         0.4448564 ],\n",
       "        [0.4448564 , 0.07570535, 0.01891559, ..., 0.06856161, 0.4448564 ,\n",
       "         1.        ]], dtype=float32)"
      ]
     },
     "execution_count": 9,
     "metadata": {},
     "output_type": "execute_result"
    }
   ],
   "source": [
    "dist_out1"
   ]
  },
  {
   "cell_type": "code",
   "execution_count": 10,
   "metadata": {},
   "outputs": [],
   "source": [
    "dist=np.load('SimilairtMtarix_cosine.npy')"
=======
   "execution_count": 1,
   "metadata": {},
   "outputs": [
    {
     "ename": "NameError",
     "evalue": "name 'eff' is not defined",
     "output_type": "error",
     "traceback": [
      "\u001b[0;31m---------------------------------------------------------------------------\u001b[0m",
      "\u001b[0;31mNameError\u001b[0m                                 Traceback (most recent call last)",
      "\u001b[0;32m<ipython-input-1-a8bdd7db979b>\u001b[0m in \u001b[0;36m<module>\u001b[0;34m()\u001b[0m\n\u001b[0;32m----> 1\u001b[0;31m \u001b[0mfeaturesList\u001b[0m\u001b[0;34m,\u001b[0m\u001b[0mshotBoundy\u001b[0m\u001b[0;34m=\u001b[0m\u001b[0meff\u001b[0m\u001b[0;34m.\u001b[0m\u001b[0mframeFeatures_Shots\u001b[0m\u001b[0;34m(\u001b[0m\u001b[0mvideoFile\u001b[0m\u001b[0;34m=\u001b[0m\u001b[0mvideoFile\u001b[0m\u001b[0;34m,\u001b[0m \u001b[0mshotsFile\u001b[0m\u001b[0;34m=\u001b[0m\u001b[0mshot\u001b[0m\u001b[0;34m)\u001b[0m\u001b[0;34m\u001b[0m\u001b[0m\n\u001b[0m\u001b[1;32m      2\u001b[0m \u001b[0mprint\u001b[0m\u001b[0;34m(\u001b[0m\u001b[0mlen\u001b[0m\u001b[0;34m(\u001b[0m\u001b[0mfeaturesList\u001b[0m\u001b[0;34m)\u001b[0m\u001b[0;34m)\u001b[0m\u001b[0;34m\u001b[0m\u001b[0m\n",
      "\u001b[0;31mNameError\u001b[0m: name 'eff' is not defined"
     ]
    }
   ],
   "source": [
    "featuresList,shotBoundy=eff.frameFeatures_Shots(videoFile=videoFile, shotsFile=shot)\n",
    "print(len(featuresList))"
>>>>>>> f2e74cd5a1223a3093e23f89289fd496972ac3e9
   ]
  },
  {
   "cell_type": "code",
<<<<<<< HEAD
   "execution_count": 17,
=======
   "execution_count": 4,
>>>>>>> f2e74cd5a1223a3093e23f89289fd496972ac3e9
   "metadata": {},
   "outputs": [
    {
     "data": {
      "text/plain": [
<<<<<<< HEAD
       "89"
      ]
     },
     "execution_count": 17,
=======
       "(1042, 1042)"
      ]
     },
     "execution_count": 4,
>>>>>>> f2e74cd5a1223a3093e23f89289fd496972ac3e9
     "metadata": {},
     "output_type": "execute_result"
    }
   ],
   "source": [
<<<<<<< HEAD
    "refreClust=eff.frameGroundClusters(1,timeStamp)\n",
    "len(refreClust)"
=======
    "len(featuresList),len(shotBoundy)"
>>>>>>> f2e74cd5a1223a3093e23f89289fd496972ac3e9
   ]
  },
  {
   "cell_type": "code",
   "execution_count": 18,
   "metadata": {},
   "outputs": [],
   "source": [
<<<<<<< HEAD
    "dist_out2=eff.getSimilarityMatrix(framesFeatures,'euclidean')"
=======
    "featuresListarr=np.array(featuresList)"
>>>>>>> f2e74cd5a1223a3093e23f89289fd496972ac3e9
   ]
  },
  {
   "cell_type": "code",
   "execution_count": 20,
   "metadata": {},
   "outputs": [
    {
<<<<<<< HEAD
     "name": "stdout",
     "output_type": "stream",
     "text": [
      "purit: 0.5169 --> nmi: 0.7624 and cov: 0.5393\n",
      "purit: 0.5393 --> nmi: 0.7606 and cov: 0.5506\n",
      "purit: 0.5618 --> nmi: 0.6077 and cov: 0.2809\n"
     ]
    }
   ],
   "source": [
    "clstrAlgo=['km','sp','af']\n",
    "n_clst=40\n",
    "for clal in clstrAlgo:\n",
    "    predictedsClusters=eff.getClusters(n_clst,clal,dist_out1)\n",
    "    pc=np.array(predictedsClusters)\n",
    "    rc=np.array(refreClust)\n",
    "    purity=round(em.purity_score(pc,rc),4)\n",
    "    NMI=round(em.nmi(pc,rc),4)\n",
    "    cov=round(em.coverage(pc,rc),4)\n",
    "    with open('resultsFile_M154.txt', 'a') as f:\n",
    "        #f.write('Algorithm \\t Number of classes \\t distance '+'\\n')\n",
    "        #f.write('-'*30+'\\n')\n",
    "        f.write(str(clstrAlgo) +'\\t\\t' +str(n_clst) +'\\t\\t' + 'Cosine'+'\\n')\n",
    "        f.write(str(purity) +'\\t\\t' +str(NMI) +'\\t\\t' + str(cov)+'\\n')\n",
    "        f.write('#'*50+'\\n')\n",
    "    print('purit: {} --> nmi: {} and cov: {}'.format(purity,NMI,cov))"
   ]
  },
  {
   "cell_type": "code",
   "execution_count": 16,
   "metadata": {},
   "outputs": [],
   "source": [
    "predictedsClusters=eff.getClusters(38,'sp',dist)"
   ]
  },
  {
   "cell_type": "code",
   "execution_count": null,
   "metadata": {},
   "outputs": [
    {
     "name": "stdout",
     "output_type": "stream",
     "text": [
      " Extracting frame number 86183"
     ]
    }
   ],
   "source": [
    "avgdFeatures, shotEnd,timeStamp=eff.frameFeatures_Shots(videoFile,shot)"
   ]
  },
  {
   "cell_type": "code",
   "execution_count": 3,
   "metadata": {},
   "outputs": [
    {
     "data": {
      "application/vnd.jupyter.widget-view+json": {
       "model_id": "ccb35e5c6694436d833ab34169085cf6",
       "version_major": 2,
       "version_minor": 0
      },
      "text/plain": [
       "HBox(children=(IntProgress(value=0, max=1123), HTML(value='')))"
      ]
     },
     "metadata": {},
     "output_type": "display_data"
    },
    {
     "name": "stdout",
     "output_type": "stream",
     "text": [
      "3545800\n",
      " Done!\n",
      "\n"
     ]
    }
   ],
   "source": [
    "shotFeatures=eff.shotFeatures(videoFile=videoFile,shotsFile=shot)"
=======
     "data": {
      "text/plain": [
       "(1042,)"
      ]
     },
     "execution_count": 20,
     "metadata": {},
     "output_type": "execute_result"
    }
   ],
   "source": [
    "featuresListarr.shape"
>>>>>>> f2e74cd5a1223a3093e23f89289fd496972ac3e9
   ]
  },
  {
   "cell_type": "code",
<<<<<<< HEAD
   "execution_count": 1,
   "metadata": {},
   "outputs": [
    {
     "ename": "NameError",
     "evalue": "name 'avgdFeatures' is not defined",
     "output_type": "error",
     "traceback": [
      "\u001b[0;31m---------------------------------------------------------------------------\u001b[0m",
      "\u001b[0;31mNameError\u001b[0m                                 Traceback (most recent call last)",
      "\u001b[0;32m<ipython-input-1-952a91e5fb13>\u001b[0m in \u001b[0;36m<module>\u001b[0;34m()\u001b[0m\n\u001b[0;32m----> 1\u001b[0;31m \u001b[0mlen\u001b[0m\u001b[0;34m(\u001b[0m\u001b[0mavgdFeatures\u001b[0m\u001b[0;34m)\u001b[0m\u001b[0;34m\u001b[0m\u001b[0m\n\u001b[0m",
      "\u001b[0;31mNameError\u001b[0m: name 'avgdFeatures' is not defined"
     ]
    }
   ],
   "source": [
    "len(avgdFeatures)"
=======
   "execution_count": 26,
   "metadata": {},
   "outputs": [],
   "source": [
    "a=[1,2,3]\n",
    "a=np.array(a)\n",
    "y=[a,a,a]"
>>>>>>> f2e74cd5a1223a3093e23f89289fd496972ac3e9
   ]
  },
  {
   "cell_type": "code",
<<<<<<< HEAD
   "execution_count": 49,
   "metadata": {},
   "outputs": [],
   "source": [
    "import cv2"
=======
   "execution_count": 28,
   "metadata": {},
   "outputs": [],
   "source": [
    "meanFeature=np.mean(y,axis=0)"
>>>>>>> f2e74cd5a1223a3093e23f89289fd496972ac3e9
   ]
  },
  {
   "cell_type": "code",
<<<<<<< HEAD
   "execution_count": 50,
   "metadata": {},
   "outputs": [],
   "source": [
    "myFrameNumber = 50\n",
    "cap = cv2.VideoCapture(videoFile)\n",
    "\n",
    "# get total number of frames\n",
    "totalFrames = cap.get(cv2.CAP_PROP_FRAME_COUNT)"
=======
   "execution_count": 31,
   "metadata": {},
   "outputs": [],
   "source": [
    "meanFeatureli=[meanFeature,meanFeature]"
>>>>>>> f2e74cd5a1223a3093e23f89289fd496972ac3e9
   ]
  },
  {
   "cell_type": "code",
   "execution_count": null,
   "metadata": {},
   "outputs": [],
<<<<<<< HEAD
   "source": [
    "if myFrameNumber >= 0 & myFrameNumber <= totalFrames:\n",
    "    # set frame position\n",
    "    cap.set(cv2.CAP_PROP_POS_FRAMES,myFrameNumber)"
   ]
  },
  {
   "cell_type": "code",
   "execution_count": 51,
   "metadata": {},
   "outputs": [
    {
     "name": "stdout",
     "output_type": "stream",
     "text": [
      "88646.0\n"
     ]
    }
   ],
   "source": [
    "print(totalFrames)"
   ]
  },
  {
   "cell_type": "code",
   "execution_count": 11,
   "metadata": {},
   "outputs": [
    {
     "name": "stdout",
     "output_type": "stream",
     "text": [
      "88000\n",
      " Done!\n",
      "89\n"
     ]
    }
   ],
   "source": [
    "frames,timeStamp,framId=eff.getframes(1000)\n",
    "print(len(frames))"
=======
   "source": []
  },
  {
   "cell_type": "code",
   "execution_count": 24,
   "metadata": {},
   "outputs": [],
   "source": [
    "for i in range(len(featuresList)):\n",
    "    featuresList[i]=np.array(featuresList[i])\n",
    "        "
>>>>>>> f2e74cd5a1223a3093e23f89289fd496972ac3e9
   ]
  },
  {
   "cell_type": "code",
<<<<<<< HEAD
   "execution_count": 12,
=======
   "execution_count": 3,
>>>>>>> f2e74cd5a1223a3093e23f89289fd496972ac3e9
   "metadata": {},
   "outputs": [],
   "source": [
    "from tqdm import tqdm_notebook as tqdm"
   ]
  },
  {
   "cell_type": "code",
<<<<<<< HEAD
   "execution_count": 13,
=======
   "execution_count": 4,
>>>>>>> f2e74cd5a1223a3093e23f89289fd496972ac3e9
   "metadata": {},
   "outputs": [
    {
     "data": {
      "application/vnd.jupyter.widget-view+json": {
<<<<<<< HEAD
       "model_id": "b726a9697f314c9e9fb034eaeee02606",
=======
       "model_id": "ad9b8c292c5f43fcb2e76ae2adf74766",
>>>>>>> f2e74cd5a1223a3093e23f89289fd496972ac3e9
       "version_major": 2,
       "version_minor": 0
      },
      "text/plain": [
<<<<<<< HEAD
       "HBox(children=(IntProgress(value=0, max=89), HTML(value='')))"
=======
       "HBox(children=(IntProgress(value=0, max=11081), HTML(value='')))"
>>>>>>> f2e74cd5a1223a3093e23f89289fd496972ac3e9
      ]
     },
     "metadata": {},
     "output_type": "display_data"
    },
    {
     "name": "stdout",
     "output_type": "stream",
     "text": [
      "\n"
     ]
    }
   ],
   "source": [
    "features=[]\n",
    "with tqdm(total=len(frames), file=sys.stdout) as pbar:\n",
    "    for i in frames:\n",
    "        features.append(eff.getFeatures(i,eff.model))\n",
    "        pbar.update(1)"
   ]
  },
  {
   "cell_type": "code",
<<<<<<< HEAD
   "execution_count": 21,
=======
   "execution_count": 5,
>>>>>>> f2e74cd5a1223a3093e23f89289fd496972ac3e9
   "metadata": {},
   "outputs": [
    {
     "data": {
      "text/plain": [
<<<<<<< HEAD
       "(576, 720, 3)"
      ]
     },
     "execution_count": 21,
=======
       "11081"
      ]
     },
     "execution_count": 5,
>>>>>>> f2e74cd5a1223a3093e23f89289fd496972ac3e9
     "metadata": {},
     "output_type": "execute_result"
    }
   ],
   "source": [
<<<<<<< HEAD
    "frames[3].shape"
   ]
  },
  {
   "cell_type": "code",
   "execution_count": 24,
   "metadata": {},
   "outputs": [],
   "source": [
    "meanFeat=np.mean(frames,axis=0)"
   ]
  },
  {
   "cell_type": "code",
   "execution_count": 46,
   "metadata": {},
   "outputs": [
    {
     "name": "stdout",
     "output_type": "stream",
     "text": [
      "(576, 720, 3)\n"
     ]
    }
   ],
   "source": [
    "print(meanFeat.shape)"
   ]
  },
  {
   "cell_type": "code",
   "execution_count": 35,
   "metadata": {},
   "outputs": [
    {
     "name": "stdout",
     "output_type": "stream",
     "text": [
      "(576, 720, 3)\n"
     ]
    }
   ],
   "source": [
    "print(frames[1].shape)"
=======
    "del frames\n",
    "len(features)"
   ]
  },
  {
   "cell_type": "markdown",
   "metadata": {},
   "source": [
    "# Noramal features distance"
>>>>>>> f2e74cd5a1223a3093e23f89289fd496972ac3e9
   ]
  },
  {
   "cell_type": "code",
<<<<<<< HEAD
   "execution_count": 131,
   "metadata": {},
   "outputs": [],
   "source": [
    "tempList=[]\n",
    "for i in range(10):\n",
    "    tempList.append(features[i])\n",
    "    "
=======
   "execution_count": 32,
   "metadata": {},
   "outputs": [],
   "source": [
    "dist_out1=eff.getSimilarityMatrix(meanFeatureli,'cosine') "
>>>>>>> f2e74cd5a1223a3093e23f89289fd496972ac3e9
   ]
  },
  {
   "cell_type": "code",
<<<<<<< HEAD
   "execution_count": 132,
   "metadata": {},
   "outputs": [],
   "source": [
    " meanFeat10=np.mean(tempList,axis=0)"
   ]
  },
  {
   "cell_type": "code",
   "execution_count": 138,
   "metadata": {},
   "outputs": [
    {
     "name": "stdout",
     "output_type": "stream",
     "text": [
      "[0.        0.        0.        ... 2.4346194 3.8264976 0.       ]\n"
     ]
    }
   ],
   "source": [
    "print(meanFeat10)"
=======
   "execution_count": 7,
   "metadata": {},
   "outputs": [],
   "source": [
    "refreClust=eff.frameGroundClusters(1,timeStamp)"
>>>>>>> f2e74cd5a1223a3093e23f89289fd496972ac3e9
   ]
  },
  {
   "cell_type": "code",
<<<<<<< HEAD
   "execution_count": 139,
=======
   "execution_count": 17,
>>>>>>> f2e74cd5a1223a3093e23f89289fd496972ac3e9
   "metadata": {},
   "outputs": [
    {
     "name": "stdout",
     "output_type": "stream",
     "text": [
<<<<<<< HEAD
      "[ 0.        0.        0.       ...  0.       10.412256  0.      ]\n"
=======
      "purit: 0.3385975994946305 --> nmi: 0.3913351949319572 and cov: 0.3254218933309268\n"
>>>>>>> f2e74cd5a1223a3093e23f89289fd496972ac3e9
     ]
    }
   ],
   "source": [
<<<<<<< HEAD
    "print(features[12])"
   ]
  },
  {
   "cell_type": "code",
   "execution_count": 109,
   "metadata": {},
   "outputs": [],
   "source": [
    "fmean=[]\n",
    "for i in range(len(fet)):\n",
    "    meanFeat1=np.mean(fet[i],axis=1)\n",
    "    fmean.append(meanFeat1)"
   ]
  },
  {
   "cell_type": "code",
   "execution_count": 110,
   "metadata": {},
   "outputs": [
    {
     "data": {
      "text/plain": [
       "(1, 25088)"
      ]
     },
     "execution_count": 110,
     "metadata": {},
     "output_type": "execute_result"
    }
   ],
   "source": [
    "fmean[1].shape"
   ]
  },
  {
   "cell_type": "code",
   "execution_count": 106,
   "metadata": {},
   "outputs": [
    {
     "data": {
      "text/plain": [
       "(1, 25088)"
      ]
     },
     "execution_count": 106,
     "metadata": {},
     "output_type": "execute_result"
    }
   ],
   "source": [
    "meanFeat1.shape"
   ]
  },
  {
   "cell_type": "code",
   "execution_count": 80,
   "metadata": {},
   "outputs": [],
   "source": [
    "meanFeat1=np.mean(features,axis=0)"
=======
    "predictedsClusters=eff.getClusters(38,'sp',dist_out1)\n",
    "KM=np.array(predictedsClusters)\n",
    "rc=np.array(refreClust)\n",
    "\n",
    "purity=em.purity_score(KM,rc)\n",
    "NMI=em.nmi(KM,rc)\n",
    "cov=em.coverage(KM,rc)\n",
    "print('purit: {} --> nmi: {} and cov: {}'.format(purity,NMI,cov))"
   ]
  },
  {
   "cell_type": "markdown",
   "metadata": {},
   "source": [
    "# Time Augemntation by multiplication "
>>>>>>> f2e74cd5a1223a3093e23f89289fd496972ac3e9
   ]
  },
  {
   "cell_type": "code",
<<<<<<< HEAD
   "execution_count": 12,
   "metadata": {},
   "outputs": [],
   "source": [
    "a=[2*3]"
   ]
  },
  {
   "cell_type": "code",
   "execution_count": 15,
   "metadata": {},
   "outputs": [
    {
     "data": {
      "text/plain": [
       "[[6, 6], [6, 6], [6, 6]]"
      ]
     },
     "execution_count": 15,
     "metadata": {},
     "output_type": "execute_result"
    }
   ],
   "source": [
    "a1=a*2\n",
    "a1\n",
    "a2=[a1]*3\n",
    "a2"
   ]
  },
  {
   "cell_type": "code",
   "execution_count": 119,
   "metadata": {},
   "outputs": [
    {
     "data": {
      "text/plain": [
       "(25088,)"
      ]
     },
     "execution_count": 119,
     "metadata": {},
     "output_type": "execute_result"
    }
   ],
   "source": [
    "features[0].shape"
   ]
  },
  {
   "cell_type": "markdown",
   "metadata": {},
   "source": [
    "# Just to Show the features"
   ]
  },
  {
   "cell_type": "code",
   "execution_count": 29,
   "metadata": {},
   "outputs": [
    {
     "name": "stdout",
     "output_type": "stream",
     "text": [
      "80000\n",
      " Done!\n",
      "9\n"
     ]
    }
   ],
   "source": [
    "frames,timeStamp,framId=eff.getframes(10000)\n",
    "print(len(frames))"
   ]
  },
  {
   "cell_type": "code",
   "execution_count": 30,
   "metadata": {},
   "outputs": [
    {
     "data": {
      "application/vnd.jupyter.widget-view+json": {
       "model_id": "db474dc902724e16889a4d45dfa2ada2",
       "version_major": 2,
       "version_minor": 0
      },
      "text/plain": [
       "HBox(children=(IntProgress(value=0, max=9), HTML(value='')))"
      ]
     },
     "metadata": {},
     "output_type": "display_data"
    },
    {
     "name": "stdout",
     "output_type": "stream",
     "text": [
      "\n"
     ]
    }
   ],
   "source": [
    "feat=[]\n",
    "with tqdm(total=len(frames), file=sys.stdout) as pbar:\n",
    "    for i in frames:\n",
    "        feat.append(eff.getFeatures(i,eff.model))\n",
    "        pbar.update(1)"
   ]
  },
  {
   "cell_type": "code",
   "execution_count": 47,
   "metadata": {},
   "outputs": [
    {
     "data": {
      "text/plain": [
       "(25088,)"
      ]
     },
     "execution_count": 47,
     "metadata": {},
     "output_type": "execute_result"
    }
   ],
   "source": [
    "features[0].shape"
   ]
  },
  {
   "cell_type": "markdown",
   "metadata": {},
   "source": [
    "# Noramal features distance"
   ]
  },
  {
   "cell_type": "code",
   "execution_count": 1,
   "metadata": {},
   "outputs": [
    {
     "name": "stderr",
     "output_type": "stream",
     "text": [
      "/people/berhe/anaconda3/envs/pyannote/lib/python3.6/site-packages/h5py/__init__.py:36: FutureWarning: Conversion of the second argument of issubdtype from `float` to `np.floating` is deprecated. In future, it will be treated as `np.float64 == np.dtype(float).type`.\n",
      "  from ._conv import register_converters as _register_converters\n",
      "Using TensorFlow backend.\n"
     ]
    }
   ],
   "source": [
    "import ExtractingFrameFeatures as eff"
   ]
  },
  {
   "cell_type": "code",
   "execution_count": 7,
   "metadata": {},
   "outputs": [
    {
     "data": {
      "text/plain": [
       "1123"
      ]
     },
     "execution_count": 7,
     "metadata": {},
     "output_type": "execute_result"
    }
   ],
   "source": [
    "shotStart,shotEnd=eff.sg.getShots(shot)#sg.getShots(shotFile=shotsFile)\n",
    "\n",
    "refreClust=eff.frameGroundClusters(0,shotEnd)#timeStamp)\n",
    "len(refreClust)"
   ]
  },
  {
   "cell_type": "code",
   "execution_count": 19,
   "metadata": {},
   "outputs": [],
   "source": [
    "import numpy as np\n",
    "shotFeatures=np.load('shotFeatures.npy')\n",
    "\n",
    "shotFeatures=[i for i in shotFeatures]"
   ]
  },
  {
   "cell_type": "code",
   "execution_count": 20,
   "metadata": {},
   "outputs": [],
   "source": [
    "dist_out1=eff.getSimilarityMatrix(shotFeatures,'cosine') "
   ]
  },
  {
   "cell_type": "code",
   "execution_count": 21,
   "metadata": {},
   "outputs": [
    {
     "data": {
      "text/plain": [
       "1123"
      ]
     },
     "execution_count": 21,
     "metadata": {},
     "output_type": "execute_result"
    }
   ],
   "source": [
    "normrefClust=[[i]*3 for i in refreClust]\n",
    "len(normrefClust)"
   ]
  },
  {
   "cell_type": "code",
   "execution_count": 39,
   "metadata": {},
   "outputs": [
    {
     "data": {
      "text/plain": [
       "1123"
      ]
     },
     "execution_count": 39,
     "metadata": {},
     "output_type": "execute_result"
    }
   ],
   "source": [
    "len(refreClust)"
   ]
  },
  {
   "cell_type": "code",
   "execution_count": 22,
   "metadata": {},
   "outputs": [
    {
     "data": {
      "text/plain": [
       "3351"
      ]
     },
     "execution_count": 22,
     "metadata": {},
     "output_type": "execute_result"
    }
   ],
   "source": [
    "flat_list = [item for sublist in normrefClust for item in sublist]\n",
    "flat_list=flat_list[0:len(shotFeatures)]\n",
    "len(flat_list)"
   ]
  },
  {
   "cell_type": "code",
   "execution_count": 25,
   "metadata": {},
   "outputs": [],
   "source": [
    "import evaluationMetrics as em"
   ]
  },
  {
   "cell_type": "code",
   "execution_count": 47,
   "metadata": {},
   "outputs": [
    {
     "name": "stdout",
     "output_type": "stream",
     "text": [
      "purit: 0.0312 --> nmi: -0.0 and cov: 1.0\n"
     ]
    }
   ],
   "source": [
    "clstrAlgo='km'\n",
    "n_clst=40\n",
    "#predictedsClusters=eff.getClusters(n_clst,clstrAlgo,dist_out1)\n",
    "pc=np.array(predictedsClusters1)\n",
    "rc=np.array(refreClust)\n",
    "\n",
    "purity=round(em.purity_score(pc,rc),4)\n",
    "NMI=round(em.nmi(pc,rc),4)\n",
    "cov=round(em.coverage(pc,rc),4)\n",
    "with open('resultsFile.txt', 'a') as f:\n",
    "    #f.write('Algorithm \\t Number of classes \\t distance '+'\\n')\n",
    "    #f.write('-'*30+'\\n')\n",
    "    f.write(str(clstrAlgo) +'\\t\\t' +str(n_clst) +'\\t\\t' + 'Cosine'+'\\n')\n",
    "    f.write(str(purity) +'\\t\\t' +str(NMI) +'\\t\\t' + str(cov)+'\\n')\n",
    "    f.write('#'*50+'\\n')\n",
    "print('purit: {} --> nmi: {} and cov: {}'.format(purity,NMI,cov))"
   ]
  },
  {
   "cell_type": "code",
   "execution_count": 38,
   "metadata": {},
   "outputs": [
    {
     "data": {
      "text/plain": [
       "3351"
      ]
     },
     "execution_count": 38,
     "metadata": {},
     "output_type": "execute_result"
    }
   ],
   "source": [
    "len(predictedsClusters)"
   ]
  },
  {
   "cell_type": "code",
   "execution_count": 80,
   "metadata": {},
   "outputs": [],
   "source": [
    "with open('shotClust_Spect.txt', 'w') as f:\n",
    "    for item in predictedsClusters:\n",
    "        f.write(str(item)+'\\n')"
   ]
  },
  {
   "cell_type": "code",
   "execution_count": 81,
   "metadata": {},
   "outputs": [
    {
     "name": "stdout",
     "output_type": "stream",
     "text": [
      "[21 21  0  0  0 28 28 28  0  0  0 28 28 28  0  0  0  1 28 28  0  0  0  1\n",
      "  1  1  0  0  0 21 21 21  0  0 33  5  5  5  0  0  0  0  0  0  0  0  0  0\n",
      " 35  0  0  0  0 21 21 21 22 22  0 21 21  0 35 15 15 27 27 27  0 21  0 15\n",
      " 15 15 21 21 21 15 15 15  4  4  4  8  8  8  4  4  4 35 35 35  4  4  4  4\n",
      "  4  4  4  4]\n"
     ]
    }
   ],
   "source": [
    "#print(refreClust[0:40])\n",
    "print(predictedsClusters[900:1000])"
   ]
  },
  {
   "cell_type": "code",
   "execution_count": 46,
   "metadata": {},
   "outputs": [],
   "source": [
    "c=0\n",
    "predictedsClusters1=[]\n",
    "for i in range(1,len(predictedsClusters)):\n",
    "    if predictedsClusters[i]==predictedsClusters[i-1]:\n",
    "        continue\n",
    "    else:\n",
    "        c=c+1\n",
    "        predictedsClusters1.append(predictedsClusters[i-1])\n",
    "c\n",
    "predictedsClusters1=predictedsClusters1[0:len(refreClust)]"
   ]
  },
  {
   "cell_type": "code",
   "execution_count": 82,
   "metadata": {},
   "outputs": [
    {
     "data": {
      "text/plain": [
       "3351"
      ]
     },
     "execution_count": 82,
     "metadata": {},
     "output_type": "execute_result"
    }
   ],
   "source": [
    "with open(\"shotClust_Spect.txt\", 'r') as f:\n",
    "    label = [line.rstrip('\\n') for line in f]\n",
    "f.close()\n",
    "#shotClust_Spect=[i.split('\\t') for i in label]\n",
    "len(label)"
   ]
  },
  {
   "cell_type": "code",
   "execution_count": null,
   "metadata": {},
   "outputs": [],
   "source": []
  },
  {
   "cell_type": "markdown",
   "metadata": {},
   "source": [
    "# Time Augemntation by multiplication "
   ]
  },
  {
   "cell_type": "code",
   "execution_count": 24,
   "metadata": {},
   "outputs": [
    {
     "data": {
      "text/plain": [
       "(3351, 1123)"
      ]
     },
     "execution_count": 24,
     "metadata": {},
     "output_type": "execute_result"
    }
   ],
   "source": [
    "#for i in range(len(features)):\n",
    "    #features[i]=features[i]*(timeStamp[i+1]/1000)\n",
    "len(shotFeatures),len(shotEnd)"
   ]
  },
  {
   "cell_type": "code",
   "execution_count": 27,
   "metadata": {},
   "outputs": [],
   "source": [
    "shotFeatures=np.array(shotFeatures)\n",
    "\n",
    "np.save('shotFeatures',shotFeatures)"
   ]
  },
  {
   "cell_type": "code",
   "execution_count": 34,
   "metadata": {},
   "outputs": [
    {
     "data": {
      "text/plain": [
       "25088"
      ]
     },
     "execution_count": 34,
     "metadata": {},
     "output_type": "execute_result"
    }
   ],
   "source": [
    "with open(\"shotClust_Spect.txt\", 'r') as f:\n",
    "    label = [line.rstrip('\\n') for line in f]\n",
    "f.close()\n",
    "#shotClust_Spect=[i.split('\\t') for i in label]\n",
    "len(label)"
=======
   "execution_count": 9,
   "metadata": {},
   "outputs": [],
   "source": [
    "for i in range(len(features)):\n",
    "    features[i]=features[i]*(timeStamp[i+1]/1000)"
>>>>>>> f2e74cd5a1223a3093e23f89289fd496972ac3e9
   ]
  },
  {
   "cell_type": "code",
   "execution_count": 10,
   "metadata": {},
   "outputs": [],
   "source": [
    "dist_out2=eff.getSimilarityMatrix(features,'cosine') "
   ]
  },
  {
   "cell_type": "code",
   "execution_count": 18,
   "metadata": {},
   "outputs": [
    {
     "name": "stdout",
     "output_type": "stream",
     "text": [
      "purit: 0.3359805071744427 --> nmi: 0.3914409632552143 and cov: 0.33155852359895316\n"
     ]
    }
   ],
   "source": [
    "predictedClusters=eff.getClusters(38,'sp',dist_out2)\n",
    "KM=np.array(predictedClusters)\n",
    "rc=np.array(refreClust)\n",
    "\n",
    "purity=em.purity_score(KM,rc)\n",
    "NMI=em.nmi(KM,rc)\n",
    "cov=em.coverage(KM,rc)\n",
    "print('purit: {} --> nmi: {} and cov: {}'.format(purity,NMI,cov))"
   ]
  },
  {
   "cell_type": "markdown",
   "metadata": {},
   "source": [
    "# Augmented Time Normalization "
   ]
  },
  {
   "cell_type": "code",
   "execution_count": 11,
   "metadata": {},
   "outputs": [],
   "source": [
    "features=normalize(features)"
   ]
  },
  {
   "cell_type": "code",
   "execution_count": 12,
   "metadata": {},
   "outputs": [],
   "source": [
    "dist_out3=eff.getSimilarityMatrix(features,'cosine') "
   ]
  },
  {
   "cell_type": "code",
   "execution_count": 19,
   "metadata": {},
   "outputs": [
    {
     "name": "stdout",
     "output_type": "stream",
     "text": [
      "purit: 0.32379749120115514 --> nmi: 0.3937746788747616 and cov: 0.332370724663839\n"
     ]
    }
   ],
   "source": [
    "predictedClusters=eff.getClusters(38,'sp',dist_out3)\n",
    "KM=np.array(predictedClusters)\n",
    "rc=np.array(refreClust)\n",
    "\n",
    "purity=em.purity_score(KM,rc)\n",
    "NMI=em.nmi(KM,rc)\n",
    "cov=em.coverage(KM,rc)\n",
    "print('purit: {} --> nmi: {} and cov: {}'.format(purity,NMI,cov))"
   ]
  },
  {
   "cell_type": "code",
   "execution_count": 20,
   "metadata": {},
   "outputs": [
    {
     "data": {
      "text/plain": [
       "11081"
      ]
     },
     "execution_count": 20,
     "metadata": {},
     "output_type": "execute_result"
    }
   ],
   "source": [
    "len(refreClust)"
   ]
  },
  {
   "cell_type": "code",
   "execution_count": 21,
   "metadata": {},
   "outputs": [
    {
     "data": {
      "text/plain": [
       "[0.0, 40.0, 360.0, 680.0, 1000.0, 1320.0, 1640.0, 1960.0, 2280.0, 2600.0]"
      ]
     },
     "execution_count": 21,
     "metadata": {},
     "output_type": "execute_result"
    }
   ],
   "source": [
    "timeStamp[0:10]"
   ]
  },
  {
   "cell_type": "code",
   "execution_count": 63,
   "metadata": {},
   "outputs": [],
   "source": []
  },
  {
   "cell_type": "code",
   "execution_count": null,
   "metadata": {},
   "outputs": [],
   "source": []
  },
  {
   "cell_type": "code",
   "execution_count": null,
   "metadata": {},
   "outputs": [],
   "source": []
  }
 ],
 "metadata": {
  "kernelspec": {
<<<<<<< HEAD
   "display_name": "DNN_env",
   "language": "python",
   "name": "dnn_env"
=======
   "display_name": "Python 3",
   "language": "python",
   "name": "python3"
>>>>>>> f2e74cd5a1223a3093e23f89289fd496972ac3e9
  },
  "language_info": {
   "codemirror_mode": {
    "name": "ipython",
    "version": 3
   },
   "file_extension": ".py",
   "mimetype": "text/x-python",
   "name": "python",
   "nbconvert_exporter": "python",
   "pygments_lexer": "ipython3",
<<<<<<< HEAD
   "version": "3.6.6"
=======
   "version": "3.6.5"
>>>>>>> f2e74cd5a1223a3093e23f89289fd496972ac3e9
  }
 },
 "nbformat": 4,
 "nbformat_minor": 2
}
