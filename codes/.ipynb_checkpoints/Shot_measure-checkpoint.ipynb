{
 "cells": [
  {
   "cell_type": "code",
   "execution_count": 1,
   "metadata": {},
   "outputs": [],
   "source": [
    "import json\n",
    "import os\n",
    "import pandas as pd"
   ]
  },
  {
   "cell_type": "code",
   "execution_count": 2,
   "metadata": {},
   "outputs": [],
   "source": [
    "saveFiles='/vol/work3/berhe/ExtractedFeatures/GoT/'\n",
    "saveFiles1='/vol/work3/berhe/ExtractedFeatures/BB/'\n",
    "\n",
    "manAnnotation1='/people/berhe/Bureau/TLP_thesis/codes/AnnotatedScene/BreakingBad/season1/Shots/'\n",
    "manAnnotation='/people/berhe/Bureau/TLP_thesis/codes/AnnotatedScene/Got/season1/Shots/'"
   ]
  },
  {
   "cell_type": "code",
   "execution_count": 3,
   "metadata": {},
   "outputs": [],
   "source": [
    "manFiles=[file for file in os.listdir(manAnnotation1)]\n",
    "autoFiles=[file for file in os.listdir(saveFiles1) if file.endswith('.json')]\n",
    "manFiles.sort()\n",
    "autoFiles.sort()"
   ]
  },
  {
   "cell_type": "code",
   "execution_count": 4,
   "metadata": {},
   "outputs": [
    {
     "name": "stdout",
     "output_type": "stream",
     "text": [
      "7\n"
     ]
    },
    {
     "data": {
      "text/plain": [
       "62"
      ]
     },
     "execution_count": 4,
     "metadata": {},
     "output_type": "execute_result"
    }
   ],
   "source": [
    "print(len(manFiles))\n",
    "len(autoFiles)"
   ]
  },
  {
   "cell_type": "code",
   "execution_count": 5,
   "metadata": {},
   "outputs": [],
   "source": [
    "with open(saveFiles1+autoFiles[6], 'rb') as f:\n",
    "    data = json.load(f)\n",
    "autoShot_end=[]\n",
    "for i in range(len(data['content'])):\n",
    "    autoShot_end.append(data['content'][i]['end']) \n",
    "#autoShot_end=[int(i) for i in autoShot_end]\n",
    "Df=pd.read_csv(manAnnotation1+manFiles[6], delimiter=\"\\t\")\n",
    "manShot_end=Df['end']\n",
    "manShot_end=[i/1000 for i in manShot_end]"
   ]
  },
  {
   "cell_type": "code",
   "execution_count": 6,
   "metadata": {},
   "outputs": [
    {
     "data": {
      "text/plain": [
       "(554, 533)"
      ]
     },
     "execution_count": 6,
     "metadata": {},
     "output_type": "execute_result"
    }
   ],
   "source": [
    "len(autoShot_end),len(manShot_end)"
   ]
  },
  {
   "cell_type": "code",
   "execution_count": 7,
   "metadata": {},
   "outputs": [
    {
     "name": "stdout",
     "output_type": "stream",
     "text": [
      "accuracy: 0.84 0\n",
      "accuracy: 0.89 1\n",
      "accuracy: 0.88 2\n",
      "accuracy: 0.84 3\n",
      "accuracy: 0.78 4\n",
      "accuracy: 0.82 5\n",
      "accuracy: 0.89 6\n",
      "Avergae accuracy: 0.85\n"
     ]
    }
   ],
   "source": [
    "accuracy=[]\n",
    "for j in range(len(manFiles)):\n",
    "    with open(saveFiles1+autoFiles[j], 'rb') as f:\n",
    "        data = json.load(f)\n",
    "    autoShot_end=[]\n",
    "    for i in range(len(data['content'])):\n",
    "        autoShot_end.append(data['content'][i]['end']) \n",
    "    #autoShot_end=[int(i) for i in autoShot_end]\n",
    "    Df=pd.read_csv(manAnnotation1+manFiles[j], delimiter=\"\\t\")\n",
    "    manShot_end=Df['end']\n",
    "    manShot_end=[i/1000 for i in manShot_end]\n",
    "    length=len(autoShot_end) if len(autoShot_end)>len(manShot_end) else len(manShot_end)\n",
    "    indx=0\n",
    "    indx1=0\n",
    "    eq=[]\n",
    "    neq=[]\n",
    "    for i in range(length):\n",
    "        if abs(manShot_end[indx]-autoShot_end[indx1])<=0.05:\n",
    "            eq.append(1)\n",
    "            #print(round(abs(manShot_end[indx]-autoShot_end[indx1]),2))\n",
    "            indx+=1\n",
    "            indx1+=1\n",
    "        elif manShot_end[indx]>autoShot_end[indx1]:\n",
    "            indx1+=1\n",
    "            neq.append(0)\n",
    "        elif manShot_end[indx]<autoShot_end[indx1]:\n",
    "            indx+=1\n",
    "            neq.append(0)\n",
    "    print('accuracy:',round((len(eq)/length),2),j),\n",
    "    accuracy.append(round((len(eq)/length),2))\n",
    "print('Avergae accuracy:',round(sum(accuracy)/len(accuracy),2))"
   ]
  },
  {
   "cell_type": "code",
   "execution_count": 477,
   "metadata": {},
   "outputs": [],
   "source": [
    "import matplotlib.pylab as plt\n",
    "\n",
    "def drawBoundry(refernceList,hypothesisList,pos1,pos2):\n",
    "    ref=refernceList[pos1:pos2]\n",
    "    hyp=hypothesisList[pos1:pos2]\n",
    "    for segment in ref:\n",
    "        plt.plot([segment, segment], [-10, -0.5], 'r')\n",
    "    for segment in hyp:\n",
    "        plt.plot([segment, segment], [0.5, 10], 'g')\n",
    "    plt.ylim(-11, 11);\n",
    "    plt.xlim(0, segment);\n",
    "    plt.xlabel('Time (seconds)');"
   ]
  },
  {
   "cell_type": "code",
   "execution_count": 478,
   "metadata": {},
   "outputs": [
    {
     "data": {
      "image/png": "[encoded data removed]",
      "text/plain": [
       "<Figure size 432x288 with 1 Axes>"
      ]
     },
     "metadata": {
      "needs_background": "light"
     },
     "output_type": "display_data"
    }
   ],
   "source": [
    "drawBoundry(manShot_end,autoShot_end,0,len(manShot_end))"
   ]
  },
  {
   "cell_type": "code",
   "execution_count": null,
   "metadata": {},
   "outputs": [],
   "source": []
  }
 ],
 "metadata": {
  "kernelspec": {
   "display_name": "pyannote",
   "language": "python",
   "name": "pyannote"
  },
  "language_info": {
   "codemirror_mode": {
    "name": "ipython",
    "version": 3
   },
   "file_extension": ".py",
   "mimetype": "text/x-python",
   "name": "python",
   "nbconvert_exporter": "python",
   "pygments_lexer": "ipython3",
   "version": "3.6.4"
  }
 },
 "nbformat": 4,
 "nbformat_minor": 2
}
