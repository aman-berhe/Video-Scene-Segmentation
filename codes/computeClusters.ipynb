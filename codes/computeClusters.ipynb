{
 "cells": [
  {
   "cell_type": "code",
   "execution_count": 6,
   "metadata": {
    "scrolled": true
   },
   "outputs": [],
   "source": [
    "#from ExtractingFrameFeatures import getSimilarityMatrix\n",
    "import Segmantation_lib as sg\n",
    "import evaluationMetrics as em\n",
    "import cv2\n",
    "import math\n",
    "import numpy as np\n",
    "import sys\n",
    "import pandas as pd\n",
    "from sklearn.preprocessing import normalize\n",
    "import Text_representations as tr\n",
    "import Subtitle as sb\n",
    "import nlpPreprocessing as nlp\n",
    "import pickle\n",
    "import os"
   ]
  },
  {
   "cell_type": "code",
   "execution_count": 7,
   "metadata": {},
   "outputs": [],
   "source": [
    "videoFile='/people/berhe/Bureau/video/GameOfThrones.Season01.Episode02.mkv'\n",
    "shot='/people/berhe/Bureau/video/GameOfThrones.Season01.Episode01_threshold_1.5.json'"
   ]
  },
  {
   "cell_type": "code",
   "execution_count": 23,
   "metadata": {},
   "outputs": [],
   "source": [
    "dirFeatures='/vol/work3/berhe/ExtractedFeatures/BB/'\n",
    "dirFeaturesGoT='/vol/work3/berhe/ExtractedFeatures/GoT/'\n",
    "dirFeaturesGoT1='/vol/work3/berhe/ExtractedFeatures/GameOfThrones/'\n",
    "shot=dirFeaturesGoT+'GameOfThrones.Season01.Episode01.mkv_shot.json'\n",
    "shotBB=dirFeatures+'BreakingBad.Season01.Episode01.mkv_shot.json'"
   ]
  },
  {
   "cell_type": "code",
   "execution_count": 9,
   "metadata": {},
   "outputs": [
    {
     "name": "stdout",
     "output_type": "stream",
     "text": [
      "chose the season and Episode1 1\n",
      "BreakingBad.Season01.Episode01.mkv_features.npy\n",
      "BreakingBad.Season01.Episode01.mkv_frameTimeStamp.pkl\n",
      "BreakingBad.Season01.Episode01.mkv_shot.json\n"
     ]
    }
   ],
   "source": [
    "season,episode=input('chose the season and Episode').split(' ')\n",
    "Season=\"Season0\"+str(season)\n",
    "Episode=(\"Episode\"+str(episode)) if int(episode) > 10 else (\"Episode0\"+str(episode))\n",
    "fileName=Season+'.'+Episode\n",
    "for fn in os.listdir(dirFeatures):\n",
    "    if fileName in fn:\n",
    "        print (fn)"
   ]
  },
  {
   "cell_type": "code",
   "execution_count": 11,
   "metadata": {},
   "outputs": [
    {
     "name": "stdout",
     "output_type": "stream",
     "text": [
      "chose the season and Episodeg 1 1\n"
     ]
    }
   ],
   "source": [
    "letter,season,episode=input('chose the season and Episode').split(' ')"
   ]
  },
  {
   "cell_type": "code",
   "execution_count": 12,
   "metadata": {},
   "outputs": [],
   "source": [
    "Season=\"Season0\"+str(season)\n",
    "Episode=(\"Episode\"+str(episode)) if int(episode) > 10 else (\"Episode0\"+str(episode))\n",
    "dirFeatures+Season+'.'+Episode\n",
    "fileName=Season+'.'+Episode\n",
    "if letter=='g':\n",
    "    subFile='/people/berhe/Bureau/TLP_thesis/subtitles/GoT/English/GameOfThrones.'+fileName+'.en.srt'\n",
    "else:\n",
    "    subFile='/people/berhe/Bureau/TLP_thesis/subtitles/BB/English/Breaking.'+fileName+'.en.srt'"
   ]
  },
  {
   "cell_type": "code",
   "execution_count": 13,
   "metadata": {},
   "outputs": [],
   "source": [
    "Season=\"S0\"+str(season)\n",
    "Episode=(str(episode)) if int(episode) > 10 else (\"0\"+str(episode))\n",
    "fileName=Season+'E'+Episode\n",
    "manAnnotation=\"\"\n",
    "if letter=='G' or letter == 'g':\n",
    "    manAnnotation='/people/berhe/Bureau/TLP_thesis/codes/AnnotatedScene/Got/'+'season'+str(season)+'/Scenes/'\n",
    "else:\n",
    "    manAnnotation='/people/berhe/Bureau/TLP_thesis/codes/AnnotatedScene/BreakingBad/'+'season'+str(season)+'/Scenes/'\n",
    "Df=pd.read_csv(manAnnotation+fileName, delimiter=\"\\t\")\n",
    "sc_end=Df['end']"
   ]
  },
  {
   "cell_type": "code",
   "execution_count": 14,
   "metadata": {},
   "outputs": [
    {
     "ename": "NameError",
     "evalue": "name 'shotEnd' is not defined",
     "output_type": "error",
     "traceback": [
      "\u001b[0;31m---------------------------------------------------------------------------\u001b[0m",
      "\u001b[0;31mNameError\u001b[0m                                 Traceback (most recent call last)",
      "\u001b[0;32m<ipython-input-14-be53c8673caf>\u001b[0m in \u001b[0;36m<module>\u001b[0;34m\u001b[0m\n\u001b[0;32m----> 1\u001b[0;31m \u001b[0;32mfor\u001b[0m \u001b[0mi\u001b[0m \u001b[0;32min\u001b[0m \u001b[0mrange\u001b[0m\u001b[0;34m(\u001b[0m\u001b[0;36m0\u001b[0m\u001b[0;34m,\u001b[0m\u001b[0mlen\u001b[0m\u001b[0;34m(\u001b[0m\u001b[0mshotEnd\u001b[0m\u001b[0;34m)\u001b[0m\u001b[0;34m)\u001b[0m\u001b[0;34m:\u001b[0m\u001b[0;34m\u001b[0m\u001b[0m\n\u001b[0m\u001b[1;32m      2\u001b[0m     \u001b[0mtexts\u001b[0m\u001b[0;34m=\u001b[0m\u001b[0msub\u001b[0m\u001b[0;34m.\u001b[0m\u001b[0mgetsubSentences\u001b[0m\u001b[0;34m(\u001b[0m\u001b[0mshotEnd\u001b[0m\u001b[0;34m[\u001b[0m\u001b[0mi\u001b[0m\u001b[0;34m-\u001b[0m\u001b[0;36m1\u001b[0m\u001b[0;34m]\u001b[0m\u001b[0;34m,\u001b[0m\u001b[0mshotEnd\u001b[0m\u001b[0;34m[\u001b[0m\u001b[0mi\u001b[0m\u001b[0;34m]\u001b[0m\u001b[0;34m)\u001b[0m\u001b[0;34m\u001b[0m\u001b[0m\n\u001b[1;32m      3\u001b[0m     \u001b[0mprint\u001b[0m\u001b[0;34m(\u001b[0m\u001b[0mtexts\u001b[0m\u001b[0;34m)\u001b[0m\u001b[0;34m\u001b[0m\u001b[0m\n",
      "\u001b[0;31mNameError\u001b[0m: name 'shotEnd' is not defined"
     ]
    }
   ],
   "source": [
    "for i in range(0,len(shotEnd)):\n",
    "    texts=sub.getsubSentences(shotEnd[i-1],shotEnd[i])\n",
    "    print(texts)"
   ]
  },
  {
   "cell_type": "code",
   "execution_count": 343,
   "metadata": {},
   "outputs": [
    {
     "name": "stdout",
     "output_type": "stream",
     "text": [
      "The Segment Does not have a Textor Dialogue!\n"
     ]
    }
   ],
   "source": [
    "print(texts)"
   ]
  },
  {
   "cell_type": "code",
   "execution_count": 16,
   "metadata": {},
   "outputs": [],
   "source": [
    "framesFeatures=np.load(dirFeaturesGoT+'GameOfThrones.Season01.Episode01.mkv_features.npy')\n",
    "with open(dirFeaturesGoT+'GameOfThrones.Season01.Episode01.mkv_frameTimeStamp.pkl', 'rb') as f:\n",
    "    timeStamp=pickle.load(f)"
   ]
  },
  {
   "cell_type": "markdown",
   "metadata": {},
   "source": [
    "Breaking Bad "
   ]
  },
  {
   "cell_type": "code",
   "execution_count": 3,
   "metadata": {},
   "outputs": [],
   "source": [
    "framesFeatures=np.load(dirFeatures+'BreakingBad.Season01.Episode01.mkv_features.npy')\n",
    "with open(dirFeatures+'BreakingBad.Season01.Episode01.mkv_frameTimeStamp.pkl', 'rb') as f:\n",
    "    timeStamp=pickle.load(f)"
   ]
  },
  {
   "cell_type": "code",
   "execution_count": 17,
   "metadata": {},
   "outputs": [
    {
     "data": {
      "text/plain": [
       "(88646, 88645)"
      ]
     },
     "execution_count": 17,
     "metadata": {},
     "output_type": "execute_result"
    }
   ],
   "source": [
    "len(timeStamp),len(framesFeatures)"
   ]
  },
  {
   "cell_type": "code",
   "execution_count": 29,
   "metadata": {},
   "outputs": [
    {
     "data": {
      "text/plain": [
       "'g'"
      ]
     },
     "execution_count": 29,
     "metadata": {},
     "output_type": "execute_result"
    }
   ],
   "source": [
    "letter"
   ]
  },
  {
   "cell_type": "code",
   "execution_count": 30,
   "metadata": {},
   "outputs": [],
   "source": [
    "def frameGroundClusters(letter,episodeNumber,frameTimeStamp):\n",
    "    if letter=='':\n",
    "        letter=input('Enter the beginning letter of the tv-series \\n Game of Thrones(GoT),\\n Breaking bad (bb)')\n",
    "    if letter == 'G' or letter == 'g':\n",
    "        dirGot='/people/berhe/Bureau/TLP_thesis/codes/AnnotatedScene/Got/season1/Scenes/'\n",
    "    elif letter == 'B' or letter == 'b':\n",
    "        dirGot='/people/berhe/Bureau/TLP_thesis/codes/AnnotatedScene/BreakingBad/season1/Scenes/'\n",
    "        \n",
    "    file=dirGot+'S01E0'+str(episodeNumber)\n",
    "    referencecluster=[]\n",
    "    idx=0\n",
    "    Df=pd.read_csv(file, delimiter=\"\\t\")\n",
    "    episodeTime=Df['end']\n",
    "    #Df.query('Episode==1')['end_time']\n",
    "    episodeTime=[i for i in episodeTime]\n",
    "    for i in frameTimeStamp:\n",
    "        try:\n",
    "            if (i*1000)<=episodeTime[idx]:\n",
    "                referencecluster.append(idx)\n",
    "            else:\n",
    "                idx=idx+1\n",
    "                referencecluster.append(idx)\n",
    "        except IndexError:\n",
    "            idx=idx+1\n",
    "            leng=len(frameTimeStamp)-len(referencecluster)\n",
    "            for j in range(1,leng):\n",
    "                referencecluster.append(idx)\n",
    "            break\n",
    "    return referencecluster"
   ]
  },
  {
   "cell_type": "code",
   "execution_count": 31,
   "metadata": {},
   "outputs": [],
   "source": [
    "from tqdm import tqdm_notebook as tqdm"
   ]
  },
  {
   "cell_type": "code",
   "execution_count": 33,
   "metadata": {},
   "outputs": [
    {
     "data": {
      "text/plain": [
       "980"
      ]
     },
     "execution_count": 33,
     "metadata": {},
     "output_type": "execute_result"
    }
   ],
   "source": [
    "shotStart,shotEnd=sg.getShots(shot)#sg.getShots(shotFile=shotsFile)\n",
    "\n",
    "refreClust=frameGroundClusters(letter,1,shotEnd)\n",
    "len(refreClust)"
   ]
  },
  {
   "cell_type": "code",
   "execution_count": 34,
   "metadata": {},
   "outputs": [
    {
     "data": {
      "application/vnd.jupyter.widget-view+json": {
       "model_id": "1221bb4373bb4ba584e3c781065880c7",
       "version_major": 2,
       "version_minor": 0
      },
      "text/plain": [
       "HBox(children=(IntProgress(value=0, max=980), HTML(value='')))"
      ]
     },
     "metadata": {},
     "output_type": "display_data"
    },
    {
     "name": "stdout",
     "output_type": "stream",
     "text": [
      "\n"
     ]
    }
   ],
   "source": [
    "avgFetures=[]\n",
    "tempList=[]\n",
    "indx=0\n",
    "c=0\n",
    "with tqdm(total=len(shotEnd),file=sys.stdout) as pbar:\n",
    "    for j in range(len(shotEnd)):\n",
    "        for i in range(c,len(timeStamp)-1):\n",
    "            #print(timeStamp[i]<=shotEnd[indx])\n",
    "            if (timeStamp[i]/1000)<=shotEnd[j]:\n",
    "                tempList.append(framesFeatures[i])\n",
    "            else:\n",
    "                break\n",
    "        avgFetures.append(np.mean(tempList,axis=0))\n",
    "        tempList=[]\n",
    "        c=i\n",
    "                #if indx<=len(shotEnd):\n",
    "                #    indx=indx+1\n",
    "                #    c=i\n",
    "                #else:\n",
    "                 #   break\n",
    "        pbar.update(1)"
   ]
  },
  {
   "cell_type": "code",
   "execution_count": 35,
   "metadata": {},
   "outputs": [],
   "source": [
    "avgFetures=np.array(avgFetures)"
   ]
  },
  {
   "cell_type": "code",
   "execution_count": 36,
   "metadata": {},
   "outputs": [
    {
     "data": {
      "text/plain": [
       "((980, 25088), 980, 88646)"
      ]
     },
     "execution_count": 36,
     "metadata": {},
     "output_type": "execute_result"
    }
   ],
   "source": [
    "avgFetures.shape,len(shotEnd),len(timeStamp)"
   ]
  },
  {
   "cell_type": "markdown",
   "metadata": {},
   "source": [
    "# Randmy sample from a shot"
   ]
  },
  {
   "cell_type": "code",
   "execution_count": 37,
   "metadata": {},
   "outputs": [],
   "source": [
    "import random"
   ]
  },
  {
   "cell_type": "code",
   "execution_count": 38,
   "metadata": {},
   "outputs": [
    {
     "data": {
      "application/vnd.jupyter.widget-view+json": {
       "model_id": "e50910ab460f42969493e8e8a346a9ac",
       "version_major": 2,
       "version_minor": 0
      },
      "text/plain": [
       "HBox(children=(IntProgress(value=0, max=980), HTML(value='')))"
      ]
     },
     "metadata": {},
     "output_type": "display_data"
    },
    {
     "name": "stdout",
     "output_type": "stream",
     "text": [
      "\n"
     ]
    }
   ],
   "source": [
    "randSampFetures=[]\n",
    "tempList=[]\n",
    "indx=0\n",
    "c=0\n",
    "with tqdm(total=len(shotEnd),file=sys.stdout) as pbar:\n",
    "    for j in range(len(shotEnd)):\n",
    "        for i in range(c,len(timeStamp)-1):\n",
    "            #print(timeStamp[i]<=shotEnd[indx])\n",
    "            if (timeStamp[i]/1000)<=shotEnd[j]:\n",
    "                tempList.append(framesFeatures[i])\n",
    "            else:\n",
    "                break\n",
    "        if len(tempList)>=5:\n",
    "            rand_smpl = [ tempList[i] for i in sorted(random.sample(range(len(tempList)), 5)) ]\n",
    "            randSampFetures.append(rand_smpl)\n",
    "        else:\n",
    "            randSampFetures.append(rand_smpl)\n",
    "        tempList=[]\n",
    "        c=i\n",
    "                #if indx<=len(shotEnd):\n",
    "                #    indx=indx+1\n",
    "                #    c=i\n",
    "                #else:\n",
    "                 #   break\n",
    "        pbar.update(1)"
   ]
  },
  {
   "cell_type": "code",
   "execution_count": 39,
   "metadata": {},
   "outputs": [
    {
     "data": {
      "text/plain": [
       "((980, 125440), (980, 25088))"
      ]
     },
     "execution_count": 39,
     "metadata": {},
     "output_type": "execute_result"
    }
   ],
   "source": [
    "#randSampFetures= [val for sublist in randSampFetures for val in sublist]\n",
    "randSampFetures=np.array(randSampFetures)\n",
    "randSampFetures=randSampFetures.reshape((randSampFetures.shape[0],randSampFetures.shape[1]*randSampFetures.shape[2]))\n",
    "randSampFetures.shape,avgFetures.shape"
   ]
  },
  {
   "cell_type": "code",
   "execution_count": 42,
   "metadata": {},
   "outputs": [],
   "source": [
    "sub=sb.Subtitle(letter,int(season),int(episode))\n",
    "#sub=sb.Subtitle('/people/berhe/Bureau/TLP_thesis/subtitles/BB/English/BreakingBad.Season01.Episode01.en.srt')"
   ]
  },
  {
   "cell_type": "code",
   "execution_count": 43,
   "metadata": {},
   "outputs": [
    {
     "name": "stdout",
     "output_type": "stream",
     "text": [
      "398.32 980\n"
     ]
    }
   ],
   "source": [
    "print(shotEnd[100],len(shotEnd))"
   ]
  },
  {
   "cell_type": "code",
   "execution_count": 44,
   "metadata": {},
   "outputs": [],
   "source": [
    "TR=tr.TextEmbeddings()\n",
    "model,sentences,words=TR.allBooks_w2V(4)\n",
    "#model,sentences,words=TR.subtiles_W2V()\n",
    "shot_TE=[]\n",
    "for i in range(0,len(shotEnd)):\n",
    "    texts=sub.getsubSentences(shotEnd[i-1],shotEnd[i])\n",
    "    NLP=nlp.Pre_Processing(texts)\n",
    "    shottext=NLP.removeStopwords(texts)\n",
    "    shotSentences=''\n",
    "    for tex in shottext:\n",
    "        shotSentences=shotSentences+' '+tex\n",
    "    shot_TE.append(TR.avg_feature_vector(shotSentences,model,300,model.wv.index2word))"
   ]
  },
  {
   "cell_type": "code",
   "execution_count": 26,
   "metadata": {},
   "outputs": [
    {
     "data": {
      "text/plain": [
       "(32400.0, 3288.04, 980)"
      ]
     },
     "execution_count": 26,
     "metadata": {},
     "output_type": "execute_result"
    }
   ],
   "source": [
    "timeStamp[810],shotEnd[800],len(shot_TE)"
   ]
  },
  {
   "cell_type": "code",
   "execution_count": 27,
   "metadata": {},
   "outputs": [],
   "source": [
    "shot_TE=np.array(shot_TE)"
   ]
  },
  {
   "cell_type": "code",
   "execution_count": 28,
   "metadata": {},
   "outputs": [
    {
     "data": {
      "text/plain": [
       "((980, 300), (980, 25088), (980, 125440))"
      ]
     },
     "execution_count": 28,
     "metadata": {},
     "output_type": "execute_result"
    }
   ],
   "source": [
    "shot_TE.shape,avgFetures.shape,randSampFetures.shape"
   ]
  },
  {
   "cell_type": "code",
   "execution_count": 30,
   "metadata": {},
   "outputs": [
    {
     "data": {
      "text/plain": [
       "((980, 25388), (980, 125740))"
      ]
     },
     "execution_count": 30,
     "metadata": {},
     "output_type": "execute_result"
    }
   ],
   "source": [
    "conctFeat=np.concatenate((avgFetures,shot_TE),axis=1)\n",
    "#shot_TE1=shot_TE.reshape((810,1,300))\n",
    "#shot_TE1.shape\n",
    "conctFeat1=np.concatenate((randSampFetures,shot_TE),axis=1)\n",
    "conctFeat.shape, conctFeat1.shape"
   ]
  },
  {
   "cell_type": "code",
   "execution_count": 32,
   "metadata": {},
   "outputs": [
    {
     "data": {
      "text/plain": [
       "((980, 125440), (980, 1))"
      ]
     },
     "execution_count": 32,
     "metadata": {},
     "output_type": "execute_result"
    }
   ],
   "source": [
    "randSampFetures.shape,shot_TE[:,-1:].shape"
   ]
  },
  {
   "cell_type": "code",
   "execution_count": 34,
   "metadata": {},
   "outputs": [
    {
     "data": {
      "text/plain": [
       "(980, 300)"
      ]
     },
     "execution_count": 34,
     "metadata": {},
     "output_type": "execute_result"
    }
   ],
   "source": [
    "#shot_TE1=shot_TE.reshape((810,1,300))\n",
    "shot_TE.shape"
   ]
  },
  {
   "cell_type": "code",
   "execution_count": 35,
   "metadata": {},
   "outputs": [],
   "source": [
    "from scipy.spatial.distance import cosine,euclidean\n",
    "from sklearn import cluster\n",
    "from sklearn.metrics import pairwise_distances\n",
    "def getClusters(n_Clusters,clusterAlgo,simMatrix):\n",
    "    if clusterAlgo==\"specteral\" or clusterAlgo==\"sp\":\n",
    "        return cluster.SpectralClustering(n_Clusters,affinity='precomputed').fit_predict(simMatrix)\n",
    "    if clusterAlgo==\"affinity\" or clusterAlgo==\"af\":\n",
    "        return cluster.AffinityPropagation(affinity='precomputed').fit_predict(simMatrix)\n",
    "    if clusterAlgo=='KMeans' or clusterAlgo=='km':\n",
    "        return cluster.KMeans(n_clusters=n_Clusters, init='k-means++', max_iter=100, n_init=1).fit_predict(simMatrix)\n",
    "\n",
    "    return \"No cluster Labels\"\n",
    "def getSimilarityMatrix(featuresArr,distance):\n",
    "        return np.matrix((1-pairwise_distances(featuresArr,metric=distance)))"
   ]
  },
  {
   "cell_type": "code",
   "execution_count": 37,
   "metadata": {},
   "outputs": [],
   "source": [
    "#framesFeatures=np.array(framesFeatures)\n",
    "dist_out=getSimilarityMatrix(conctFeat,'cosine')\n",
    "dist_out1=getSimilarityMatrix(conctFeat1,'cosine') \n",
    "#dist_out2=eff.getSimilarityMatrix(avgFetures,'euclidean') \n",
    "#np.save('SimilairtMtarix_cosine',dist_out1)\n",
    "#np.save('SimilairtMtarix_euclidean',dist_out2)"
   ]
  },
  {
   "cell_type": "code",
   "execution_count": 39,
   "metadata": {},
   "outputs": [
    {
     "name": "stderr",
     "output_type": "stream",
     "text": [
      "/people/berhe/anaconda3/envs/pyannote/lib/python3.6/site-packages/sklearn/metrics/cluster/supervised.py:844: FutureWarning: The behavior of NMI will change in version 0.22. To match the behavior of 'v_measure_score', NMI will use average_method='arithmetic' by default.\n",
      "  FutureWarning)\n"
     ]
    },
    {
     "name": "stdout",
     "output_type": "stream",
     "text": [
      "purit: 0.3418 --> nmi: 0.5087 and cov: 0.4418\n"
     ]
    },
    {
     "name": "stderr",
     "output_type": "stream",
     "text": [
      "/people/berhe/anaconda3/envs/pyannote/lib/python3.6/site-packages/sklearn/metrics/cluster/supervised.py:844: FutureWarning: The behavior of NMI will change in version 0.22. To match the behavior of 'v_measure_score', NMI will use average_method='arithmetic' by default.\n",
      "  FutureWarning)\n"
     ]
    },
    {
     "name": "stdout",
     "output_type": "stream",
     "text": [
      "purit: 0.4061 --> nmi: 0.5157 and cov: 0.4561\n",
      "purit: 0.2245 --> nmi: 0.6705 and cov: 0.7531\n"
     ]
    },
    {
     "name": "stderr",
     "output_type": "stream",
     "text": [
      "/people/berhe/anaconda3/envs/pyannote/lib/python3.6/site-packages/sklearn/metrics/cluster/supervised.py:844: FutureWarning: The behavior of NMI will change in version 0.22. To match the behavior of 'v_measure_score', NMI will use average_method='arithmetic' by default.\n",
      "  FutureWarning)\n"
     ]
    }
   ],
   "source": [
    "clstrAlgo=['KMeans','specteral','affinity']\n",
    "n_clst=40\n",
    "for clal in clstrAlgo:\n",
    "    predictedsClusters=getClusters(n_clst,clal,dist_out1)\n",
    "    pc=np.array(predictedsClusters)\n",
    "    rc=np.array(refreClust)\n",
    "    purity=round(em.purity_score(pc,rc),4)\n",
    "    NMI=round(em.nmi(pc,rc),4)\n",
    "    cov=round(em.coverage(pc,rc),4)\n",
    "    with open('resultsFile_GoT_s01E01.txt', 'a') as f:\n",
    "        #f.write('Algorithm \\t Number of classes \\t distance '+'\\n')\n",
    "        f.write('Random Features\\n')\n",
    "        f.write('-'*50+'\\n')\n",
    "        f.write(str(clal) +'\\t\\t' +str(n_clst) +'\\t\\t' + 'Cosine'+'\\n')\n",
    "        f.write('-'*50+'\\n')\n",
    "        f.write('purity' +'\\t\\t' +'NMI' +'\\t\\t' + 'cov'+'\\n')\n",
    "        f.write(str(purity) +'\\t\\t' +str(NMI) +'\\t\\t' + str(cov)+'\\n')\n",
    "        f.write('#'*50+'\\n')\n",
    "    print('purit: {} --> nmi: {} and cov: {}'.format(purity,NMI,cov))"
   ]
  },
  {
   "cell_type": "code",
   "execution_count": 40,
   "metadata": {},
   "outputs": [
    {
     "data": {
      "text/plain": [
       "(980, 980)"
      ]
     },
     "execution_count": 40,
     "metadata": {},
     "output_type": "execute_result"
    }
   ],
   "source": [
    "len(shotEnd),len(conctFeat1)"
   ]
  },
  {
   "cell_type": "code",
   "execution_count": 41,
   "metadata": {},
   "outputs": [
    {
     "data": {
      "text/plain": [
       "980"
      ]
     },
     "execution_count": 41,
     "metadata": {},
     "output_type": "execute_result"
    }
   ],
   "source": [
    "shottimenp=np.array(shotEnd[0:len(conctFeat1)])\n",
    "len(shottimenp)"
   ]
  },
  {
   "cell_type": "code",
   "execution_count": 42,
   "metadata": {},
   "outputs": [
    {
     "data": {
      "text/plain": [
       "((980,), (980, 125740))"
      ]
     },
     "execution_count": 42,
     "metadata": {},
     "output_type": "execute_result"
    }
   ],
   "source": [
    "shottimenp.shape,conctFeat1.shape"
   ]
  },
  {
   "cell_type": "code",
   "execution_count": 43,
   "metadata": {},
   "outputs": [
    {
     "data": {
      "text/plain": [
       "array([-0.        , -0.        , -0.        , ..., -0.3643466 ,\n",
       "       -0.2763798 , -0.41189793], dtype=float32)"
      ]
     },
     "execution_count": 43,
     "metadata": {},
     "output_type": "execute_result"
    }
   ],
   "source": [
    "conctFeat1[0]"
   ]
  },
  {
   "cell_type": "code",
   "execution_count": 44,
   "metadata": {},
   "outputs": [],
   "source": [
    "conctFeat=np.column_stack((conctFeat,shottimenp))\n",
    "conctFeat1=np.column_stack((conctFeat1,shottimenp))\n"
   ]
  },
  {
   "cell_type": "code",
   "execution_count": 45,
   "metadata": {},
   "outputs": [
    {
     "data": {
      "text/plain": [
       "((980, 25389), (980, 125741))"
      ]
     },
     "execution_count": 45,
     "metadata": {},
     "output_type": "execute_result"
    }
   ],
   "source": [
    "conctFeat.shape,conctFeat1.shape"
   ]
  },
  {
   "cell_type": "code",
   "execution_count": 133,
   "metadata": {},
   "outputs": [],
   "source": [
    "dist_out=getSimilarityMatrix(conctFeat,'cosine')\n",
    "dist_out1=getSimilarityMatrix(conctFeat1,'cosine')"
   ]
  },
  {
   "cell_type": "code",
   "execution_count": 48,
   "metadata": {},
   "outputs": [
    {
     "name": "stderr",
     "output_type": "stream",
     "text": [
      "/people/berhe/anaconda3/envs/pyannote/lib/python3.6/site-packages/sklearn/metrics/cluster/supervised.py:844: FutureWarning: The behavior of NMI will change in version 0.22. To match the behavior of 'v_measure_score', NMI will use average_method='arithmetic' by default.\n",
      "  FutureWarning)\n"
     ]
    },
    {
     "name": "stdout",
     "output_type": "stream",
     "text": [
      "purit: 0.4367 --> nmi: 0.6107 and cov: 0.5378\n"
     ]
    },
    {
     "name": "stderr",
     "output_type": "stream",
     "text": [
      "/people/berhe/anaconda3/envs/pyannote/lib/python3.6/site-packages/sklearn/metrics/cluster/supervised.py:844: FutureWarning: The behavior of NMI will change in version 0.22. To match the behavior of 'v_measure_score', NMI will use average_method='arithmetic' by default.\n",
      "  FutureWarning)\n"
     ]
    },
    {
     "name": "stdout",
     "output_type": "stream",
     "text": [
      "purit: 0.5929 --> nmi: 0.4979 and cov: 0.4367\n",
      "purit: 0.4531 --> nmi: 0.6052 and cov: 0.6133\n"
     ]
    },
    {
     "name": "stderr",
     "output_type": "stream",
     "text": [
      "/people/berhe/anaconda3/envs/pyannote/lib/python3.6/site-packages/sklearn/metrics/cluster/supervised.py:844: FutureWarning: The behavior of NMI will change in version 0.22. To match the behavior of 'v_measure_score', NMI will use average_method='arithmetic' by default.\n",
      "  FutureWarning)\n"
     ]
    }
   ],
   "source": [
    "clstrAlgo=['KMeans','specteral','affinity']\n",
    "n_clst=40\n",
    "for clal in clstrAlgo:\n",
    "    predictedsClusters1=getClusters(n_clst,clal,dist_out1)\n",
    "    pc=np.array(predictedsClusters1)\n",
    "    rc=np.array(refreClust)\n",
    "    purity=round(em.purity_score(pc,rc),4)\n",
    "    NMI=round(em.nmi(pc,rc),4)\n",
    "    cov=round(em.coverage(pc,rc),4)\n",
    "    with open('resultsFile_GoT_s01E01.txt.', 'a') as f:\n",
    "        f.write('Random Features Time added shots \\n')\n",
    "        #f.write('-'*30+'\\n')\n",
    "        f.write(str(clal) +'\\t\\t' +str(n_clst) +'\\t\\t' + 'Cosine'+'\\n')\n",
    "        f.write('-'*50+'\\n')\n",
    "        f.write('purity' +'\\t\\t' +'NMI' +'\\t\\t' + 'cov'+'\\n')\n",
    "        f.write(str(purity) +'\\t\\t' +str(NMI) +'\\t\\t' + str(cov)+'\\n')\n",
    "        f.write('#'*50+'\\n')\n",
    "    print('purit: {} --> nmi: {} and cov: {}'.format(purity,NMI,cov))"
   ]
  },
  {
   "cell_type": "code",
   "execution_count": 276,
   "metadata": {},
   "outputs": [],
   "source": [
    "predictedsClusters=getClusters(n_clst,'specteral',dist_out)\n",
    "predictedsClusters1=getClusters(n_clst,'specteral',dist_out1)"
   ]
  },
  {
   "cell_type": "code",
   "execution_count": 277,
   "metadata": {},
   "outputs": [
    {
     "name": "stdout",
     "output_type": "stream",
     "text": [
      "[10 38  7  7 18 18 18  4 26  8 23 20 20 20  5  1  5 27  1 14]\n"
     ]
    }
   ],
   "source": [
    "print(predictedsClusters[0:20])"
   ]
  },
  {
   "cell_type": "code",
   "execution_count": 278,
   "metadata": {},
   "outputs": [
    {
     "name": "stdout",
     "output_type": "stream",
     "text": [
      "[0, 0, 0, 0, 0, 0, 0, 0, 1, 1, 1, 1, 1, 2, 2, 2, 2, 2, 2, 2, 2, 2, 2, 2, 2, 2, 2, 2, 2, 2, 2, 2, 2, 2, 2, 2, 3, 3, 3, 3, 3, 3, 3, 3, 3, 3, 3, 3, 3, 3, 3, 4, 4, 4, 4, 4, 4, 4, 4, 4, 4, 4, 4, 4, 4, 4, 4, 4, 4, 4, 4, 4, 4, 5, 5, 5, 5, 5, 5, 5, 5, 5, 5, 5, 5, 6, 6, 6, 6, 6, 6, 6, 6, 6, 6, 6, 7, 7, 7, 7]\n"
     ]
    }
   ],
   "source": [
    "print(refreClust[0:100])"
   ]
  },
  {
   "cell_type": "code",
   "execution_count": 279,
   "metadata": {},
   "outputs": [],
   "source": [
    "predictedsClusters_list=predictedsClusters.tolist()\n",
    "predictedsClusters1_list=predictedsClusters1.tolist()\n",
    "refreClust_lis=refreClust"
   ]
  },
  {
   "cell_type": "code",
   "execution_count": 280,
   "metadata": {},
   "outputs": [],
   "source": [
    "import Subtitle_truthvalue as stv\n",
    "#_,_,sc_start,sc_end=stv.sceneTexts(scenesegFile,subtFile)\n",
    "Df=pd.read_csv('/people/berhe/Bureau/TLP_thesis/codes/AnnotatedScene/Got/season1/Scenes/S01E01', delimiter=\"\\t\")\n",
    "sc_end=Df['end']"
   ]
  },
  {
   "cell_type": "code",
   "execution_count": 3,
   "metadata": {},
   "outputs": [],
   "source": [
    "data = pd.read_csv('AnnotatedScene/Got/season1/Scenes/S01E01', delimiter=\"\\t\")\n",
    "shotMakar=data['end']\n",
    "shotMakar=[i/1000 for i in shotMakar]"
   ]
  },
  {
   "cell_type": "code",
   "execution_count": 4,
   "metadata": {},
   "outputs": [
    {
     "data": {
      "text/plain": [
       "44"
      ]
     },
     "execution_count": 4,
     "metadata": {},
     "output_type": "execute_result"
    }
   ],
   "source": [
    "len(shotMakar)"
   ]
  },
  {
   "cell_type": "code",
   "execution_count": 305,
   "metadata": {},
   "outputs": [
    {
     "name": "stdout",
     "output_type": "stream",
     "text": [
      "[[10, 38]]\n",
      "[[6, 4]]\n"
     ]
    }
   ],
   "source": [
    "sepPos=sg.segmentation_speakers(predictedsClusters_list,4,3)\n",
    "sepPos1=sg.segmentation_speakers(predictedsClusters1_list,4,3)\n",
    "sceneTime=[]\n",
    "sceneTime1=[]\n",
    "for i in sepPos:\n",
    "    sceneTime.append(shotEnd[i])\n",
    "for i in sepPos1:\n",
    "    sceneTime1.append(shotEnd[i])"
   ]
  },
  {
   "cell_type": "code",
   "execution_count": 306,
   "metadata": {},
   "outputs": [
    {
     "data": {
      "text/plain": [
       "(549, 980, 44, 34, 41)"
      ]
     },
     "execution_count": 306,
     "metadata": {},
     "output_type": "execute_result"
    }
   ],
   "source": [
    "sepPos1[-1],len(shotEnd),len(shotMakar),len(sepPos),len(sepPos1)"
   ]
  },
  {
   "cell_type": "code",
   "execution_count": 311,
   "metadata": {},
   "outputs": [],
   "source": [
    "sep=sepPos1\n",
    "truthValueAuto=[]\n",
    "indx=0\n",
    "sceneTime_auto=[]\n",
    "ls=[]\n",
    "for i in range(len(shotEnd)):\n",
    "    if i==sep[indx]:\n",
    "        truthValueAuto.append(indx)\n",
    "        sceneTime_auto.append(int(shotEnd[i]))\n",
    "        if indx<(len(sep)-1):\n",
    "            indx=indx+1\n",
    "    else:\n",
    "        truthValueAuto.append(indx)\n",
    "\n",
    "truthValueManual=[]\n",
    "indx=0\n",
    "sceneTime_man=[]\n",
    "label=0\n",
    "for i in range(len(shotEnd)):\n",
    "    if shotEnd[i]>=shotMakar[indx]:\n",
    "        sceneTime_man.append(int(shotEnd[i]))\n",
    "        indx=indx+1\n",
    "        truthValueManual.append(indx)\n",
    "        if indx>=len(shotMakar):\n",
    "            ls=[indx]*(len(shotEnd)-len(truthValueManual))\n",
    "            break\n",
    "        else:\n",
    "            continue\n",
    "    else:\n",
    "        truthValueManual.append(indx)\n",
    "truthValueManual=truthValueManual+ls"
   ]
  },
  {
   "cell_type": "code",
   "execution_count": 312,
   "metadata": {},
   "outputs": [],
   "source": [
    "truthValueAuto_bin=[]\n",
    "indx=0\n",
    "sceneTime_auto_bin=[]\n",
    "ls=[]\n",
    "for i in range(len(shotEnd)):\n",
    "    if i==sep[indx]:\n",
    "        truthValueAuto_bin.append(0)\n",
    "        sceneTime_auto_bin.append(shotEnd[i])\n",
    "        if indx<(len(sep)-1):\n",
    "            indx=indx+1\n",
    "    else:\n",
    "        truthValueAuto_bin.append(1)\n",
    "\n",
    "truthValueAuto_bin_old=[]\n",
    "indx=0\n",
    "sceneTime_auto_bin_old=[]\n",
    "ls=[]\n",
    "for i in range(len(shotEnd)):\n",
    "    if i==sep[indx]:\n",
    "        truthValueAuto_bin_old.append(1)\n",
    "        sceneTime_auto_bin_old.append(shotEnd[i])\n",
    "        if indx<(len(sep)-1):\n",
    "            indx=indx+1\n",
    "    else:\n",
    "        truthValueAuto_bin_old.append(0)\n",
    "\n",
    "truthValueManual_bin=[]\n",
    "indx=0\n",
    "sceneTime_man_bin=[]\n",
    "label=0\n",
    "ls=[]\n",
    "for i in range(len(shotEnd)):\n",
    "    if shotEnd[i]>=shotMakar[indx]:\n",
    "        sceneTime_man_bin.append(shotEnd[i])\n",
    "        indx=indx+1\n",
    "        truthValueManual_bin.append(0)\n",
    "        if indx>=len(shotMakar):\n",
    "            ls=[1]*(len(shotEnd)-len(truthValueManual_bin))\n",
    "            break\n",
    "        else:\n",
    "            continue\n",
    "    else:\n",
    "        truthValueManual_bin.append(1)\n",
    "truthValueManual_bin=truthValueManual_bin+ls\n",
    "\n",
    "truthValueManual_bin_old=[]\n",
    "indx=0\n",
    "sceneTime_man_bin_old=[]\n",
    "label=0\n",
    "ls=[]\n",
    "for i in range(len(shotEnd)):\n",
    "    if shotEnd[i]>=shotMakar[indx]:\n",
    "        sceneTime_man_bin_old.append(shotEnd[i])\n",
    "        indx=indx+1\n",
    "        truthValueManual_bin_old.append(1)\n",
    "        if indx>=len(shotMakar):\n",
    "            ls=[0]*(len(shotEnd)-len(truthValueManual_bin))\n",
    "            break\n",
    "        else:\n",
    "            continue\n",
    "    else:\n",
    "        truthValueManual_bin_old.append(0)\n",
    "truthValueManual_bin_old=truthValueManual_bin_old+ls"
   ]
  },
  {
   "cell_type": "code",
   "execution_count": 313,
   "metadata": {},
   "outputs": [
    {
     "data": {
      "text/plain": [
       "(3545.82, 41)"
      ]
     },
     "execution_count": 313,
     "metadata": {},
     "output_type": "execute_result"
    }
   ],
   "source": [
    "shotEnd[i],len(sep)"
   ]
  },
  {
   "cell_type": "code",
   "execution_count": 314,
   "metadata": {},
   "outputs": [
    {
     "name": "stdout",
     "output_type": "stream",
     "text": [
      "wondowDiff Cat: 0.030612244897959183\n",
      "pk Cat: 0.0033975084937712344\n",
      "wondowDiff bin: 0.14096016343207354\n",
      "pk bin: 0.07755102040816327\n",
      "wondowDiff bin old: 0.56656346749226\n",
      "pk bin old: 0.35360824742268043\n",
      "\n",
      "\n",
      "accuracy cat: 0.24548913675250011\n",
      "Purity cat: 0.5877551020408164\n",
      "Covergae cat: 0.8346938775510204\n",
      "NMI cat: 0.7250434382216895\n",
      "Recall cat: 0.04342885375494071\n",
      "Precision cat: 0.04461186757442264\n",
      "\n",
      "\n",
      "accuracy bin: 0.050038260706846006\n",
      "Purity bin: 0.9561224489795919\n",
      "Coverage bin: 0.9581632653061225\n",
      "NMI bin: 0.006465966581544057\n",
      "Recall bin: 0.96051227321238\n",
      "Precision bin:0.9584664536741214\n",
      "\n",
      "\n",
      "accuracy bin old: 0.050038260706846006\n",
      "Purity bin old: 0.9561224489795919\n",
      "Coverage bin old: 0.9581632653061225\n",
      "NMI bin old: 0.006465966581544057\n",
      "Recall bin old: 0.09302325581395349\n",
      "Precision bin old:0.0975609756097561\n",
      "f-score cat 0.0003629396240010851\n",
      "f-score bin 0.9594882729211088 \n",
      "f-score bin old 0.09523809523809525\n"
     ]
    }
   ],
   "source": [
    "import evaluationMetrics as em\n",
    "print('wondowDiff Cat: {}'.format(em.windowdiff(truthValueManual,truthValueAuto)))\n",
    "print('pk Cat: {}'.format(em.pk(truthValueManual,truthValueAuto)))\n",
    "print('wondowDiff bin: {}'.format(em.windowdiff(truthValueManual_bin,truthValueAuto_bin)))\n",
    "print('pk bin: {}'.format(em.pk(truthValueManual_bin,truthValueAuto_bin)))\n",
    "print('wondowDiff bin old: {}'.format(em.windowdiff(truthValueManual_bin_old,truthValueAuto_bin_old)))\n",
    "print('pk bin old: {}'.format(em.pk(truthValueManual_bin_old,truthValueAuto_bin_old)))\n",
    "print('\\n')\n",
    "truthValueAuto=np.array(truthValueAuto)\n",
    "truthValueManual=np.array(truthValueManual)\n",
    "truthValueAuto_bin=np.array(truthValueAuto_bin)\n",
    "truthValueManual_bin=np.array(truthValueManual_bin)\n",
    "truthValueAuto_bin_old=np.array(truthValueAuto_bin_old)\n",
    "truthValueManual_bin_old=np.array(truthValueManual_bin_old)\n",
    "\n",
    "print('accuracy cat: {}'.format(em.adjusted_rand_score(truthValueManual,truthValueAuto))),\n",
    "print('Purity cat: {}'.format(em.purity_score(truthValueManual,truthValueAuto))),\n",
    "print('Covergae cat: {}'.format(em.coverage(truthValueManual,truthValueAuto))),\n",
    "print('NMI cat: {}'.format(em.nmi(truthValueManual,truthValueAuto))),\n",
    "print('Recall cat: {}'.format(em.recall(truthValueManual,truthValueAuto,rType='macro'))),\n",
    "print('Precision cat: {}'.format(em.precision(truthValueManual,truthValueAuto,rType='macro'))),\n",
    "print('\\n')    \n",
    "print('accuracy bin: {}'.format(em.adjusted_rand_score(truthValueManual_bin,truthValueAuto_bin)))\n",
    "print('Purity bin: {}'.format(em.purity_score(truthValueManual_bin,truthValueAuto_bin)))\n",
    "print('Coverage bin: {}'.format(em.coverage(truthValueManual_bin,truthValueAuto_bin)))\n",
    "print('NMI bin: {}'.format(em.nmi(truthValueManual_bin,truthValueAuto_bin)))\n",
    "print('Recall bin: {}'.format(em.recall(truthValueManual_bin,truthValueAuto_bin,rType='binary')))\n",
    "print('Precision bin:{}'.format(em.precision(truthValueManual_bin,truthValueAuto_bin,rType='binary')))\n",
    "print('\\n')    \n",
    "print('accuracy bin old: {}'.format(em.adjusted_rand_score(truthValueManual_bin_old,truthValueAuto_bin_old)))\n",
    "print('Purity bin old: {}'.format(em.purity_score(truthValueManual_bin_old,truthValueAuto_bin_old)))\n",
    "print('Coverage bin old: {}'.format(em.coverage(truthValueManual_bin_old,truthValueAuto_bin_old)))\n",
    "print('NMI bin old: {}'.format(em.nmi(truthValueManual_bin_old,truthValueAuto_bin_old)))\n",
    "print('Recall bin old: {}'.format(em.recall(truthValueManual_bin_old,truthValueAuto_bin_old,rType='binary')))\n",
    "print('Precision bin old:{}'.format(em.precision(truthValueManual_bin_old,truthValueAuto_bin_old,rType='binary')))\n",
    "\n",
    "p=em.precision(truthValueManual,truthValueAuto,rType='macro')\n",
    "r=em.recall(truthValueManual_bin,truthValueAuto,rType='macro')\n",
    "m=p*r\n",
    "s=p+r\n",
    "f1=2.0*(m/s)\n",
    "print('f-score cat {}'.format(f1))\n",
    "p=em.precision(truthValueManual_bin,truthValueAuto_bin,rType='binary')\n",
    "r=em.recall(truthValueManual_bin,truthValueAuto_bin,rType='binary')\n",
    "m=p*r\n",
    "s=p+r\n",
    "f1=2.0*(m/s)\n",
    "print('f-score bin {} '.format(f1))\n",
    "p=em.precision(truthValueManual_bin_old,truthValueAuto_bin_old,rType='binary')\n",
    "r=em.recall(truthValueManual_bin_old,truthValueAuto_bin_old,rType='binary')\n",
    "m=p*r\n",
    "s=p+r\n",
    "f1=2.0*(m/s)\n",
    "print('f-score bin old {}'.format(f1))"
   ]
  },
  {
   "cell_type": "code",
   "execution_count": 271,
   "metadata": {},
   "outputs": [],
   "source": [
    "import matplotlib.pylab as plt\n",
    "\n",
    "def drawBoundry(refernceList,hypothesisList,pos1,pos2):\n",
    "    ref=refernceList[pos1:pos2]\n",
    "    hyp=hypothesisList[pos1:pos2]\n",
    "    for segment in ref:\n",
    "        plt.plot([segment, segment], [-10, -0.5], 'r')\n",
    "    for segment in hyp:\n",
    "        plt.plot([segment, segment], [0.5, 10], 'g')\n",
    "    plt.ylim(-11, 11);\n",
    "    plt.xlim(0, segment);\n",
    "    plt.xlabel('Time (seconds)');"
   ]
  },
  {
   "cell_type": "code",
   "execution_count": 107,
   "metadata": {},
   "outputs": [
    {
     "name": "stdout",
     "output_type": "stream",
     "text": [
      "Populating the interactive namespace from numpy and matplotlib\n"
     ]
    },
    {
     "name": "stderr",
     "output_type": "stream",
     "text": [
      "/people/berhe/anaconda3/envs/pyannote/lib/python3.6/site-packages/IPython/core/magics/pylab.py:160: UserWarning: pylab import has clobbered these variables: ['Annotation', 'plt']\n",
      "`%matplotlib` prevents importing * from pylab and numpy\n",
      "  \"\\n`%matplotlib` prevents importing * from pylab and numpy\"\n"
     ]
    }
   ],
   "source": [
    "%pylab inline"
   ]
  },
  {
   "cell_type": "code",
   "execution_count": 108,
   "metadata": {},
   "outputs": [],
   "source": [
    "from pyannote.core import Annotation, Segment"
   ]
  },
  {
   "cell_type": "code",
   "execution_count": 109,
   "metadata": {},
   "outputs": [],
   "source": [
    "import os\n",
    "scenes_dir='/people//berhe/Bureau/TLP_thesis/Scenes/'\n",
    "subtitle_dir='/people/berhe/Bureau//TLP_thesis/subtitles/BB/English/'\n",
    "\n",
    "subtitleFiles=[]\n",
    "for fl in os.listdir(subtitle_dir):\n",
    "    if '.en.srt' in fl:\n",
    "       subtitleFiles.append(fl)\n",
    "\n",
    "scenesegementedFiles=[]\n",
    "for fl in os.listdir(scenes_dir):\n",
    "    if 'Episode' in fl:\n",
    "       scenesegementedFiles.append(fl)\n",
    "    \n",
    "subtitleFiles.sort()\n",
    "scenesegementedFiles.sort()\n",
    "scenesegFile=scenes_dir+scenesegementedFiles[0]\n",
    "subtFile=subtitle_dir+subtitleFiles[0]"
   ]
  },
  {
   "cell_type": "code",
   "execution_count": 110,
   "metadata": {},
   "outputs": [
    {
     "data": {
      "text/plain": [
       "(42, 44)"
      ]
     },
     "execution_count": 110,
     "metadata": {},
     "output_type": "execute_result"
    }
   ],
   "source": [
    "len(sceneTime),len(sc_end)"
   ]
  },
  {
   "cell_type": "code",
   "execution_count": 111,
   "metadata": {},
   "outputs": [],
   "source": [
    "l1=sc_end[0:20]\n",
    "l2=sceneTime[0:20]\n",
    "sceneTimeman=[(sc_end[i]/1000) for i in range(len(sc_end))]"
   ]
  },
  {
   "cell_type": "code",
   "execution_count": 112,
   "metadata": {},
   "outputs": [
    {
     "data": {
      "image/png": "[encoded data removed]",
      "text/plain": [
       "<Figure size 432x288 with 1 Axes>"
      ]
     },
     "metadata": {
      "needs_background": "light"
     },
     "output_type": "display_data"
    }
   ],
   "source": [
    "drawBoundry(shotMakar,sceneTime_auto_bin,0,len(sceneTime_auto_bin))"
   ]
  },
  {
   "cell_type": "code",
   "execution_count": 121,
   "metadata": {},
   "outputs": [
    {
     "data": {
      "text/plain": [
       "48"
      ]
     },
     "execution_count": 121,
     "metadata": {},
     "output_type": "execute_result"
    }
   ],
   "source": [
    "len(sceneTime_auto_bin_old)"
   ]
  },
  {
   "cell_type": "code",
   "execution_count": 119,
   "metadata": {},
   "outputs": [
    {
     "name": "stdout",
     "output_type": "stream",
     "text": [
      "3545.84 2091.2400000000002 2091.2400000000002\n",
      "58.28 31.720000000000002 31.720000000000002\n",
      "114.36 65.36 65.36\n",
      "186.36 108.0 108.0\n",
      "258.52 132.92000000000002 132.92000000000002\n",
      "337.4 153.08 153.08\n",
      "363.96 165.68 165.68\n",
      "391.4 171.48 171.48\n",
      "418.8 198.08 198.08\n",
      "544.44 239.72 239.72\n",
      "557.44 321.68 321.68\n",
      "642.96 336.04 336.04\n",
      "698.8 340.16 340.16\n",
      "822.8 348.28000000000003 348.28000000000003\n",
      "874.16 377.76 377.76\n",
      "1049.72 392.52 392.52\n",
      "1060.84 412.32 412.32\n",
      "1090.92 479.08 479.08\n",
      "1165.68 561.04 561.04\n",
      "1173.64 612.96 612.96\n",
      "1187.4 628.92 628.92\n",
      "1278.8 640.0 640.0\n",
      "1332.16 678.32 678.32\n",
      "1379.84 687.28 687.28\n",
      "1407.6 705.12 705.12\n",
      "1655.88 725.4 725.4\n",
      "1742.88 754.96 754.96\n",
      "1867.6 794.36 794.36\n",
      "1914.36 822.84 822.84\n",
      "2059.96 877.36 877.36\n",
      "2180.28 979.52 979.52\n",
      "2278.32 1004.24 1004.24\n",
      "2327.4 1033.76 1033.76\n",
      "2349.08 1106.3600000000001 1106.3600000000001\n",
      "2516.72 1165.72 1165.72\n",
      "2574.64 1210.32 1210.32\n",
      "2653.36 1276.08 1276.08\n",
      "2683.16 1369.44 1369.44\n",
      "2703.04 1405.76 1405.76\n",
      "2877.2 1426.76 1426.76\n",
      "3198.44 1487.76 1487.76\n",
      "3296.96 1537.32 1537.32\n",
      "3371.44 1569.3600000000001 1569.3600000000001\n",
      "3426.92 1650.04 1650.04\n",
      "3545.84 1949.96 1949.96\n",
      "2091.2400000000002\n",
      "2100.2400000000002\n",
      "2167.7200000000003\n",
      "3501.6\n"
     ]
    }
   ],
   "source": [
    "print(shotMakar[-1],sceneTime_auto_bin_old[-4],sceneTime_auto_bin[-4])\n",
    "for i in range(len(sceneTime_auto_bin)):\n",
    "    try:\n",
    "        print(shotMakar[i],sceneTime_auto_bin_old[i],sceneTime_auto_bin[i])\n",
    "    except:\n",
    "        print (sceneTime_auto_bin_old[i])"
   ]
  },
  {
   "cell_type": "code",
   "execution_count": 79,
   "metadata": {},
   "outputs": [
    {
     "name": "stdout",
     "output_type": "stream",
     "text": [
      "41\n"
     ]
    },
    {
     "data": {
      "image/png": "[encoded data removed]",
      "text/plain": [
       "<pyannote.core.annotation.Annotation at 0x7f2a44bcbe10>"
      ]
     },
     "execution_count": 79,
     "metadata": {},
     "output_type": "execute_result"
    }
   ],
   "source": [
    "hypothesis = Annotation()\n",
    "for i in range(1,len(sceneTime)):\n",
    "    hypothesis[Segment(sceneTime_auto_bin[i-1], sceneTime_auto_bin[i])] = str(i)\n",
    "print(i)\n",
    "hypothesis"
   ]
  },
  {
   "cell_type": "code",
   "execution_count": 75,
   "metadata": {},
   "outputs": [
    {
     "name": "stdout",
     "output_type": "stream",
     "text": [
      "43\n"
     ]
    },
    {
     "data": {
      "image/png": "[encoded data removed]",
      "text/plain": [
       "<pyannote.core.annotation.Annotation at 0x7f2a6c5709e8>"
      ]
     },
     "execution_count": 75,
     "metadata": {},
     "output_type": "execute_result"
    }
   ],
   "source": [
    "reference = Annotation()\n",
    "for i in range(1,len(sc_end)):\n",
    "    reference[Segment(sc_end[i-1]/1000, sc_end[i]/1000)] = str(i)\n",
    "print(i)\n",
    "reference"
   ]
  },
  {
   "cell_type": "code",
   "execution_count": 89,
   "metadata": {},
   "outputs": [
    {
     "name": "stdout",
     "output_type": "stream",
     "text": [
      "[[4, 4]]\n"
     ]
    }
   ],
   "source": [
    "sepPos=sg.segmentation_speakers(predictedsClusters1,7,4)\n",
    "sceneTime=[]\n",
    "for i in sepPos:\n",
    "    sceneTime.append(int(shotEnd[i]))"
   ]
  },
  {
   "cell_type": "code",
   "execution_count": 90,
   "metadata": {},
   "outputs": [
    {
     "data": {
      "text/plain": [
       "39"
      ]
     },
     "execution_count": 90,
     "metadata": {},
     "output_type": "execute_result"
    }
   ],
   "source": [
    "len(sceneTime)"
   ]
  },
  {
   "cell_type": "code",
   "execution_count": 91,
   "metadata": {},
   "outputs": [],
   "source": [
    "sceneTime.insert(0,0.0)"
   ]
  },
  {
   "cell_type": "code",
   "execution_count": 92,
   "metadata": {},
   "outputs": [
    {
     "data": {
      "image/png": "[encoded data removed]",
      "text/plain": [
       "<pyannote.core.annotation.Annotation at 0x7f1076b71630>"
      ]
     },
     "execution_count": 92,
     "metadata": {},
     "output_type": "execute_result"
    }
   ],
   "source": [
    "hypothesis = Annotation()\n",
    "for i in range(1,len(sceneTime)):\n",
    "    hypothesis[Segment(sceneTime[i-1], sceneTime[i])] = str(i)\n",
    "hypothesis"
   ]
  },
  {
   "cell_type": "code",
   "execution_count": 93,
   "metadata": {},
   "outputs": [
    {
     "data": {
      "text/plain": [
       "(106, 202720)"
      ]
     },
     "execution_count": 93,
     "metadata": {},
     "output_type": "execute_result"
    }
   ],
   "source": [
    "sceneTime[2],sc_end[2]"
   ]
  },
  {
   "cell_type": "code",
   "execution_count": 94,
   "metadata": {},
   "outputs": [
    {
     "data": {
      "image/png": "[encoded data removed]",
      "text/plain": [
       "<Figure size 432x288 with 1 Axes>"
      ]
     },
     "metadata": {
      "needs_background": "light"
     },
     "output_type": "display_data"
    }
   ],
   "source": [
    "drawBoundry(sceneTimeman[0:20],sceneTime[0:20],0,20)"
   ]
  },
  {
   "cell_type": "code",
   "execution_count": 117,
   "metadata": {},
   "outputs": [
    {
     "data": {
      "image/png": "[encoded data removed]",
      "text/plain": [
       "<Figure size 432x288 with 1 Axes>"
      ]
     },
     "metadata": {
      "needs_background": "light"
     },
     "output_type": "display_data"
    }
   ],
   "source": [
    "drawBoundry(shotMakar,sceneTime,0,len(shotMakar))"
   ]
  },
  {
   "cell_type": "code",
   "execution_count": 177,
   "metadata": {},
   "outputs": [
    {
     "data": {
      "image/png": "[encoded data removed]",
      "text/plain": [
       "<pyannote.core.annotation.Annotation at 0x7fe7d76ac438>"
      ]
     },
     "execution_count": 177,
     "metadata": {},
     "output_type": "execute_result"
    }
   ],
   "source": [
    "reference"
   ]
  },
  {
   "cell_type": "code",
   "execution_count": 159,
   "metadata": {},
   "outputs": [
    {
     "data": {
      "text/plain": [
       "(29, 30, 810, 810)"
      ]
     },
     "execution_count": 159,
     "metadata": {},
     "output_type": "execute_result"
    }
   ],
   "source": [
    "indx,len(shotMakar),len(truthValueManual_bin),len(shotEnd)"
   ]
  },
  {
   "cell_type": "code",
   "execution_count": 160,
   "metadata": {},
   "outputs": [
    {
     "data": {
      "text/plain": [
       "810"
      ]
     },
     "execution_count": 160,
     "metadata": {},
     "output_type": "execute_result"
    }
   ],
   "source": [
    "len(truthValueAuto)"
   ]
  },
  {
   "cell_type": "code",
   "execution_count": 162,
   "metadata": {},
   "outputs": [
    {
     "data": {
      "text/plain": [
       "(29, 30, 810, 810)"
      ]
     },
     "execution_count": 162,
     "metadata": {},
     "output_type": "execute_result"
    }
   ],
   "source": [
    "indx,len(shotMakar),len(truthValueManual),len(shotEnd)"
   ]
  },
  {
   "cell_type": "code",
   "execution_count": 163,
   "metadata": {},
   "outputs": [
    {
     "name": "stdout",
     "output_type": "stream",
     "text": [
      "[1, 1, 1, 1, 1, 1, 1, 1, 1, 1, 1, 1, 1, 1, 1, 1, 1, 1, 1, 1, 1, 1, 1, 1, 1, 1, 1, 1, 1, 1, 1, 1, 1, 1, 1, 1, 1, 1, 1, 1, 1, 1, 1, 1, 1, 1, 1, 1, 1, 1, 1, 1, 1, 1, 1, 1, 1, 0, 1, 1, 0, 1, 1, 1, 1, 1, 1, 1, 1, 1, 1, 1, 0, 1, 1, 1, 1, 1, 1, 1, 1, 1, 1, 1, 1, 1, 1, 1, 1, 1, 1, 1, 1, 1, 1, 1, 1, 1, 1, 1, 1, 1, 1, 1, 1, 0, 1, 1, 1, 1, 1, 1, 1, 1, 1, 1, 1, 1, 1, 1, 1, 1, 1, 1, 1, 1, 0, 1, 1, 1, 1, 1, 1, 1, 0, 1, 1, 1, 1, 1, 0, 1, 1, 1, 1, 1, 1, 1, 0, 1, 1, 1, 1, 1, 1, 1, 1, 1, 1, 1, 1, 1, 1, 1, 1, 1, 1, 1, 1, 1, 1, 1, 1, 1, 1, 1, 1, 1, 1, 1, 1, 1, 1, 1, 1, 1, 1, 1, 1, 1, 0, 1, 0, 1, 1, 1, 1, 1, 1, 0, 1, 1, 1, 1, 1, 1, 1, 1, 1, 1, 1, 1, 1, 1, 1, 1, 0, 0, 1, 1, 1, 1, 1, 1, 1, 1, 1, 0, 1, 1, 1, 1, 1, 1, 1, 0, 1, 1, 1, 1, 1, 1, 1, 1, 1, 0, 1, 1, 1, 0, 1, 1, 1, 1, 1, 1, 1, 1, 1, 1, 1, 1, 1, 1, 1, 1, 1, 1, 1, 1, 1, 1, 1, 1, 1, 1, 1, 1, 1, 1, 1, 1, 1, 1, 1, 1, 1, 1, 1, 1, 1, 1, 1, 1, 1, 1, 1, 1, 1, 1, 1, 1, 1, 1, 1, 1, 1, 1, 1, 1, 1, 1, 1, 1, 1, 1, 1, 1, 1, 1, 1, 1, 1, 1, 1, 1, 1, 1, 1, 1, 0, 1, 1, 1, 1, 1, 1, 1, 1, 1, 1, 1, 1, 1, 1, 1, 1, 1, 1, 1, 1, 1, 1, 1, 1, 1, 1, 1, 1, 1, 1, 1, 1, 1, 1, 1, 1, 1, 1, 1, 1, 1, 1, 1, 0, 1, 1, 1, 1, 1, 1, 1, 1, 1, 1, 1, 1, 1, 1, 1, 1, 1, 1, 1, 1, 1, 1, 1, 1, 1, 0, 1, 1, 1, 0, 1, 1, 1, 1, 1, 1, 1, 1, 1, 1, 1, 1, 1, 1, 1, 1, 1, 1, 1, 1, 1, 1, 1, 1, 1, 1, 1, 1, 1, 1, 1, 1, 1, 1, 1, 1, 1, 1, 1, 1, 1, 1, 1, 0, 1, 1, 1, 1, 1, 1, 1, 1, 1, 1, 1, 1, 1, 1, 1, 1, 1, 1, 1, 1, 1, 1, 0, 1, 1, 1, 1, 1, 1, 1, 1, 1, 1, 1, 1, 1, 1, 1, 1, 1, 1, 1, 1, 1, 1, 1, 1, 1, 1, 1, 1, 1, 1, 1, 1, 1, 0, 1, 1, 1, 1, 1, 1, 1, 1, 1, 1, 1, 1, 1, 1, 1, 1, 1, 1, 1, 1, 1, 1, 1, 1, 1, 1, 1, 1, 1, 1, 1, 1, 1, 1, 1, 1, 1, 1, 1, 1, 1, 1, 1, 1, 1, 1, 1, 1, 1, 1, 1, 1, 1, 1, 1, 1, 1, 1, 1, 1, 1, 1, 1, 1, 1, 1, 1, 1, 1, 1, 1, 1, 1, 1, 1, 1, 1, 1, 1, 1, 1, 1, 1, 1, 1, 1, 1, 1, 1, 1, 0, 1, 1, 1, 1, 1, 1, 1, 1, 1, 1, 1, 1, 1, 1, 1, 1, 1, 1, 1, 1, 1, 1, 1, 1, 1, 1, 1, 1, 1, 1, 1, 1, 1, 1, 1, 1, 1, 1, 1, 1, 1, 1, 1, 1, 0, 1, 1, 1, 1, 1, 1, 1, 1, 1, 1, 1, 1, 1, 1, 1, 1, 1, 1, 1, 1, 1, 1, 1, 1, 1, 1, 1, 1, 1, 1, 1, 1, 1, 1, 1, 1, 1, 1, 0, 1, 1, 1, 1, 1, 1, 1, 1, 1, 1, 1, 1, 1, 1, 1, 1, 1, 1, 1, 1, 1, 1, 1, 1, 1, 1, 1, 1, 1, 1, 1, 1, 1, 1, 1, 1, 1, 1, 1, 1, 1, 1, 1, 1, 1, 1, 1, 1, 1, 1, 1, 1, 1, 1, 1, 1, 1, 1, 1, 1, 1, 1, 1, 1, 1, 1, 1, 1, 1, 1, 1, 1, 1, 1, 1, 1, 1, 1, 1, 1, 1, 0, 1, 1, 1, 0, 1, 1, 1, 1, 1, 1, 1, 1, 1, 1, 1, 1, 1, 1, 1, 1, 1, 1, 1, 1, 1, 1, 1, 1, 1, 1, 1, 1, 1, 1, 1, 1, 1, 1, 1, 1, 1, 1, 1, 1, 1, 1, 1]\n"
     ]
    }
   ],
   "source": [
    "print(truthValueManual_bin)"
   ]
  },
  {
   "cell_type": "code",
   "execution_count": 164,
   "metadata": {},
   "outputs": [
    {
     "data": {
      "text/plain": [
       "(219.6, 6.48)"
      ]
     },
     "execution_count": 164,
     "metadata": {},
     "output_type": "execute_result"
    }
   ],
   "source": [
    "shotMakar[0],shotEnd[0]"
   ]
  },
  {
   "cell_type": "code",
   "execution_count": 58,
   "metadata": {},
   "outputs": [],
   "source": [
    "from collections import deque\n",
    "from itertools import combinations\n",
    "import cv2\n",
    "import networkx as nx\n",
    "from pyannote.core import Annotation\n",
    "from tqdm import tqdm\n",
    "import warnings\n",
    "from pyannote.video import Shot, Thread\n",
    "import itertools\n",
    "from string import ascii_uppercase"
   ]
  },
  {
   "cell_type": "code",
   "execution_count": 59,
   "metadata": {},
   "outputs": [],
   "source": [
    "def pairwise(iterable):\n",
    "    \"s -> (s0,s1), (s1,s2), (s2, s3), ...\"\n",
    "    a, b = itertools.tee(iterable)\n",
    "    next(b, None)\n",
    "    return zip(a, b)\n",
    "def string_generator(skip=[]):\n",
    "\n",
    "    # label length\n",
    "    r = 1\n",
    "\n",
    "    # infinite loop\n",
    "    while True:\n",
    "\n",
    "        # generate labels with current length\n",
    "        for c in itertools.product(ascii_uppercase, repeat=r):\n",
    "            if c in skip:\n",
    "                continue\n",
    "            yield ''.join(c)\n",
    "\n",
    "        # increment label length when all possibilities are exhausted\n",
    "        r = r + 1"
   ]
  },
  {
   "cell_type": "code",
   "execution_count": 76,
   "metadata": {},
   "outputs": [],
   "source": [
    "def scenesTransition(threads):\n",
    "\n",
    "    g = nx.Graph()\n",
    "\n",
    "    # connect adjacent shots\n",
    "    for shot1, shot2 in pairwise(threads):\n",
    "        g.add_edge(shot1, shot2)\n",
    "\n",
    "    \"\"\"# connect threaded shots\n",
    "    for label in threads.labels():\n",
    "        for shot1, shot2 in pairwise(threads.subset([label]).itertracks()):\n",
    "            g.add_edge(shot1, shot2)\"\"\"\n",
    "\n",
    "    scenes = threads.copy()\n",
    "\n",
    "    # group all shots of intertwined threads\n",
    "    for shots in sorted(sorted(bc) for bc in nx.biconnected_components(g)):\n",
    "\n",
    "        if len(shots) < 3:\n",
    "            continue\n",
    "\n",
    "        common_label = scenes[shots[0]]\n",
    "        for shot in shots:\n",
    "            scenes[shot] = common_label\n",
    "\n",
    "    return scenes,g"
   ]
  },
  {
   "cell_type": "code",
   "execution_count": 77,
   "metadata": {},
   "outputs": [],
   "source": [
    "pairs=pairwise(predictedsClusters1)\n",
    "pairunique=set(predictedsClusters1)"
   ]
  },
  {
   "cell_type": "code",
   "execution_count": 66,
   "metadata": {},
   "outputs": [],
   "source": [
    "pairsString=string_generator(predictedsClusters1)\n",
    "pairunique=string_generator(pairunique)"
   ]
  },
  {
   "cell_type": "code",
   "execution_count": 61,
   "metadata": {},
   "outputs": [
    {
     "name": "stdout",
     "output_type": "stream",
     "text": [
      "<generator object string_generator at 0x7fbf1defe150>\n"
     ]
    }
   ],
   "source": [
    "print(pairsString)"
   ]
  },
  {
   "cell_type": "code",
   "execution_count": 71,
   "metadata": {},
   "outputs": [
    {
     "name": "stdout",
     "output_type": "stream",
     "text": [
      "(33, 33)\n",
      "(33, 4)\n",
      "(4, 4)\n",
      "(4, 4)\n",
      "(4, 4)\n",
      "(4, 14)\n",
      "(14, 4)\n",
      "(4, 4)\n",
      "(4, 4)\n",
      "(4, 4)\n",
      "(4, 4)\n",
      "(4, 4)\n",
      "(4, 18)\n",
      "(18, 18)\n",
      "(18, 18)\n",
      "(18, 14)\n",
      "(14, 18)\n",
      "(18, 14)\n",
      "(14, 7)\n",
      "(7, 30)\n",
      "(30, 18)\n",
      "(18, 18)\n",
      "(18, 18)\n",
      "(18, 14)\n",
      "(14, 14)\n",
      "(14, 14)\n",
      "(14, 14)\n",
      "(14, 14)\n",
      "(14, 14)\n",
      "(14, 18)\n",
      "(18, 14)\n",
      "(14, 14)\n",
      "(14, 18)\n",
      "(18, 14)\n",
      "(14, 18)\n",
      "(18, 18)\n",
      "(18, 18)\n",
      "(18, 14)\n",
      "(14, 30)\n",
      "(30, 7)\n",
      "(7, 18)\n",
      "(18, 1)\n",
      "(1, 7)\n",
      "(7, 1)\n",
      "(1, 25)\n",
      "(25, 30)\n",
      "(30, 7)\n",
      "(7, 18)\n",
      "(18, 7)\n",
      "(7, 18)\n",
      "(18, 7)\n",
      "(7, 7)\n",
      "(7, 30)\n",
      "(30, 30)\n",
      "(30, 30)\n",
      "(30, 30)\n",
      "(30, 30)\n",
      "(30, 30)\n",
      "(30, 20)\n",
      "(20, 1)\n",
      "(1, 1)\n",
      "(1, 7)\n",
      "(7, 1)\n",
      "(1, 7)\n",
      "(7, 5)\n",
      "(5, 20)\n",
      "(20, 7)\n",
      "(7, 38)\n",
      "(38, 1)\n",
      "(1, 20)\n",
      "(20, 3)\n",
      "(3, 26)\n",
      "(26, 1)\n",
      "(1, 20)\n",
      "(20, 1)\n",
      "(1, 12)\n",
      "(12, 5)\n",
      "(5, 28)\n",
      "(28, 10)\n",
      "(10, 27)\n",
      "(27, 26)\n",
      "(26, 20)\n",
      "(20, 35)\n",
      "(35, 26)\n",
      "(26, 35)\n",
      "(35, 3)\n",
      "(3, 35)\n",
      "(35, 20)\n",
      "(20, 35)\n",
      "(35, 20)\n",
      "(20, 35)\n",
      "(35, 10)\n",
      "(10, 38)\n",
      "(38, 26)\n",
      "(26, 32)\n",
      "(32, 8)\n",
      "(8, 3)\n",
      "(3, 21)\n",
      "(21, 32)\n",
      "(32, 32)\n",
      "(32, 11)\n",
      "(11, 32)\n",
      "(32, 32)\n",
      "(32, 3)\n",
      "(3, 20)\n",
      "(20, 3)\n",
      "(3, 26)\n",
      "(26, 26)\n",
      "(26, 26)\n",
      "(26, 21)\n",
      "(21, 26)\n",
      "(26, 20)\n",
      "(20, 5)\n",
      "(5, 38)\n",
      "(38, 35)\n",
      "(35, 38)\n",
      "(38, 12)\n",
      "(12, 38)\n",
      "(38, 20)\n",
      "(20, 20)\n",
      "(20, 20)\n",
      "(20, 35)\n",
      "(35, 20)\n",
      "(20, 20)\n",
      "(20, 12)\n",
      "(12, 27)\n",
      "(27, 12)\n",
      "(12, 15)\n",
      "(15, 15)\n",
      "(15, 37)\n",
      "(37, 22)\n",
      "(22, 25)\n",
      "(25, 13)\n",
      "(13, 38)\n",
      "(38, 13)\n",
      "(13, 13)\n",
      "(13, 25)\n",
      "(25, 22)\n",
      "(22, 26)\n",
      "(26, 9)\n",
      "(9, 22)\n",
      "(22, 22)\n",
      "(22, 26)\n",
      "(26, 37)\n",
      "(37, 38)\n",
      "(38, 13)\n",
      "(13, 11)\n",
      "(11, 9)\n",
      "(9, 9)\n",
      "(9, 11)\n",
      "(11, 13)\n",
      "(13, 32)\n",
      "(32, 38)\n",
      "(38, 37)\n",
      "(37, 15)\n",
      "(15, 15)\n",
      "(15, 15)\n",
      "(15, 15)\n",
      "(15, 15)\n",
      "(15, 32)\n",
      "(32, 11)\n",
      "(11, 9)\n",
      "(9, 22)\n",
      "(22, 13)\n",
      "(13, 10)\n",
      "(10, 10)\n",
      "(10, 10)\n",
      "(10, 25)\n",
      "(25, 10)\n",
      "(10, 10)\n",
      "(10, 37)\n",
      "(37, 22)\n",
      "(22, 28)\n",
      "(28, 10)\n",
      "(10, 10)\n",
      "(10, 31)\n",
      "(31, 10)\n",
      "(10, 22)\n",
      "(22, 22)\n",
      "(22, 5)\n",
      "(5, 22)\n",
      "(22, 22)\n",
      "(22, 38)\n",
      "(38, 35)\n",
      "(35, 27)\n",
      "(27, 5)\n",
      "(5, 26)\n",
      "(26, 38)\n",
      "(38, 22)\n",
      "(22, 10)\n",
      "(10, 39)\n",
      "(39, 5)\n",
      "(5, 37)\n",
      "(37, 39)\n",
      "(39, 38)\n",
      "(38, 37)\n",
      "(37, 37)\n",
      "(37, 10)\n",
      "(10, 38)\n",
      "(38, 10)\n",
      "(10, 38)\n",
      "(38, 10)\n",
      "(10, 5)\n",
      "(5, 10)\n",
      "(10, 38)\n",
      "(38, 38)\n",
      "(38, 22)\n",
      "(22, 38)\n",
      "(38, 17)\n",
      "(17, 5)\n",
      "(5, 10)\n",
      "(10, 22)\n",
      "(22, 38)\n",
      "(38, 27)\n",
      "(27, 37)\n",
      "(37, 37)\n",
      "(37, 9)\n",
      "(9, 38)\n",
      "(38, 17)\n",
      "(17, 27)\n",
      "(27, 37)\n",
      "(37, 9)\n",
      "(9, 11)\n",
      "(11, 5)\n",
      "(5, 12)\n",
      "(12, 10)\n",
      "(10, 5)\n",
      "(5, 12)\n",
      "(12, 22)\n",
      "(22, 22)\n",
      "(22, 22)\n",
      "(22, 22)\n",
      "(22, 12)\n",
      "(12, 10)\n",
      "(10, 12)\n",
      "(12, 17)\n",
      "(17, 13)\n",
      "(13, 37)\n",
      "(37, 39)\n",
      "(39, 9)\n",
      "(9, 37)\n",
      "(37, 9)\n",
      "(9, 22)\n",
      "(22, 10)\n",
      "(10, 9)\n",
      "(9, 22)\n",
      "(22, 22)\n",
      "(22, 22)\n",
      "(22, 39)\n",
      "(39, 37)\n",
      "(37, 22)\n",
      "(22, 5)\n",
      "(5, 39)\n",
      "(39, 12)\n",
      "(12, 37)\n",
      "(37, 24)\n",
      "(24, 13)\n",
      "(13, 39)\n",
      "(39, 28)\n",
      "(28, 37)\n",
      "(37, 22)\n",
      "(22, 5)\n",
      "(5, 28)\n",
      "(28, 12)\n",
      "(12, 28)\n",
      "(28, 12)\n",
      "(12, 28)\n",
      "(28, 12)\n",
      "(12, 28)\n",
      "(28, 5)\n",
      "(5, 28)\n",
      "(28, 27)\n",
      "(27, 28)\n",
      "(28, 13)\n",
      "(13, 9)\n",
      "(9, 19)\n",
      "(19, 9)\n",
      "(9, 8)\n",
      "(8, 17)\n",
      "(17, 27)\n",
      "(27, 28)\n",
      "(28, 19)\n",
      "(19, 27)\n",
      "(27, 12)\n",
      "(12, 27)\n",
      "(27, 31)\n",
      "(31, 17)\n",
      "(17, 27)\n",
      "(27, 13)\n",
      "(13, 27)\n",
      "(27, 31)\n",
      "(31, 12)\n",
      "(12, 17)\n",
      "(17, 13)\n",
      "(13, 17)\n",
      "(17, 31)\n",
      "(31, 39)\n",
      "(39, 39)\n",
      "(39, 31)\n",
      "(31, 31)\n",
      "(31, 17)\n",
      "(17, 37)\n",
      "(37, 13)\n",
      "(13, 39)\n",
      "(39, 39)\n",
      "(39, 17)\n",
      "(17, 19)\n",
      "(19, 19)\n",
      "(19, 39)\n",
      "(39, 9)\n",
      "(9, 17)\n",
      "(17, 31)\n",
      "(31, 34)\n",
      "(34, 31)\n",
      "(31, 31)\n",
      "(31, 19)\n",
      "(19, 8)\n",
      "(8, 13)\n",
      "(13, 27)\n",
      "(27, 29)\n",
      "(29, 31)\n",
      "(31, 31)\n",
      "(31, 13)\n",
      "(13, 24)\n",
      "(24, 39)\n",
      "(39, 27)\n",
      "(27, 19)\n",
      "(19, 11)\n",
      "(11, 11)\n",
      "(11, 9)\n",
      "(9, 38)\n",
      "(38, 13)\n",
      "(13, 11)\n",
      "(11, 11)\n",
      "(11, 13)\n",
      "(13, 32)\n",
      "(32, 8)\n",
      "(8, 21)\n",
      "(21, 21)\n",
      "(21, 32)\n",
      "(32, 21)\n",
      "(21, 21)\n",
      "(21, 21)\n",
      "(21, 11)\n",
      "(11, 21)\n",
      "(21, 21)\n",
      "(21, 21)\n",
      "(21, 11)\n",
      "(11, 21)\n",
      "(21, 21)\n",
      "(21, 32)\n",
      "(32, 21)\n",
      "(21, 29)\n",
      "(29, 8)\n",
      "(8, 11)\n",
      "(11, 15)\n",
      "(15, 8)\n",
      "(8, 13)\n",
      "(13, 15)\n",
      "(15, 8)\n",
      "(8, 11)\n",
      "(11, 11)\n",
      "(11, 19)\n",
      "(19, 19)\n",
      "(19, 19)\n",
      "(19, 19)\n",
      "(19, 34)\n",
      "(34, 24)\n",
      "(24, 34)\n",
      "(34, 0)\n",
      "(0, 34)\n",
      "(34, 24)\n",
      "(24, 34)\n",
      "(34, 24)\n",
      "(24, 34)\n",
      "(34, 8)\n",
      "(8, 29)\n",
      "(29, 32)\n",
      "(32, 0)\n",
      "(0, 8)\n",
      "(8, 0)\n",
      "(0, 29)\n",
      "(29, 29)\n",
      "(29, 11)\n",
      "(11, 32)\n",
      "(32, 6)\n",
      "(6, 11)\n",
      "(11, 21)\n",
      "(21, 11)\n",
      "(11, 8)\n",
      "(8, 8)\n",
      "(8, 15)\n",
      "(15, 36)\n",
      "(36, 15)\n",
      "(15, 8)\n",
      "(8, 29)\n",
      "(29, 0)\n",
      "(0, 6)\n",
      "(6, 31)\n",
      "(31, 8)\n",
      "(8, 0)\n",
      "(0, 8)\n",
      "(8, 11)\n",
      "(11, 8)\n",
      "(8, 0)\n",
      "(0, 34)\n",
      "(34, 24)\n",
      "(24, 19)\n",
      "(19, 21)\n",
      "(21, 31)\n",
      "(31, 19)\n",
      "(19, 32)\n",
      "(32, 24)\n",
      "(24, 34)\n",
      "(34, 24)\n",
      "(24, 29)\n",
      "(29, 19)\n",
      "(19, 15)\n",
      "(15, 36)\n",
      "(36, 6)\n",
      "(6, 32)\n",
      "(32, 11)\n",
      "(11, 36)\n",
      "(36, 29)\n",
      "(29, 34)\n",
      "(34, 32)\n",
      "(32, 19)\n",
      "(19, 19)\n",
      "(19, 11)\n",
      "(11, 31)\n",
      "(31, 32)\n",
      "(32, 34)\n",
      "(34, 31)\n",
      "(31, 19)\n",
      "(19, 32)\n",
      "(32, 19)\n",
      "(19, 11)\n",
      "(11, 29)\n",
      "(29, 32)\n",
      "(32, 0)\n",
      "(0, 21)\n",
      "(21, 32)\n",
      "(32, 29)\n",
      "(29, 32)\n",
      "(32, 19)\n",
      "(19, 21)\n",
      "(21, 32)\n",
      "(32, 32)\n",
      "(32, 0)\n",
      "(0, 8)\n",
      "(8, 0)\n",
      "(0, 19)\n",
      "(19, 0)\n",
      "(0, 19)\n",
      "(19, 29)\n",
      "(29, 32)\n",
      "(32, 24)\n",
      "(24, 32)\n",
      "(32, 24)\n",
      "(24, 8)\n",
      "(8, 34)\n",
      "(34, 24)\n",
      "(24, 11)\n",
      "(11, 24)\n",
      "(24, 19)\n",
      "(19, 31)\n",
      "(31, 19)\n",
      "(19, 24)\n",
      "(24, 19)\n",
      "(19, 17)\n",
      "(17, 34)\n",
      "(34, 24)\n",
      "(24, 29)\n",
      "(29, 31)\n",
      "(31, 0)\n",
      "(0, 0)\n",
      "(0, 29)\n",
      "(29, 32)\n",
      "(32, 19)\n",
      "(19, 32)\n",
      "(32, 32)\n",
      "(32, 29)\n",
      "(29, 29)\n",
      "(29, 8)\n",
      "(8, 0)\n",
      "(0, 24)\n",
      "(24, 0)\n",
      "(0, 31)\n",
      "(31, 0)\n",
      "(0, 29)\n",
      "(29, 32)\n",
      "(32, 0)\n",
      "(0, 19)\n",
      "(19, 29)\n",
      "(29, 29)\n",
      "(29, 32)\n",
      "(32, 32)\n",
      "(32, 8)\n",
      "(8, 31)\n",
      "(31, 31)\n",
      "(31, 31)\n",
      "(31, 31)\n",
      "(31, 0)\n",
      "(0, 34)\n",
      "(34, 8)\n",
      "(8, 8)\n",
      "(8, 11)\n",
      "(11, 19)\n",
      "(19, 34)\n",
      "(34, 29)\n",
      "(29, 32)\n",
      "(32, 0)\n",
      "(0, 36)\n",
      "(36, 36)\n",
      "(36, 36)\n",
      "(36, 36)\n",
      "(36, 29)\n",
      "(29, 6)\n",
      "(6, 6)\n",
      "(6, 6)\n",
      "(6, 36)\n",
      "(36, 6)\n",
      "(6, 2)\n",
      "(2, 36)\n",
      "(36, 6)\n",
      "(6, 36)\n",
      "(36, 6)\n",
      "(6, 2)\n",
      "(2, 2)\n",
      "(2, 8)\n",
      "(8, 29)\n",
      "(29, 2)\n",
      "(2, 2)\n",
      "(2, 36)\n",
      "(36, 29)\n",
      "(29, 29)\n",
      "(29, 29)\n",
      "(29, 8)\n",
      "(8, 32)\n",
      "(32, 8)\n",
      "(8, 36)\n",
      "(36, 2)\n",
      "(2, 6)\n",
      "(6, 6)\n",
      "(6, 8)\n",
      "(8, 8)\n",
      "(8, 36)\n",
      "(36, 36)\n",
      "(36, 8)\n",
      "(8, 6)\n",
      "(6, 32)\n",
      "(32, 2)\n",
      "(2, 2)\n",
      "(2, 6)\n",
      "(6, 16)\n",
      "(16, 36)\n",
      "(36, 6)\n",
      "(6, 36)\n",
      "(36, 36)\n",
      "(36, 36)\n",
      "(36, 2)\n",
      "(2, 36)\n",
      "(36, 36)\n",
      "(36, 2)\n",
      "(2, 8)\n",
      "(8, 36)\n",
      "(36, 36)\n",
      "(36, 36)\n",
      "(36, 32)\n",
      "(32, 6)\n",
      "(6, 8)\n",
      "(8, 6)\n",
      "(6, 6)\n",
      "(6, 8)\n",
      "(8, 32)\n",
      "(32, 32)\n",
      "(32, 8)\n",
      "(8, 29)\n",
      "(29, 29)\n",
      "(29, 8)\n",
      "(8, 29)\n",
      "(29, 32)\n",
      "(32, 29)\n",
      "(29, 32)\n",
      "(32, 32)\n",
      "(32, 8)\n",
      "(8, 32)\n",
      "(32, 8)\n",
      "(8, 8)\n",
      "(8, 36)\n",
      "(36, 6)\n",
      "(6, 8)\n",
      "(8, 8)\n",
      "(8, 8)\n",
      "(8, 8)\n",
      "(8, 8)\n",
      "(8, 8)\n",
      "(8, 29)\n",
      "(29, 8)\n",
      "(8, 29)\n",
      "(29, 8)\n",
      "(8, 8)\n",
      "(8, 36)\n",
      "(36, 6)\n",
      "(6, 32)\n",
      "(32, 16)\n",
      "(16, 16)\n",
      "(16, 8)\n",
      "(8, 0)\n",
      "(0, 0)\n",
      "(0, 8)\n",
      "(8, 29)\n",
      "(29, 15)\n",
      "(15, 21)\n",
      "(21, 0)\n",
      "(0, 24)\n",
      "(24, 8)\n",
      "(8, 32)\n",
      "(32, 15)\n",
      "(15, 32)\n",
      "(32, 8)\n",
      "(8, 0)\n",
      "(0, 15)\n",
      "(15, 8)\n",
      "(8, 8)\n",
      "(8, 36)\n",
      "(36, 8)\n",
      "(8, 32)\n",
      "(32, 6)\n",
      "(6, 16)\n",
      "(16, 29)\n",
      "(29, 16)\n",
      "(16, 8)\n",
      "(8, 32)\n",
      "(32, 8)\n",
      "(8, 8)\n",
      "(8, 0)\n",
      "(0, 36)\n",
      "(36, 36)\n",
      "(36, 8)\n",
      "(8, 36)\n",
      "(36, 29)\n",
      "(29, 29)\n",
      "(29, 29)\n",
      "(29, 29)\n",
      "(29, 6)\n",
      "(6, 8)\n",
      "(8, 29)\n",
      "(29, 6)\n",
      "(6, 6)\n",
      "(6, 6)\n",
      "(6, 6)\n",
      "(6, 2)\n",
      "(2, 2)\n",
      "(2, 2)\n",
      "(2, 6)\n",
      "(6, 36)\n",
      "(36, 36)\n",
      "(36, 6)\n",
      "(6, 36)\n",
      "(36, 16)\n",
      "(16, 36)\n",
      "(36, 2)\n",
      "(2, 2)\n",
      "(2, 36)\n",
      "(36, 16)\n",
      "(16, 2)\n",
      "(2, 2)\n",
      "(2, 36)\n",
      "(36, 16)\n",
      "(16, 36)\n",
      "(36, 2)\n",
      "(2, 6)\n",
      "(6, 16)\n",
      "(16, 16)\n",
      "(16, 2)\n",
      "(2, 2)\n",
      "(2, 36)\n",
      "(36, 2)\n",
      "(2, 16)\n",
      "(16, 16)\n",
      "(16, 16)\n",
      "(16, 36)\n",
      "(36, 36)\n",
      "(36, 2)\n",
      "(2, 2)\n",
      "(2, 2)\n",
      "(2, 36)\n",
      "(36, 36)\n",
      "(36, 36)\n",
      "(36, 2)\n",
      "(2, 36)\n",
      "(36, 2)\n",
      "(2, 2)\n",
      "(2, 2)\n",
      "(2, 36)\n",
      "(36, 16)\n",
      "(16, 36)\n",
      "(36, 16)\n",
      "(16, 16)\n",
      "(16, 2)\n",
      "(2, 2)\n",
      "(2, 2)\n",
      "(2, 2)\n",
      "(2, 6)\n",
      "(6, 16)\n",
      "(16, 16)\n",
      "(16, 2)\n",
      "(2, 2)\n",
      "(2, 2)\n",
      "(2, 36)\n",
      "(36, 36)\n",
      "(36, 36)\n",
      "(36, 16)\n",
      "(16, 16)\n",
      "(16, 2)\n",
      "(2, 16)\n",
      "(16, 16)\n",
      "(16, 16)\n",
      "(16, 16)\n",
      "(16, 16)\n",
      "(16, 16)\n",
      "(16, 2)\n",
      "(2, 16)\n",
      "(16, 2)\n",
      "(2, 2)\n",
      "(2, 2)\n",
      "(2, 16)\n",
      "(16, 16)\n",
      "(16, 36)\n",
      "(36, 36)\n",
      "(36, 6)\n",
      "(6, 2)\n",
      "(2, 2)\n",
      "(2, 2)\n",
      "(2, 36)\n",
      "(36, 2)\n",
      "(2, 2)\n",
      "(2, 36)\n",
      "(36, 36)\n",
      "(36, 36)\n",
      "(36, 36)\n",
      "(36, 36)\n",
      "(36, 36)\n",
      "(36, 36)\n",
      "(36, 2)\n",
      "(2, 6)\n",
      "(6, 36)\n",
      "(36, 36)\n",
      "(36, 36)\n",
      "(36, 16)\n",
      "(16, 36)\n",
      "(36, 2)\n",
      "(2, 2)\n",
      "(2, 36)\n",
      "(36, 36)\n",
      "(36, 16)\n",
      "(16, 16)\n",
      "(16, 2)\n",
      "(2, 2)\n",
      "(2, 16)\n",
      "(16, 16)\n",
      "(16, 16)\n",
      "(16, 16)\n",
      "(16, 2)\n",
      "(2, 16)\n",
      "(16, 36)\n",
      "(36, 16)\n",
      "(16, 2)\n",
      "(2, 2)\n",
      "(2, 2)\n",
      "(2, 36)\n",
      "(36, 2)\n",
      "(2, 2)\n",
      "(2, 2)\n",
      "(2, 2)\n",
      "(2, 2)\n",
      "(2, 16)\n",
      "(16, 16)\n",
      "(16, 36)\n",
      "(36, 16)\n",
      "(16, 16)\n",
      "(16, 16)\n",
      "(16, 16)\n",
      "(16, 2)\n",
      "(2, 16)\n",
      "(16, 16)\n",
      "(16, 16)\n",
      "(16, 36)\n",
      "(36, 2)\n",
      "(2, 2)\n",
      "(2, 2)\n",
      "(2, 2)\n",
      "(2, 2)\n",
      "(2, 2)\n",
      "(2, 2)\n",
      "(2, 16)\n",
      "(16, 2)\n",
      "(2, 36)\n",
      "(36, 16)\n",
      "(16, 2)\n",
      "(2, 6)\n",
      "(6, 2)\n",
      "(2, 6)\n",
      "(6, 16)\n",
      "(16, 36)\n",
      "(36, 2)\n",
      "(2, 29)\n",
      "(29, 6)\n",
      "(6, 6)\n",
      "(6, 6)\n",
      "(6, 2)\n",
      "(2, 36)\n",
      "(36, 2)\n",
      "(2, 16)\n",
      "(16, 6)\n",
      "(6, 6)\n",
      "(6, 36)\n",
      "(36, 8)\n",
      "(8, 6)\n",
      "(6, 32)\n",
      "(32, 8)\n",
      "(8, 16)\n",
      "(16, 6)\n",
      "(6, 16)\n",
      "(16, 16)\n",
      "(16, 6)\n",
      "(6, 36)\n",
      "(36, 2)\n",
      "(2, 6)\n",
      "(6, 2)\n",
      "(2, 6)\n",
      "(6, 36)\n",
      "(36, 16)\n",
      "(16, 16)\n",
      "(16, 8)\n",
      "(8, 6)\n",
      "(6, 36)\n",
      "(36, 16)\n",
      "(16, 36)\n",
      "(36, 16)\n",
      "(16, 6)\n",
      "(6, 2)\n",
      "(2, 16)\n",
      "(16, 36)\n",
      "(36, 36)\n",
      "(36, 2)\n",
      "(2, 6)\n",
      "(6, 8)\n",
      "(8, 2)\n",
      "(2, 2)\n",
      "(2, 2)\n",
      "(2, 16)\n",
      "(16, 6)\n",
      "(6, 8)\n",
      "(8, 16)\n",
      "(16, 36)\n",
      "(36, 2)\n",
      "(2, 6)\n",
      "(6, 6)\n",
      "(6, 2)\n",
      "(2, 6)\n",
      "(6, 2)\n",
      "(2, 36)\n",
      "(36, 36)\n",
      "(36, 36)\n",
      "(36, 6)\n",
      "(6, 6)\n",
      "(6, 8)\n",
      "(8, 36)\n",
      "(36, 16)\n",
      "(16, 2)\n",
      "(2, 36)\n",
      "(36, 6)\n",
      "(6, 36)\n",
      "(36, 16)\n",
      "(16, 36)\n",
      "(36, 2)\n",
      "(2, 8)\n",
      "(8, 6)\n",
      "(6, 6)\n",
      "(6, 6)\n",
      "(6, 36)\n",
      "(36, 36)\n",
      "(36, 36)\n",
      "(36, 6)\n",
      "(6, 2)\n",
      "(2, 36)\n",
      "(36, 36)\n",
      "(36, 6)\n",
      "(6, 6)\n",
      "(6, 6)\n",
      "(6, 36)\n",
      "(36, 8)\n",
      "(8, 2)\n",
      "(2, 36)\n",
      "(36, 16)\n",
      "(16, 36)\n",
      "(36, 2)\n",
      "(2, 16)\n",
      "(16, 2)\n",
      "(2, 16)\n",
      "(16, 2)\n",
      "(2, 6)\n",
      "(6, 2)\n",
      "(2, 36)\n",
      "(36, 2)\n",
      "(2, 8)\n",
      "(8, 16)\n",
      "(16, 6)\n",
      "(6, 16)\n",
      "(16, 2)\n",
      "(2, 6)\n",
      "(6, 36)\n",
      "(36, 2)\n",
      "(2, 2)\n",
      "(2, 2)\n",
      "(2, 2)\n",
      "(2, 16)\n",
      "(16, 23)\n",
      "(23, 16)\n",
      "(16, 2)\n",
      "(2, 2)\n",
      "(2, 2)\n",
      "(2, 16)\n",
      "(16, 2)\n",
      "(2, 16)\n",
      "(16, 2)\n",
      "(2, 16)\n",
      "(16, 16)\n",
      "(16, 2)\n",
      "(2, 2)\n",
      "(2, 2)\n",
      "(2, 16)\n",
      "(16, 2)\n",
      "(2, 16)\n",
      "(16, 16)\n",
      "(16, 16)\n",
      "(16, 2)\n",
      "(2, 36)\n",
      "(36, 36)\n",
      "(36, 36)\n",
      "(36, 36)\n",
      "(36, 36)\n",
      "(36, 36)\n",
      "(36, 36)\n",
      "(36, 36)\n",
      "(36, 16)\n",
      "(16, 36)\n",
      "(36, 36)\n",
      "(36, 2)\n",
      "(2, 16)\n",
      "(16, 2)\n",
      "(2, 16)\n",
      "(16, 2)\n",
      "(2, 16)\n",
      "(16, 16)\n",
      "(16, 16)\n",
      "(16, 16)\n",
      "(16, 16)\n",
      "(16, 16)\n",
      "(16, 16)\n",
      "(16, 23)\n",
      "(23, 16)\n",
      "(16, 23)\n",
      "(23, 16)\n",
      "(16, 16)\n",
      "(16, 16)\n",
      "(16, 16)\n",
      "(16, 16)\n",
      "(16, 2)\n",
      "(2, 16)\n",
      "(16, 16)\n",
      "(16, 16)\n",
      "(16, 16)\n",
      "(16, 16)\n",
      "(16, 2)\n",
      "(2, 16)\n",
      "(16, 16)\n",
      "(16, 2)\n",
      "(2, 16)\n",
      "(16, 2)\n",
      "(2, 16)\n",
      "(16, 2)\n",
      "(2, 16)\n",
      "(16, 16)\n",
      "(16, 16)\n",
      "(16, 16)\n",
      "(16, 16)\n",
      "(16, 16)\n",
      "(16, 16)\n",
      "(16, 16)\n",
      "(16, 16)\n",
      "(16, 16)\n",
      "(16, 36)\n",
      "(36, 16)\n",
      "(16, 16)\n",
      "(16, 23)\n",
      "(23, 2)\n",
      "(2, 16)\n",
      "(16, 2)\n",
      "(2, 16)\n",
      "(16, 16)\n",
      "(16, 16)\n",
      "(16, 2)\n",
      "(2, 16)\n",
      "(16, 2)\n",
      "(2, 16)\n",
      "(16, 2)\n",
      "(2, 23)\n",
      "(23, 23)\n",
      "(23, 23)\n",
      "(23, 23)\n",
      "(23, 23)\n",
      "(23, 23)\n",
      "(23, 23)\n",
      "(23, 23)\n",
      "(23, 23)\n",
      "(23, 23)\n",
      "(23, 23)\n",
      "(23, 23)\n",
      "(23, 23)\n",
      "(23, 23)\n",
      "(23, 23)\n",
      "(23, 23)\n",
      "(23, 23)\n",
      "(23, 23)\n",
      "(23, 23)\n",
      "(23, 23)\n",
      "(23, 23)\n",
      "(23, 23)\n",
      "(23, 23)\n",
      "(23, 23)\n",
      "(23, 23)\n",
      "(23, 23)\n",
      "(23, 23)\n",
      "(23, 23)\n",
      "(23, 23)\n",
      "(23, 23)\n",
      "(23, 23)\n",
      "(23, 23)\n",
      "(23, 23)\n",
      "(23, 23)\n",
      "(23, 23)\n",
      "(23, 23)\n",
      "(23, 23)\n",
      "(23, 23)\n",
      "(23, 23)\n",
      "(23, 23)\n",
      "(23, 23)\n",
      "(23, 23)\n",
      "(23, 23)\n",
      "(23, 23)\n",
      "(23, 23)\n",
      "(23, 23)\n",
      "(23, 23)\n",
      "(23, 23)\n",
      "(23, 23)\n",
      "(23, 23)\n",
      "(23, 23)\n",
      "(23, 23)\n",
      "(23, 23)\n",
      "(23, 23)\n",
      "(23, 23)\n",
      "(23, 23)\n",
      "(23, 23)\n",
      "(23, 23)\n",
      "(23, 23)\n",
      "(23, 23)\n",
      "(23, 23)\n",
      "(23, 23)\n",
      "(23, 23)\n",
      "(23, 23)\n",
      "(23, 23)\n",
      "(23, 23)\n",
      "(23, 23)\n",
      "(23, 23)\n",
      "(23, 23)\n",
      "(23, 23)\n",
      "(23, 23)\n",
      "(23, 23)\n",
      "(23, 23)\n",
      "(23, 23)\n",
      "(23, 23)\n",
      "(23, 23)\n",
      "(23, 23)\n",
      "(23, 23)\n",
      "(23, 23)\n",
      "(23, 23)\n",
      "(23, 23)\n",
      "(23, 23)\n",
      "(23, 23)\n",
      "(23, 23)\n",
      "(23, 23)\n",
      "(23, 23)\n",
      "(23, 23)\n",
      "(23, 23)\n",
      "(23, 23)\n",
      "(23, 23)\n",
      "(23, 23)\n",
      "(23, 23)\n",
      "(23, 23)\n",
      "(23, 23)\n",
      "(23, 23)\n",
      "(23, 23)\n",
      "(23, 23)\n",
      "(23, 23)\n",
      "(23, 23)\n",
      "(23, 23)\n",
      "(23, 23)\n",
      "(23, 23)\n",
      "(23, 23)\n",
      "(23, 23)\n",
      "(23, 23)\n",
      "(23, 23)\n",
      "(23, 23)\n",
      "(23, 23)\n",
      "(23, 23)\n",
      "(23, 23)\n",
      "(23, 23)\n",
      "(23, 23)\n",
      "(23, 23)\n"
     ]
    }
   ],
   "source": [
    "for i in pairs:\n",
    "    print(i)"
   ]
  },
  {
   "cell_type": "code",
   "execution_count": 78,
   "metadata": {},
   "outputs": [],
   "source": [
    "scene,G=scenesTransition(predictedsClusters1)"
   ]
  },
  {
   "cell_type": "code",
   "execution_count": 84,
   "metadata": {},
   "outputs": [
    {
     "name": "stdout",
     "output_type": "stream",
     "text": [
      "[33, 33, 33, 33, 33, 33, 33, 33, 33, 33, 33, 33, 33, 33, 33, 33, 33, 33, 33, 33, 33, 33, 33, 33, 33, 33, 33, 33, 33, 33, 33, 33, 33, 18, 33, 33, 33, 33, 33, 33, 7, 18, 1, 7, 1, 25, 30, 7, 18, 7, 18, 7, 7, 30, 30, 30, 30, 30, 30, 20, 1, 1, 7, 1, 7, 5, 20, 7, 38, 1, 20, 3, 26, 1, 20, 1, 12, 5, 28, 10, 27, 26, 20, 35, 26, 35, 3, 35, 20, 35, 20, 35, 10, 38, 26, 32, 8, 3, 21, 32, 32, 11, 32, 32, 3, 20, 3, 26, 26, 26, 21, 26, 20, 5, 38, 35, 38, 12, 38, 20, 20, 20, 35, 20, 20, 12, 27, 12, 15, 15, 37, 22, 25, 13, 38, 13, 13, 25, 22, 26, 9, 22, 22, 26, 37, 38, 13, 11, 9, 9, 11, 13, 32, 38, 37, 15, 15, 15, 15, 15, 32, 11, 9, 22, 13, 10, 10, 10, 25, 10, 10, 37, 22, 28, 10, 10, 31, 10, 22, 22, 5, 22, 22, 38, 35, 27, 5, 26, 38, 22, 10, 39, 5, 37, 39, 38, 37, 37, 10, 38, 10, 38, 10, 5, 10, 38, 38, 22, 38, 17, 5, 10, 22, 38, 27, 37, 37, 9, 38, 17, 27, 37, 9, 11, 5, 12, 10, 5, 12, 22, 22, 22, 22, 12, 10, 12, 17, 13, 37, 39, 9, 37, 9, 22, 10, 9, 22, 22, 22, 39, 37, 22, 5, 39, 12, 37, 24, 13, 39, 28, 37, 22, 5, 28, 12, 28, 12, 28, 12, 28, 5, 28, 27, 28, 13, 9, 19, 9, 8, 17, 27, 28, 19, 27, 12, 27, 31, 17, 27, 13, 27, 31, 12, 17, 13, 17, 31, 39, 39, 31, 31, 17, 37, 13, 39, 39, 17, 19, 19, 39, 9, 17, 31, 34, 31, 31, 19, 8, 13, 27, 29, 31, 31, 13, 24, 39, 27, 19, 11, 11, 9, 38, 13, 11, 11, 13, 32, 8, 21, 21, 32, 21, 21, 21, 11, 21, 21, 21, 11, 21, 21, 32, 21, 29, 8, 11, 15, 8, 13, 15, 8, 11, 11, 19, 19, 19, 19, 34, 24, 34, 0, 34, 24, 34, 24, 34, 8, 29, 32, 0, 8, 0, 29, 29, 11, 32, 6, 11, 21, 11, 8, 8, 15, 36, 15, 8, 29, 0, 6, 31, 8, 0, 8, 11, 8, 0, 34, 24, 19, 21, 31, 19, 32, 24, 34, 24, 29, 19, 15, 36, 6, 32, 11, 36, 29, 34, 32, 19, 19, 11, 31, 32, 34, 31, 19, 32, 19, 11, 29, 32, 0, 21, 32, 29, 32, 19, 21, 32, 32, 0, 8, 0, 19, 0, 19, 29, 32, 24, 32, 24, 8, 34, 24, 11, 24, 19, 31, 19, 24, 19, 17, 34, 24, 29, 31, 0, 0, 29, 32, 19, 32, 32, 29, 29, 8, 0, 24, 0, 31, 0, 29, 32, 0, 19, 29, 29, 32, 32, 8, 31, 31, 31, 31, 0, 34, 8, 8, 11, 19, 34, 29, 32, 0, 36, 36, 36, 36, 29, 6, 6, 6, 36, 6, 2, 36, 6, 36, 6, 2, 2, 8, 29, 2, 2, 36, 29, 29, 29, 8, 32, 8, 36, 2, 6, 6, 8, 8, 36, 36, 8, 6, 32, 2, 2, 6, 16, 36, 6, 36, 36, 36, 2, 36, 36, 2, 8, 36, 36, 36, 32, 6, 8, 6, 6, 8, 32, 32, 8, 29, 29, 8, 29, 32, 29, 32, 32, 8, 32, 8, 8, 36, 6, 8, 8, 8, 8, 8, 8, 29, 8, 29, 8, 8, 36, 6, 32, 16, 16, 8, 0, 0, 8, 29, 15, 21, 0, 24, 8, 32, 15, 32, 8, 0, 15, 8, 8, 36, 8, 32, 6, 16, 29, 16, 8, 32, 8, 8, 0, 36, 36, 8, 36, 29, 29, 29, 29, 6, 8, 29, 6, 6, 6, 6, 2, 2, 2, 6, 36, 36, 6, 36, 16, 36, 2, 2, 36, 16, 2, 2, 36, 16, 36, 2, 6, 16, 16, 2, 2, 36, 2, 16, 16, 16, 36, 36, 2, 2, 2, 36, 36, 36, 2, 36, 2, 2, 2, 36, 16, 36, 16, 16, 2, 2, 2, 2, 6, 16, 16, 2, 2, 2, 36, 36, 36, 16, 16, 2, 16, 16, 16, 16, 16, 16, 2, 16, 2, 2, 2, 16, 16, 36, 36, 6, 2, 2, 2, 36, 2, 2, 36, 36, 36, 36, 36, 36, 36, 2, 6, 36, 36, 36, 16, 36, 2, 2, 36, 36, 16, 16, 2, 2, 16, 16, 16, 16, 2, 16, 36, 16, 2, 2, 2, 36, 2, 2, 2, 2, 2, 16, 16, 36, 16, 16, 16, 16, 2, 16, 16, 16, 36, 2, 2, 2, 2, 2, 2, 2, 16, 2, 36, 16, 2, 6, 2, 6, 16, 36, 2, 29, 6, 6, 6, 2, 36, 2, 16, 6, 6, 36, 8, 6, 32, 8, 16, 6, 16, 16, 6, 36, 2, 6, 2, 6, 36, 16, 16, 8, 6, 36, 16, 36, 16, 6, 2, 16, 36, 36, 2, 6, 8, 2, 2, 2, 16, 6, 8, 16, 36, 2, 6, 6, 2, 6, 2, 36, 36, 36, 6, 6, 8, 36, 16, 2, 36, 6, 36, 16, 36, 2, 8, 6, 6, 6, 36, 36, 36, 6, 2, 36, 36, 6, 6, 6, 36, 8, 2, 36, 16, 36, 2, 16, 2, 16, 2, 6, 2, 36, 2, 8, 16, 6, 16, 2, 6, 36, 2, 2, 2, 2, 16, 23, 16, 2, 2, 2, 16, 2, 16, 2, 16, 16, 2, 2, 2, 16, 2, 16, 16, 16, 2, 36, 36, 36, 36, 36, 36, 36, 36, 16, 36, 36, 2, 16, 2, 16, 2, 16, 16, 16, 16, 16, 16, 16, 23, 16, 23, 16, 16, 16, 16, 16, 2, 16, 16, 16, 16, 16, 2, 16, 16, 2, 16, 2, 16, 2, 16, 16, 16, 16, 16, 16, 16, 16, 16, 16, 36, 16, 16, 23, 2, 16, 2, 16, 16, 16, 2, 16, 2, 16, 2, 23, 23, 23, 23, 23, 23, 23, 23, 23, 23, 23, 23, 23, 23, 23, 23, 23, 23, 23, 23, 23, 23, 23, 23, 23, 23, 23, 23, 23, 23, 23, 23, 23, 23, 23, 23, 23, 23, 23, 23, 23, 23, 23, 23, 23, 23, 23, 23, 23, 23, 23, 23, 23, 23, 23, 23, 23, 23, 23, 23, 23, 23, 23, 23, 23, 23, 23, 23, 23, 23, 23, 23, 23, 23, 23, 23, 23, 23, 23, 23, 23, 23, 23, 23, 23, 23, 23, 23, 23, 23, 23, 23, 23, 23, 23, 23, 23, 23, 23, 23, 23, 23, 23, 23, 23, 23, 23, 23, 23, 23, 23, 23, 23]\n"
     ]
    }
   ],
   "source": [
    "print(scene)"
   ]
  },
  {
   "cell_type": "code",
   "execution_count": 85,
   "metadata": {},
   "outputs": [
    {
     "name": "stdout",
     "output_type": "stream",
     "text": [
      "[33, 33, 4, 4, 4, 4, 14, 4, 4, 4, 4, 4, 4, 18, 18, 18, 14, 18, 14, 7, 30, 18, 18, 18, 14, 14, 14, 14, 14, 14, 18, 14, 14, 18, 14, 18, 18, 18, 14, 30, 7, 18, 1, 7, 1, 25, 30, 7, 18, 7, 18, 7, 7, 30, 30, 30, 30, 30, 30, 20, 1, 1, 7, 1, 7, 5, 20, 7, 38, 1, 20, 3, 26, 1, 20, 1, 12, 5, 28, 10, 27, 26, 20, 35, 26, 35, 3, 35, 20, 35, 20, 35, 10, 38, 26, 32, 8, 3, 21, 32, 32, 11, 32, 32, 3, 20, 3, 26, 26, 26, 21, 26, 20, 5, 38, 35, 38, 12, 38, 20, 20, 20, 35, 20, 20, 12, 27, 12, 15, 15, 37, 22, 25, 13, 38, 13, 13, 25, 22, 26, 9, 22, 22, 26, 37, 38, 13, 11, 9, 9, 11, 13, 32, 38, 37, 15, 15, 15, 15, 15, 32, 11, 9, 22, 13, 10, 10, 10, 25, 10, 10, 37, 22, 28, 10, 10, 31, 10, 22, 22, 5, 22, 22, 38, 35, 27, 5, 26, 38, 22, 10, 39, 5, 37, 39, 38, 37, 37, 10, 38, 10, 38, 10, 5, 10, 38, 38, 22, 38, 17, 5, 10, 22, 38, 27, 37, 37, 9, 38, 17, 27, 37, 9, 11, 5, 12, 10, 5, 12, 22, 22, 22, 22, 12, 10, 12, 17, 13, 37, 39, 9, 37, 9, 22, 10, 9, 22, 22, 22, 39, 37, 22, 5, 39, 12, 37, 24, 13, 39, 28, 37, 22, 5, 28, 12, 28, 12, 28, 12, 28, 5, 28, 27, 28, 13, 9, 19, 9, 8, 17, 27, 28, 19, 27, 12, 27, 31, 17, 27, 13, 27, 31, 12, 17, 13, 17, 31, 39, 39, 31, 31, 17, 37, 13, 39, 39, 17, 19, 19, 39, 9, 17, 31, 34, 31, 31, 19, 8, 13, 27, 29, 31, 31, 13, 24, 39, 27, 19, 11, 11, 9, 38, 13, 11, 11, 13, 32, 8, 21, 21, 32, 21, 21, 21, 11, 21, 21, 21, 11, 21, 21, 32, 21, 29, 8, 11, 15, 8, 13, 15, 8, 11, 11, 19, 19, 19, 19, 34, 24, 34, 0, 34, 24, 34, 24, 34, 8, 29, 32, 0, 8, 0, 29, 29, 11, 32, 6, 11, 21, 11, 8, 8, 15, 36, 15, 8, 29, 0, 6, 31, 8, 0, 8, 11, 8, 0, 34, 24, 19, 21, 31, 19, 32, 24, 34, 24, 29, 19, 15, 36, 6, 32, 11, 36, 29, 34, 32, 19, 19, 11, 31, 32, 34, 31, 19, 32, 19, 11, 29, 32, 0, 21, 32, 29, 32, 19, 21, 32, 32, 0, 8, 0, 19, 0, 19, 29, 32, 24, 32, 24, 8, 34, 24, 11, 24, 19, 31, 19, 24, 19, 17, 34, 24, 29, 31, 0, 0, 29, 32, 19, 32, 32, 29, 29, 8, 0, 24, 0, 31, 0, 29, 32, 0, 19, 29, 29, 32, 32, 8, 31, 31, 31, 31, 0, 34, 8, 8, 11, 19, 34, 29, 32, 0, 36, 36, 36, 36, 29, 6, 6, 6, 36, 6, 2, 36, 6, 36, 6, 2, 2, 8, 29, 2, 2, 36, 29, 29, 29, 8, 32, 8, 36, 2, 6, 6, 8, 8, 36, 36, 8, 6, 32, 2, 2, 6, 16, 36, 6, 36, 36, 36, 2, 36, 36, 2, 8, 36, 36, 36, 32, 6, 8, 6, 6, 8, 32, 32, 8, 29, 29, 8, 29, 32, 29, 32, 32, 8, 32, 8, 8, 36, 6, 8, 8, 8, 8, 8, 8, 29, 8, 29, 8, 8, 36, 6, 32, 16, 16, 8, 0, 0, 8, 29, 15, 21, 0, 24, 8, 32, 15, 32, 8, 0, 15, 8, 8, 36, 8, 32, 6, 16, 29, 16, 8, 32, 8, 8, 0, 36, 36, 8, 36, 29, 29, 29, 29, 6, 8, 29, 6, 6, 6, 6, 2, 2, 2, 6, 36, 36, 6, 36, 16, 36, 2, 2, 36, 16, 2, 2, 36, 16, 36, 2, 6, 16, 16, 2, 2, 36, 2, 16, 16, 16, 36, 36, 2, 2, 2, 36, 36, 36, 2, 36, 2, 2, 2, 36, 16, 36, 16, 16, 2, 2, 2, 2, 6, 16, 16, 2, 2, 2, 36, 36, 36, 16, 16, 2, 16, 16, 16, 16, 16, 16, 2, 16, 2, 2, 2, 16, 16, 36, 36, 6, 2, 2, 2, 36, 2, 2, 36, 36, 36, 36, 36, 36, 36, 2, 6, 36, 36, 36, 16, 36, 2, 2, 36, 36, 16, 16, 2, 2, 16, 16, 16, 16, 2, 16, 36, 16, 2, 2, 2, 36, 2, 2, 2, 2, 2, 16, 16, 36, 16, 16, 16, 16, 2, 16, 16, 16, 36, 2, 2, 2, 2, 2, 2, 2, 16, 2, 36, 16, 2, 6, 2, 6, 16, 36, 2, 29, 6, 6, 6, 2, 36, 2, 16, 6, 6, 36, 8, 6, 32, 8, 16, 6, 16, 16, 6, 36, 2, 6, 2, 6, 36, 16, 16, 8, 6, 36, 16, 36, 16, 6, 2, 16, 36, 36, 2, 6, 8, 2, 2, 2, 16, 6, 8, 16, 36, 2, 6, 6, 2, 6, 2, 36, 36, 36, 6, 6, 8, 36, 16, 2, 36, 6, 36, 16, 36, 2, 8, 6, 6, 6, 36, 36, 36, 6, 2, 36, 36, 6, 6, 6, 36, 8, 2, 36, 16, 36, 2, 16, 2, 16, 2, 6, 2, 36, 2, 8, 16, 6, 16, 2, 6, 36, 2, 2, 2, 2, 16, 23, 16, 2, 2, 2, 16, 2, 16, 2, 16, 16, 2, 2, 2, 16, 2, 16, 16, 16, 2, 36, 36, 36, 36, 36, 36, 36, 36, 16, 36, 36, 2, 16, 2, 16, 2, 16, 16, 16, 16, 16, 16, 16, 23, 16, 23, 16, 16, 16, 16, 16, 2, 16, 16, 16, 16, 16, 2, 16, 16, 2, 16, 2, 16, 2, 16, 16, 16, 16, 16, 16, 16, 16, 16, 16, 36, 16, 16, 23, 2, 16, 2, 16, 16, 16, 2, 16, 2, 16, 2, 23, 23, 23, 23, 23, 23, 23, 23, 23, 23, 23, 23, 23, 23, 23, 23, 23, 23, 23, 23, 23, 23, 23, 23, 23, 23, 23, 23, 23, 23, 23, 23, 23, 23, 23, 23, 23, 23, 23, 23, 23, 23, 23, 23, 23, 23, 23, 23, 23, 23, 23, 23, 23, 23, 23, 23, 23, 23, 23, 23, 23, 23, 23, 23, 23, 23, 23, 23, 23, 23, 23, 23, 23, 23, 23, 23, 23, 23, 23, 23, 23, 23, 23, 23, 23, 23, 23, 23, 23, 23, 23, 23, 23, 23, 23, 23, 23, 23, 23, 23, 23, 23, 23, 23, 23, 23, 23, 23, 23, 23, 23, 23, 23]\n"
     ]
    }
   ],
   "source": [
    "print(predictedsClusters1)"
   ]
  },
  {
   "cell_type": "code",
   "execution_count": 86,
   "metadata": {},
   "outputs": [
    {
     "name": "stdout",
     "output_type": "stream",
     "text": [
      "{0, 1, 2, 3, 5, 6, 7, 8, 9, 10, 11, 12, 13, 15, 16, 17, 18, 19, 20, 21, 22, 23, 24, 25, 26, 27, 28, 29, 30, 31, 32, 33, 34, 35, 36, 37, 38, 39}\n"
     ]
    }
   ],
   "source": [
    "uni=set(scene)\n",
    "print(uni)"
   ]
  },
  {
   "cell_type": "code",
   "execution_count": 148,
   "metadata": {},
   "outputs": [],
   "source": [
    "def buildGraph(list):\n",
    "    G=nx.Graph()\n",
    "    #G.add_nodes_from(set(list))\n",
    "    for i in range(len(list)):\n",
    "        if not (list[i-1]==list[i]):\n",
    "            G.add_node(list[i-1])\n",
    "            G.add_edge(list[i-1],list[i],label=(str(list[i-1])+'_'+str(list[i])))\n",
    "    return G"
   ]
  },
  {
   "cell_type": "code",
   "execution_count": 158,
   "metadata": {},
   "outputs": [
    {
     "data": {
      "image/png": "[encoded data removed]",
      "text/plain": [
       "<Figure size 432x288 with 1 Axes>"
      ]
     },
     "metadata": {},
     "output_type": "display_data"
    }
   ],
   "source": [
    "import matplotlib.pylab as plt\n",
    "G=buildGraph(predictedsClusters1[0:100])\n",
    "#G.to_directed()\n",
    "nx.draw(G,with_labels = True,edge_labels=True)\n",
    "plt.show()"
   ]
  },
  {
   "cell_type": "code",
   "execution_count": 126,
   "metadata": {},
   "outputs": [
    {
     "name": "stdout",
     "output_type": "stream",
     "text": [
      "[33, 33, 4, 4, 4, 4, 14, 4, 4, 4, 4, 4, 4, 18, 18, 18, 14, 18, 14, 7, 30, 18, 18, 18, 14, 14, 14, 14, 14, 14]\n"
     ]
    }
   ],
   "source": [
    "print(predictedsClusters1[0:30])"
   ]
  },
  {
   "cell_type": "code",
   "execution_count": 139,
   "metadata": {},
   "outputs": [
    {
     "name": "stdout",
     "output_type": "stream",
     "text": [
      "[(23, 33), (23, 16), (23, 2), (33, 4), (4, 14), (4, 18), (14, 18), (14, 7), (14, 30), (18, 30), (18, 7), (18, 1), (7, 30), (7, 1), (7, 5), (7, 20), (7, 38), (30, 25), (30, 20), (1, 25), (1, 20), (1, 38), (1, 26), (1, 12), (25, 22), (25, 13), (25, 10), (20, 5), (20, 3), (20, 26), (20, 35), (20, 38), (20, 12), (5, 12), (5, 28), (5, 38), (5, 22), (5, 27), (5, 26), (5, 39), (5, 37), (5, 10), (5, 17), (5, 11), (38, 10), (38, 26), (38, 35), (38, 12), (38, 13), (38, 37), (38, 32), (38, 22), (38, 39), (38, 17), (38, 27), (38, 9), (3, 26), (3, 35), (3, 8), (3, 21), (3, 32), (26, 27), (26, 35), (26, 32), (26, 21), (26, 22), (26, 9), (26, 37), (12, 27), (12, 15), (12, 10), (12, 22), (12, 17), (12, 39), (12, 37), (12, 28), (12, 31), (28, 10), (28, 22), (28, 39), (28, 37), (28, 27), (28, 13), (28, 19), (10, 27), (10, 35), (10, 13), (10, 37), (10, 31), (10, 22), (10, 39), (10, 9), (27, 35), (27, 37), (27, 17), (27, 19), (27, 31), (27, 13), (27, 29), (27, 39), (32, 8), (32, 21), (32, 11), (32, 13), (32, 15), (32, 29), (32, 0), (32, 6), (32, 19), (32, 24), (32, 34), (32, 31), (32, 2), (32, 36), (32, 16), (8, 9), (8, 17), (8, 19), (8, 13), (8, 21), (8, 29), (8, 11), (8, 15), (8, 34), (8, 0), (8, 31), (8, 24), (8, 2), (8, 36), (8, 6), (8, 16), (21, 11), (21, 29), (21, 19), (21, 31), (21, 0), (21, 15), (11, 13), (11, 9), (11, 19), (11, 15), (11, 29), (11, 6), (11, 36), (11, 31), (11, 24), (15, 37), (15, 13), (15, 36), (15, 19), (15, 29), (15, 0), (37, 22), (37, 39), (37, 9), (37, 13), (37, 24), (37, 17), (22, 9), (22, 13), (22, 39), (13, 17), (13, 24), (13, 39), (13, 9), (13, 31), (9, 39), (9, 19), (9, 17), (31, 17), (31, 39), (31, 34), (31, 19), (31, 29), (31, 6), (31, 0), (39, 17), (39, 19), (39, 24), (17, 19), (17, 34), (24, 34), (24, 19), (24, 29), (24, 0), (19, 34), (19, 29), (19, 0), (34, 0), (34, 29), (29, 0), (29, 36), (29, 6), (29, 2), (29, 16), (0, 6), (0, 36), (6, 36), (6, 2), (6, 16), (36, 2), (36, 16), (2, 16)]\n"
     ]
    }
   ],
   "source": [
    "print(G.edges)"
   ]
  },
  {
   "cell_type": "code",
   "execution_count": 179,
   "metadata": {},
   "outputs": [
    {
     "data": {
      "text/plain": [
       "2"
      ]
     },
     "execution_count": 179,
     "metadata": {},
     "output_type": "execute_result"
    }
   ],
   "source": [
    "nx.edge_connectivity(G)"
   ]
  },
  {
   "cell_type": "code",
   "execution_count": 176,
   "metadata": {},
   "outputs": [],
   "source": [
    " from networkx.algorithms.flow import min"
   ]
  },
  {
   "cell_type": "code",
   "execution_count": 178,
   "metadata": {},
   "outputs": [
    {
     "ename": "TypeError",
     "evalue": "minimum_st_edge_cut() missing 2 required positional arguments: 's' and 't'",
     "output_type": "error",
     "traceback": [
      "\u001b[0;31m---------------------------------------------------------------------------\u001b[0m",
      "\u001b[0;31mTypeError\u001b[0m                                 Traceback (most recent call last)",
      "\u001b[0;32m<ipython-input-178-dac1cde4890f>\u001b[0m in \u001b[0;36m<module>\u001b[0;34m()\u001b[0m\n\u001b[0;32m----> 1\u001b[0;31m \u001b[0mlen\u001b[0m\u001b[0;34m(\u001b[0m\u001b[0mminimum_st_edge_cut\u001b[0m\u001b[0;34m(\u001b[0m\u001b[0mG\u001b[0m\u001b[0;34m)\u001b[0m\u001b[0;34m)\u001b[0m\u001b[0;34m\u001b[0m\u001b[0m\n\u001b[0m",
      "\u001b[0;31mTypeError\u001b[0m: minimum_st_edge_cut() missing 2 required positional arguments: 's' and 't'"
     ]
    }
   ],
   "source": [
    "len(minimum_st_edge_cut(G))"
   ]
  },
  {
   "cell_type": "code",
   "execution_count": 163,
   "metadata": {},
   "outputs": [],
   "source": [
    "networkx.draw_networkx?"
   ]
  },
  {
   "cell_type": "code",
   "execution_count": 6,
   "metadata": {},
   "outputs": [
    {
     "data": {
      "text/plain": [
       "True"
      ]
     },
     "execution_count": 6,
     "metadata": {},
     "output_type": "execute_result"
    }
   ],
   "source": [
    "'/vol/work3/berhe/ExtractedFeatures/GoT/'=='/vol/work3/berhe/ExtractedFeatures/GoT/'"
   ]
  },
  {
   "cell_type": "code",
   "execution_count": 8,
   "metadata": {},
   "outputs": [
    {
     "data": {
      "text/plain": [
       "True"
      ]
     },
     "execution_count": 8,
     "metadata": {},
     "output_type": "execute_result"
    }
   ],
   "source": [
    "'/vol/work3/maurice/dvd_extracted/GameOfThrones/'=='/vol/work3/maurice/dvd_extracted/GameOfThrones/'"
   ]
  },
  {
   "cell_type": "code",
   "execution_count": 55,
   "metadata": {},
   "outputs": [
    {
     "name": "stdout",
     "output_type": "stream",
     "text": [
      "/vol/work3/maurice/dvd_extracted/BreakingBad/BreakingBad.Season01.Episode01.mkv\n",
      "/vol/work3/maurice/dvd_extracted/BreakingBad/BreakingBad.Season01.Episode02.mkv\n",
      "/vol/work3/maurice/dvd_extracted/BreakingBad/BreakingBad.Season01.Episode03.mkv\n",
      "/vol/work3/maurice/dvd_extracted/BreakingBad/BreakingBad.Season01.Episode07.mkv\n",
      "/vol/work3/maurice/dvd_extracted/BreakingBad/BreakingBad.Season01.Episode04.mkv\n",
      "/vol/work3/maurice/dvd_extracted/BreakingBad/BreakingBad.Season01.Episode05.mkv\n",
      "/vol/work3/maurice/dvd_extracted/BreakingBad/BreakingBad.Season01.Episode06.mkv\n",
      "/vol/work3/maurice/dvd_extracted/BreakingBad/BreakingBad.Season02.Episode01.mkv\n",
      "/vol/work3/maurice/dvd_extracted/BreakingBad/BreakingBad.Season02.Episode02.mkv\n",
      "/vol/work3/maurice/dvd_extracted/BreakingBad/BreakingBad.Season02.Episode03.mkv\n",
      "/vol/work3/maurice/dvd_extracted/BreakingBad/BreakingBad.Season02.Episode04.mkv\n",
      "/vol/work3/maurice/dvd_extracted/BreakingBad/BreakingBad.Season02.Episode05.mkv\n",
      "/vol/work3/maurice/dvd_extracted/BreakingBad/BreakingBad.Season02.Episode06.mkv\n",
      "/vol/work3/maurice/dvd_extracted/BreakingBad/BreakingBad.Season02.Episode07.mkv\n",
      "/vol/work3/maurice/dvd_extracted/BreakingBad/BreakingBad.Season02.Episode08.mkv\n",
      "/vol/work3/maurice/dvd_extracted/BreakingBad/BreakingBad.Season02.Episode09.mkv\n",
      "/vol/work3/maurice/dvd_extracted/BreakingBad/BreakingBad.Season02.Episode10.mkv\n",
      "/vol/work3/maurice/dvd_extracted/BreakingBad/BreakingBad.Season02.Episode11.mkv\n",
      "/vol/work3/maurice/dvd_extracted/BreakingBad/BreakingBad.Season02.Episode12.mkv\n",
      "/vol/work3/maurice/dvd_extracted/BreakingBad/BreakingBad.Season02.Episode13.mkv\n",
      "/vol/work3/maurice/dvd_extracted/BreakingBad/BreakingBad.Season06.Episode01.mkv\n",
      "/vol/work3/maurice/dvd_extracted/BreakingBad/BreakingBad.Season06.Episode02.mkv\n",
      "/vol/work3/maurice/dvd_extracted/BreakingBad/BreakingBad.Season06.Episode03.mkv\n",
      "/vol/work3/maurice/dvd_extracted/BreakingBad/BreakingBad.Season06.Episode04.mkv\n",
      "/vol/work3/maurice/dvd_extracted/BreakingBad/BreakingBad.Season06.Episode05.mkv\n",
      "/vol/work3/maurice/dvd_extracted/BreakingBad/BreakingBad.Season06.Episode06.mkv\n",
      "/vol/work3/maurice/dvd_extracted/BreakingBad/BreakingBad.Season06.Episode07.mkv\n",
      "/vol/work3/maurice/dvd_extracted/BreakingBad/BreakingBad.Season06.Episode08.mkv\n",
      "/vol/work3/maurice/dvd_extracted/BreakingBad/BreakingBad.Season03.Episode01.mkv\n",
      "/vol/work3/maurice/dvd_extracted/BreakingBad/BreakingBad.Season03.Episode05.mkv\n",
      "/vol/work3/maurice/dvd_extracted/BreakingBad/BreakingBad.Season03.Episode11.mkv\n",
      "/vol/work3/maurice/dvd_extracted/BreakingBad/BreakingBad.Season03.Episode02.mkv\n",
      "/vol/work3/maurice/dvd_extracted/BreakingBad/BreakingBad.Season03.Episode03.mkv\n",
      "/vol/work3/maurice/dvd_extracted/BreakingBad/BreakingBad.Season03.Episode04.mkv\n",
      "/vol/work3/maurice/dvd_extracted/BreakingBad/BreakingBad.Season03.Episode06.mkv\n",
      "/vol/work3/maurice/dvd_extracted/BreakingBad/BreakingBad.Season03.Episode07.mkv\n",
      "/vol/work3/maurice/dvd_extracted/BreakingBad/BreakingBad.Season03.Episode08.mkv\n",
      "/vol/work3/maurice/dvd_extracted/BreakingBad/BreakingBad.Season03.Episode09.mkv\n",
      "/vol/work3/maurice/dvd_extracted/BreakingBad/BreakingBad.Season03.Episode10.mkv\n",
      "/vol/work3/maurice/dvd_extracted/BreakingBad/BreakingBad.Season03.Episode12.mkv\n",
      "/vol/work3/maurice/dvd_extracted/BreakingBad/BreakingBad.Season03.Episode13.mkv\n",
      "/vol/work3/maurice/dvd_extracted/BreakingBad/BreakingBad.Season04.Episode01.mkv\n",
      "/vol/work3/maurice/dvd_extracted/BreakingBad/BreakingBad.Season04.Episode02.mkv\n",
      "/vol/work3/maurice/dvd_extracted/BreakingBad/BreakingBad.Season04.Episode03.mkv\n",
      "/vol/work3/maurice/dvd_extracted/BreakingBad/BreakingBad.Season04.Episode04.mkv\n",
      "/vol/work3/maurice/dvd_extracted/BreakingBad/BreakingBad.Season04.Episode05.mkv\n",
      "/vol/work3/maurice/dvd_extracted/BreakingBad/BreakingBad.Season04.Episode06.mkv\n",
      "/vol/work3/maurice/dvd_extracted/BreakingBad/BreakingBad.Season04.Episode07.mkv\n",
      "/vol/work3/maurice/dvd_extracted/BreakingBad/BreakingBad.Season04.Episode08.mkv\n",
      "/vol/work3/maurice/dvd_extracted/BreakingBad/BreakingBad.Season04.Episode09.mkv\n",
      "/vol/work3/maurice/dvd_extracted/BreakingBad/BreakingBad.Season04.Episode10.mkv\n",
      "/vol/work3/maurice/dvd_extracted/BreakingBad/BreakingBad.Season04.Episode11.mkv\n",
      "/vol/work3/maurice/dvd_extracted/BreakingBad/BreakingBad.Season04.Episode12.mkv\n",
      "/vol/work3/maurice/dvd_extracted/BreakingBad/BreakingBad.Season04.Episode13.mkv\n",
      "/vol/work3/maurice/dvd_extracted/BreakingBad/BreakingBad.Season05.Episode01.mkv\n",
      "/vol/work3/maurice/dvd_extracted/BreakingBad/BreakingBad.Season05.Episode08.mkv\n",
      "/vol/work3/maurice/dvd_extracted/BreakingBad/BreakingBad.Season05.Episode02.mkv\n",
      "/vol/work3/maurice/dvd_extracted/BreakingBad/BreakingBad.Season05.Episode03.mkv\n",
      "/vol/work3/maurice/dvd_extracted/BreakingBad/BreakingBad.Season05.Episode04.mkv\n",
      "/vol/work3/maurice/dvd_extracted/BreakingBad/BreakingBad.Season05.Episode05.mkv\n",
      "/vol/work3/maurice/dvd_extracted/BreakingBad/BreakingBad.Season05.Episode06.mkv\n",
      "/vol/work3/maurice/dvd_extracted/BreakingBad/BreakingBad.Season05.Episode07.mkv\n"
     ]
    }
   ],
   "source": [
    "import os \n",
    "videoFiles='/vol/work3/maurice/dvd_extracted/BreakingBad/'\n",
    "saveFiles='/vol/work3/berhe/ExtractedFeatures/GoT/'\n",
    "saveFiles1='/vol/work3/berhe/ExtractedFeatures/BB/'\n",
    "\n",
    "videofilesFiles=[]\n",
    "for fl in os.listdir(videoFiles):\n",
    "    if '.mkv' in fl:\n",
    "        print(videoFiles+fl)"
   ]
  },
  {
   "cell_type": "code",
   "execution_count": 165,
   "metadata": {},
   "outputs": [
    {
     "name": "stdout",
     "output_type": "stream",
     "text": [
      "3\n",
      "BreakingBad.Season03.Episode01.mkv_frameTimeStamp.pkl 2721.0\n",
      "BreakingBad.Season03.Episode05.mkv_frameTimeStamp.pkl 2722.0\n",
      "BreakingBad.Season03.Episode11.mkv_frameTimeStamp.pkl 2721.0\n",
      "BreakingBad.Season03.Episode02.mkv_frameTimeStamp.pkl 2719.0\n",
      "BreakingBad.Season03.Episode03.mkv_frameTimeStamp.pkl 2721.0\n",
      "BreakingBad.Season03.Episode04.mkv_frameTimeStamp.pkl 2721.0\n",
      "BreakingBad.Season03.Episode06.mkv_frameTimeStamp.pkl 2722.0\n",
      "BreakingBad.Season03.Episode07.mkv_frameTimeStamp.pkl 2722.0\n",
      "BreakingBad.Season03.Episode08.mkv_frameTimeStamp.pkl 2723.0\n",
      "BreakingBad.Season03.Episode09.mkv_frameTimeStamp.pkl 2721.0\n",
      "BreakingBad.Season03.Episode10.mkv_frameTimeStamp.pkl 2723.0\n",
      "BreakingBad.Season03.Episode12.mkv_frameTimeStamp.pkl 2722.0\n",
      "BreakingBad.Season03.Episode13.mkv_frameTimeStamp.pkl 2722.0\n"
     ]
    }
   ],
   "source": [
    "seasonTime=[]\n",
    "for j in range(3,4):\n",
    "    print (j)\n",
    "    timeStamp_GoT=[]\n",
    "    for file in os.listdir(saveFiles1):\n",
    "        s='Season0'+str(j)\n",
    "        if s in file:\n",
    "            if file.endswith('.pkl'):\n",
    "                with open(saveFiles1+file, 'rb') as f:\n",
    "                    timeStamp=pickle.load(f)\n",
    "                timeStamp_GoT.append(timeStamp[-1])\n",
    "                print(file,timeStamp[-1]/1000)\n",
    "        else:\n",
    "            continue\n",
    "    seasonTime.append(sum(timeStamp_GoT))"
   ]
  },
  {
   "cell_type": "code",
   "execution_count": 166,
   "metadata": {},
   "outputs": [
    {
     "data": {
      "text/plain": [
       "45.36666666666667"
      ]
     },
     "execution_count": 166,
     "metadata": {},
     "output_type": "execute_result"
    }
   ],
   "source": [
    "timeStamp[-1]/60000"
   ]
  },
  {
   "cell_type": "code",
   "execution_count": 167,
   "metadata": {},
   "outputs": [
    {
     "name": "stdout",
     "output_type": "stream",
     "text": [
      "9.827777777777778\n"
     ]
    }
   ],
   "source": [
    "print((sum(seasonTime)/len(seasonTime))/3600000)"
   ]
  },
  {
   "cell_type": "code",
   "execution_count": 168,
   "metadata": {},
   "outputs": [
    {
     "data": {
      "text/plain": [
       "1"
      ]
     },
     "execution_count": 168,
     "metadata": {},
     "output_type": "execute_result"
    }
   ],
   "source": [
    "len(seasonTime)"
   ]
  },
  {
   "cell_type": "code",
   "execution_count": 127,
   "metadata": {},
   "outputs": [
    {
     "name": "stdout",
     "output_type": "stream",
     "text": [
      "45.74206896551724 2653.04\n"
     ]
    }
   ],
   "source": [
    "sumTime=sum(timeStamp_GoT)/60000\n",
    "avg=sumTime/(len(timeStamp_GoT))\n",
    "print(avg,sumTime)"
   ]
  },
  {
   "cell_type": "code",
   "execution_count": 50,
   "metadata": {},
   "outputs": [],
   "source": [
    "s=sumTime/36000000"
   ]
  },
  {
   "cell_type": "code",
   "execution_count": 51,
   "metadata": {},
   "outputs": [
    {
     "data": {
      "text/plain": [
       "(7.369555555555556e-05, 2653.04)"
      ]
     },
     "execution_count": 51,
     "metadata": {},
     "output_type": "execute_result"
    }
   ],
   "source": [
    "s,sumTime"
   ]
  },
  {
   "cell_type": "code",
   "execution_count": 58,
   "metadata": {},
   "outputs": [
    {
     "name": "stdout",
     "output_type": "stream",
     "text": [
      "S01E03\n",
      "S01E06\n",
      "S01E04\n",
      "S01E02\n",
      "S01E01\n",
      "S01E05\n",
      "S01E07\n"
     ]
    }
   ],
   "source": [
    "manAnnotation='/people/berhe/Bureau/TLP_thesis/codes/AnnotatedScene/BreakingBad/'\n",
    "sc_end=[]\n",
    "for file in os.listdir(manAnnotation):\n",
    "    if\n",
    "    for fn os.\n",
    "    Df=pd.read_csv(manAnnotation+file, delimiter=\"\\t\")\n",
    "    sc_end.append(len(Df['end']))\n",
    "    print(file)"
   ]
  },
  {
   "cell_type": "code",
   "execution_count": 225,
   "metadata": {},
   "outputs": [
    {
     "name": "stdout",
     "output_type": "stream",
     "text": [
      "S03E07\n",
      "S03E04\n",
      "S03E12\n",
      "S03E11\n",
      "S03E09\n",
      "S03E01\n",
      "S03E13\n",
      "S03E03\n",
      "S03E08\n",
      "S03E10\n",
      "S03E02\n",
      "S03E05\n",
      "S03E06\n"
     ]
    }
   ],
   "source": [
    "manAnnotation='/people/berhe/Bureau/TLP_thesis/codes/AnnotatedScene/BreakingBad/'\n",
    "sc_end=[]\n",
    "sc_end_time=[]\n",
    "sc_end_time_start=[]\n",
    "for file in os.listdir(manAnnotation):\n",
    "    for j in range(3,4):\n",
    "        s='season'+str(j)\n",
    "        if s in file:\n",
    "            for fn in os.listdir(manAnnotation+file):\n",
    "                if fn=='Scenes':\n",
    "                    for f in os.listdir(manAnnotation+file+'/'+fn):\n",
    "                        print(f)\n",
    "                        Df=pd.read_csv(manAnnotation+file+'/'+fn+'/'+f, delimiter=\"\\t\")\n",
    "                        sc_end.append(len(Df['end']))\n",
    "                        sc_end_time.append(Df['end'])\n",
    "                        sc_end_time_start.append(Df['start'])"
   ]
  },
  {
   "cell_type": "code",
   "execution_count": 226,
   "metadata": {},
   "outputs": [
    {
     "data": {
      "text/plain": [
       "(13, 13, 24, 22)"
      ]
     },
     "execution_count": 226,
     "metadata": {},
     "output_type": "execute_result"
    }
   ],
   "source": [
    "len(sc_end),len(sc_end_time),len(sc_end_time[1]),len(sc_end_time[2])"
   ]
  },
  {
   "cell_type": "code",
   "execution_count": 227,
   "metadata": {},
   "outputs": [],
   "source": [
    "dif=[]\n",
    "for i in range(len(sc_end_time)):\n",
    "    for j in range(len(sc_end_time[i])):\n",
    "        dif.append(sc_end_time[i][j]-sc_end_time_start[i][j])"
   ]
  },
  {
   "cell_type": "code",
   "execution_count": 228,
   "metadata": {},
   "outputs": [],
   "source": [
    "a=[len(sc_end_time[i]) for i in range(len(sc_end_time))]"
   ]
  },
  {
   "cell_type": "code",
   "execution_count": 230,
   "metadata": {},
   "outputs": [
    {
     "data": {
      "text/plain": [
       "270"
      ]
     },
     "execution_count": 230,
     "metadata": {},
     "output_type": "execute_result"
    }
   ],
   "source": [
    "len(dif)"
   ]
  },
  {
   "cell_type": "code",
   "execution_count": 231,
   "metadata": {},
   "outputs": [
    {
     "name": "stdout",
     "output_type": "stream",
     "text": [
      "131.03792592592592\n"
     ]
    }
   ],
   "source": [
    "print((sum(dif)/len(dif))/1000)"
   ]
  },
  {
   "cell_type": "code",
   "execution_count": null,
   "metadata": {},
   "outputs": [],
   "source": []
  }
 ],
 "metadata": {
  "kernelspec": {
   "display_name": "pyannote",
   "language": "python",
   "name": "pyannote"
  },
  "language_info": {
   "codemirror_mode": {
    "name": "ipython",
    "version": 3
   },
   "file_extension": ".py",
   "mimetype": "text/x-python",
   "name": "python",
   "nbconvert_exporter": "python",
   "pygments_lexer": "ipython3",
   "version": "3.6.4"
  }
 },
 "nbformat": 4,
 "nbformat_minor": 2
}
