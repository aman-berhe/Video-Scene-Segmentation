{
 "cells": [
  {
   "cell_type": "code",
   "execution_count": 1,
   "metadata": {},
   "outputs": [
    {
     "name": "stderr",
     "output_type": "stream",
     "text": [
      "Using TensorFlow backend.\n"
     ]
    }
   ],
   "source": [
    "import ExtractingFrameFeatures as eff\n"
   ]
  },
  {
   "cell_type": "code",
   "execution_count": 2,
   "metadata": {},
   "outputs": [],
   "source": [
    "videoFiles='/vol/work3/maurice/dvd_extracted/GameOfThrones/'\n",
    "saveFiles='/vol/work3/berhe/ExtractedFeatures/GoT/'"
   ]
  },
  {
   "cell_type": "code",
   "execution_count": 6,
   "metadata": {},
   "outputs": [],
   "source": [
    "import cv2\n",
    "import numpy as np\n",
    "import math\n",
    "import pickle\n",
    "from sklearn.preprocessing import normalize\n",
    "import sys\n",
    "import pandas as pd\n",
    "import os"
   ]
  },
  {
   "cell_type": "code",
   "execution_count": 7,
   "metadata": {},
   "outputs": [],
   "source": [
    "videofilesFiles=[]\n",
    "for fl in os.listdir(videoFiles):\n",
    "    if '.mkv' in fl:\n",
    "        videofilesFiles.append(fl)"
   ]
  },
  {
   "cell_type": "code",
   "execution_count": null,
   "metadata": {},
   "outputs": [],
   "source": [
    "for file in videofilesFiles:\n",
    "    framesFeatures,timeStamp,frameIds=eff.getframes(1,videoFiles+file)\n",
    "    framesFeatures=np.array(framesFeatures)\n",
    "    np.save(saveFiles+file+'_features.npy',framesFeatures)\n",
    "    with open(saveFiles+file+'_frameTimeStamp.pkl', 'wb') as f:\n",
    "        pickle.dump(timeStamp,f)"
   ]
  },
  {
   "cell_type": "code",
   "execution_count": null,
   "metadata": {},
   "outputs": [],
   "source": []
  },
  {
   "cell_type": "code",
   "execution_count": 12,
   "metadata": {},
   "outputs": [],
   "source": [
    "videoFile=videoFiles+videofilesFiles[15]"
   ]
  },
  {
   "cell_type": "code",
   "execution_count": null,
   "metadata": {},
   "outputs": [],
   "source": [
    "framesFeatures,timeStamp,frameIds=eff.getframes(1,videoFile)"
   ]
  },
  {
   "cell_type": "code",
   "execution_count": 32,
   "metadata": {},
   "outputs": [],
   "source": [
    "framesFeatures=np.array(framesFeatures)\n",
    "np.save(saveFiles+videofilesFiles[15]+'_features.npy',framesFeatures)\n",
    "with open(saveFiles+videofilesFiles[15]+'_frameTimeStamp.pkl', 'wb') as f:\n",
    "    pickle.dump(timeStamp,f)"
   ]
  },
  {
   "cell_type": "code",
   "execution_count": null,
   "metadata": {},
   "outputs": [],
   "source": []
  }
 ],
 "metadata": {
  "kernelspec": {
   "display_name": "pyannote",
   "language": "python",
   "name": "pyannote"
  },
  "language_info": {
   "codemirror_mode": {
    "name": "ipython",
    "version": 3
   },
   "file_extension": ".py",
   "mimetype": "text/x-python",
   "name": "python",
   "nbconvert_exporter": "python",
   "pygments_lexer": "ipython3",
   "version": "3.6.4"
  }
 },
 "nbformat": 4,
 "nbformat_minor": 2
}
