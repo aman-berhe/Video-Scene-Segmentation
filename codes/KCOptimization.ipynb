{
 "cells": [
  {
   "cell_type": "code",
   "execution_count": 1,
   "metadata": {},
   "outputs": [],
   "source": [
    "import hyperopt.pyll.stochastic\n",
    "from hyperopt import hp,tpe,fmin,Trials, STATUS_OK"
   ]
  },
  {
   "cell_type": "code",
   "execution_count": 14,
   "metadata": {},
   "outputs": [],
   "source": [
    "space = {\n",
    "    'k': hp.choice('k', [3,4,5,6,7,8,9,10,11]),\n",
    "    'c': hp.choice('c', [2,3,4,5,6,7,8,9,10])\n",
    "}"
   ]
  },
  {
   "cell_type": "code",
   "execution_count": 2,
   "metadata": {},
   "outputs": [],
   "source": [
    "def sequenceSegmentation(speakerSequence,k,C):\n",
    "    #print(type(speakerSequence))\n",
    "    sepPosition=[]\n",
    "    \n",
    "    tempList=[speakerSequence[0]]\n",
    "    #setList=set(tempList)\n",
    "    #tempList=[]#list(setList)\n",
    "    count=1\n",
    "    #print(tempList)\n",
    "    #count= 1 if tempList[0]==tempList[1] else 2\n",
    "    for i in range(1,len(speakerSequence)):\n",
    "        #print(tempList,speakerSequence[i])\n",
    "        if speakerSequence[i]==tempList[-1]:\n",
    "            #print('true')\n",
    "            continue\n",
    "        elif speakerSequence[i] == tempList[0]:\n",
    "            tempList.pop(0)\n",
    "            tempList.append(speakerSequence[i])\n",
    "        elif speakerSequence[i] in tempList:\n",
    "            tempList.pop(0)\n",
    "            tempList.append(speakerSequence[i])\n",
    "        else:\n",
    "            if len(tempList)<=k:\n",
    "                tempList.append(speakerSequence[i])\n",
    "                count=count+1\n",
    "            if count==C:\n",
    "                tempList=tempList[C-1:]\n",
    "                sepPosition.append(i-C+1)\n",
    "                count=0\n",
    "                #pos=i-pos\n",
    "            else:\n",
    "                continue\n",
    "                \n",
    "                #print(pos,)\n",
    "                \n",
    "    return sepPosition"
   ]
  },
  {
   "cell_type": "code",
   "execution_count": 3,
   "metadata": {},
   "outputs": [],
   "source": [
    "manScene=[1,2,3,4,5,6]\n",
    "cluster=[1,1,1,2,2,1,1,1,3,3,3,4,4,4,3,3,5,5,3,3,1,1,1,2,2,1,1,1,3,3,3,4,4,4,3,3,5,5,3,3,1,1,1,2,2,1,1,1,3,3,3,4,4,4,3,3,5,5,3,3]"
   ]
  },
  {
   "cell_type": "code",
   "execution_count": 4,
   "metadata": {},
   "outputs": [
    {
     "data": {
      "text/plain": [
       "[1, 1]"
      ]
     },
     "execution_count": 4,
     "metadata": {},
     "output_type": "execute_result"
    }
   ],
   "source": [
    "cluster[0:2]"
   ]
  },
  {
   "cell_type": "code",
   "execution_count": 5,
   "metadata": {},
   "outputs": [],
   "source": [
    "minDiff=[]\n",
    "for i in range(3,11):\n",
    "    for j in range(2,10):\n",
    "        if (j<=i):\n",
    "            sepPos=sequenceSegmentation(cluster,i,j)\n",
    "            minDiff.append(list((abs(len(sepPos)-len(manScene)),j,i)))\n",
    "        else:\n",
    "            break"
   ]
  },
  {
   "cell_type": "code",
   "execution_count": 6,
   "metadata": {},
   "outputs": [
    {
     "name": "stdout",
     "output_type": "stream",
     "text": [
      "[]\n"
     ]
    }
   ],
   "source": [
    "print(sepPos)"
   ]
  },
  {
   "cell_type": "code",
   "execution_count": 7,
   "metadata": {},
   "outputs": [
    {
     "name": "stdout",
     "output_type": "stream",
     "text": [
      "[[3, 2, 3], [4, 3, 3], [2, 2, 4], [3, 3, 4], [4, 4, 4], [1, 2, 5], [2, 3, 5], [3, 4, 5], [4, 5, 5], [0, 2, 6], [2, 3, 6], [3, 4, 6], [4, 5, 6], [4, 6, 6], [1, 2, 7], [2, 3, 7], [3, 4, 7], [4, 5, 7], [4, 6, 7], [4, 7, 7], [1, 2, 8], [2, 3, 8], [3, 4, 8], [4, 5, 8], [4, 6, 8], [4, 7, 8], [5, 8, 8], [1, 2, 9], [2, 3, 9], [3, 4, 9], [4, 5, 9], [4, 6, 9], [4, 7, 9], [5, 8, 9], [6, 9, 9], [1, 2, 10], [2, 3, 10], [3, 4, 10], [4, 5, 10], [4, 6, 10], [4, 7, 10], [5, 8, 10], [6, 9, 10]]\n"
     ]
    }
   ],
   "source": [
    "print(minDiff)"
   ]
  },
  {
   "cell_type": "code",
   "execution_count": 8,
   "metadata": {},
   "outputs": [],
   "source": [
    " sepPos=sequenceSegmentation(cluster,7,2)"
   ]
  },
  {
   "cell_type": "code",
   "execution_count": 9,
   "metadata": {},
   "outputs": [
    {
     "name": "stdout",
     "output_type": "stream",
     "text": [
      "[2, 7, 15, 22, 35, 42, 55]\n"
     ]
    }
   ],
   "source": [
    "print(sepPos)"
   ]
  },
  {
   "cell_type": "code",
   "execution_count": 10,
   "metadata": {},
   "outputs": [
    {
     "name": "stdout",
     "output_type": "stream",
     "text": [
      "[1, 1, 1]\n",
      "[2, 2, 1, 1, 1]\n",
      "[3, 3, 3, 4, 4, 4, 3, 3]\n",
      "[5, 5, 3, 3, 1, 1, 1]\n",
      "[2, 2, 1, 1, 1, 3, 3, 3, 4, 4, 4, 3, 3]\n",
      "[5, 5, 3, 3, 1, 1, 1]\n",
      "[2, 2, 1, 1, 1, 3, 3, 3, 4, 4, 4, 3, 3]\n",
      "[5, 5, 3, 3]\n"
     ]
    }
   ],
   "source": [
    "j=0\n",
    "for i in range(len(sepPos)):\n",
    "    print(cluster[j:sepPos[i]+1])\n",
    "    j=sepPos[i]+1\n",
    "print(cluster[j:])"
   ]
  },
  {
   "cell_type": "code",
   "execution_count": 11,
   "metadata": {},
   "outputs": [],
   "source": [
    "def getValues():\n",
    "    return manScene,cluster\n",
    "\n",
    "def kc(space):\n",
    "    k=space['k']\n",
    "    c=space['c']\n",
    "    manScene,clustrThreads=getValues()\n",
    "    if c <= k:\n",
    "        sepPos=sequenceSegmentation(clustrThreads,k,c)\n",
    "        #print(k,c,len(sepPos),abs(len(sepPos)-len(manScene)))\n",
    "        return abs(len(sepPos)-len(manScene))\n",
    "    else:\n",
    "        return 100"
   ]
  },
  {
   "cell_type": "code",
   "execution_count": 15,
   "metadata": {},
   "outputs": [],
   "source": [
    "trials = Trials()\n",
    "best = fmin(\n",
    "    fn=kc,\n",
    "    space=space,\n",
    "    algo=tpe.suggest,\n",
    "    trials=trials,\n",
    "    max_evals=50\n",
    ")"
   ]
  },
  {
   "cell_type": "code",
   "execution_count": 16,
   "metadata": {},
   "outputs": [
    {
     "data": {
      "text/plain": [
       "{'c': 0, 'k': 2}"
      ]
     },
     "execution_count": 16,
     "metadata": {},
     "output_type": "execute_result"
    }
   ],
   "source": [
    "best"
   ]
  },
  {
   "cell_type": "code",
   "execution_count": 17,
   "metadata": {},
   "outputs": [
    {
     "data": {
      "text/plain": [
       "({'c': [0], 'k': [2]}, 1.0)"
      ]
     },
     "execution_count": 17,
     "metadata": {},
     "output_type": "execute_result"
    }
   ],
   "source": [
    "minList=[trials.trials[i]['result']['loss'] for i in range(len(trials.trials))]\n",
    "\n",
    "a=minList.index(min(minList))\n",
    "trials.trials[a]['misc']['vals'],trials.trials[a]['result']['loss']"
   ]
  },
  {
   "cell_type": "code",
   "execution_count": 22,
   "metadata": {},
   "outputs": [],
   "source": [
    "sepPos=sequenceSegmentation(cluster,5,2)\n",
    "abs(len(sepPos)-len(manScene))\n",
    "c=0\n",
    "listscene=[]\n",
    "for i in sepPos:\n",
    "    listscene.append(cluster[c:i])\n",
    "    c=i\n",
    "listscene.append(cluster[c:])"
   ]
  },
  {
   "cell_type": "code",
   "execution_count": 23,
   "metadata": {},
   "outputs": [
    {
     "data": {
      "text/plain": [
       "[[1, 1],\n",
       " [1, 2, 2, 1, 1],\n",
       " [1, 3, 3, 3, 4, 4, 4, 3],\n",
       " [3, 5, 5, 3, 3, 1, 1],\n",
       " [1, 2, 2, 1, 1, 1, 3, 3, 3, 4, 4, 4, 3],\n",
       " [3, 5, 5, 3, 3, 1, 1, 1, 2, 2, 1, 1, 1, 3, 3, 3, 4, 4, 4, 3, 3, 5, 5, 3, 3]]"
      ]
     },
     "execution_count": 23,
     "metadata": {},
     "output_type": "execute_result"
    }
   ],
   "source": [
    "listscene"
   ]
  },
  {
   "cell_type": "code",
   "execution_count": null,
   "metadata": {},
   "outputs": [],
   "source": [
    "for i in range(len(trials.trials)):\n",
    "    print(trials.trials[i]['result']['loss'],trials.trials[i]['misc']['vals'])"
   ]
  },
  {
   "cell_type": "code",
   "execution_count": 25,
   "metadata": {},
   "outputs": [],
   "source": [
    "def getDifferThreads(threads,window=5):\n",
    "    sepPos=[]\n",
    "    sw=0\n",
    "    for i in range(window+1,(len(threads)-window)):\n",
    "        print(threads[i-1:window+i-1],threads[i:window+i])\n",
    "        comp=len(set(threads[i-1:window+i-1]))\n",
    "        windowlist=threads[i:window+i]\n",
    "        uniqueThreads=len(set(windowlist))\n",
    "        print(comp,uniqueThreads)\n",
    "        if comp==1:\n",
    "            continue\n",
    "        elif comp!=uniqueThreads:\n",
    "            sepPos.append(i+window-1)\n",
    "        else:\n",
    "            continue\n",
    "    return sepPos"
   ]
  },
  {
   "cell_type": "code",
   "execution_count": 26,
   "metadata": {},
   "outputs": [],
   "source": [
    "def getUsingset(threads,window=5):\n",
    "    sepPos=[]\n",
    "    intValue=[]\n",
    "    sw=0\n",
    "    for i in range(window+1,(len(threads))):\n",
    "        #print(threads[i-window-1:i-1],threads[i:i+window])\n",
    "        prevWind=set(threads[i-window-1:i-1])\n",
    "        nextWind=set(threads[i:i+window])\n",
    "        intUnion=(len(prevWind.intersection(nextWind))/len(prevWind.union(nextWind)))\n",
    "        intValue.append(intUnion)\n",
    "        if intUnion==0.0 or intUnion>0.5:\n",
    "            sepPos.append(i)\n",
    "        else:\n",
    "            continue\n",
    "    return sepPos,intValue"
   ]
  },
  {
   "cell_type": "code",
   "execution_count": 27,
   "metadata": {},
   "outputs": [],
   "source": [
    "import matplotlib.pyplot as plt"
   ]
  },
  {
   "cell_type": "code",
   "execution_count": 28,
   "metadata": {},
   "outputs": [
    {
     "data": {
      "text/plain": [
       "[<matplotlib.lines.Line2D at 0x7fd213b95908>]"
      ]
     },
     "execution_count": 28,
     "metadata": {},
     "output_type": "execute_result"
    },
    {
     "data": {
      "image/png": "[encoded data removed]",
      "text/plain": [
       "<Figure size 432x288 with 1 Axes>"
      ]
     },
     "metadata": {
      "needs_background": "light"
     },
     "output_type": "display_data"
    }
   ],
   "source": [
    "sepPos,intVal=getUsingset(cluster,7)\n",
    "plt.plot(intVal)"
   ]
  },
  {
   "cell_type": "code",
   "execution_count": 29,
   "metadata": {},
   "outputs": [
    {
     "name": "stdout",
     "output_type": "stream",
     "text": [
      "[0.0, 0.0, 0.2, 0.2, 0.2, 0.5, 0.5, 0.5, 0.25, 0.2, 0.2, 0.2, 0.0, 0.0, 0.5, 0.5, 0.5, 0.4, 0.5, 0.5, 0.0, 0.0, 0.2, 0.2, 0.2, 0.5, 0.5, 0.5, 0.25, 0.2, 0.2, 0.2, 0.0, 0.0, 0.5, 0.5, 0.5, 0.4, 0.5, 0.5, 0.0, 0.0, 0.2, 0.2, 0.2, 0.5, 0.25, 0.25, 0.3333333333333333, 0.3333333333333333, 0.3333333333333333, 0.3333333333333333]\n"
     ]
    }
   ],
   "source": [
    "print(intVal)"
   ]
  },
  {
   "cell_type": "code",
   "execution_count": 30,
   "metadata": {},
   "outputs": [],
   "source": [
    "#sepPos=getDifferThreads(cluster,3)\n",
    "#abs(len(sepPos)-len(manScene))\n",
    "c=0\n",
    "listscene=[]\n",
    "for i in sepPos:\n",
    "    if (i-c)!=1:\n",
    "        listscene.append(cluster[c:i])\n",
    "        c=i\n",
    "listscene.append(cluster[c:])"
   ]
  },
  {
   "cell_type": "code",
   "execution_count": 31,
   "metadata": {},
   "outputs": [
    {
     "data": {
      "text/plain": [
       "[[1, 1, 1, 2, 2, 1, 1, 1],\n",
       " [3, 3, 3, 4, 4, 4, 3, 3, 5, 5, 3, 3],\n",
       " [1, 1, 1, 2, 2, 1, 1, 1],\n",
       " [3, 3, 3, 4, 4, 4, 3, 3, 5, 5, 3, 3],\n",
       " [1, 1, 1, 2, 2, 1, 1, 1],\n",
       " [3, 3, 3, 4, 4, 4, 3, 3, 5, 5, 3, 3]]"
      ]
     },
     "execution_count": 31,
     "metadata": {},
     "output_type": "execute_result"
    }
   ],
   "source": [
    "listscene"
   ]
  },
  {
   "cell_type": "code",
   "execution_count": 243,
   "metadata": {},
   "outputs": [
    {
     "name": "stdout",
     "output_type": "stream",
     "text": [
      "[1, 1, 1, 2, 2, 1, 1, 1, 3, 3, 3, 4, 4, 4, 3, 3, 5, 5, 3, 3, 1, 1, 1, 2, 2, 1, 1, 1, 3, 3, 3, 4, 4, 4, 3, 3, 5, 5, 3, 3, 1, 1, 1, 2, 2, 1, 1, 1, 3, 3, 3, 4, 4, 4, 3, 3, 5, 5, 3, 3]\n"
     ]
    }
   ],
   "source": [
    "print(cluster)"
   ]
  },
  {
   "cell_type": "code",
   "execution_count": 32,
   "metadata": {},
   "outputs": [
    {
     "name": "stdout",
     "output_type": "stream",
     "text": [
      "[8, 9, 20, 21, 28, 29, 40, 41, 48, 49]\n"
     ]
    }
   ],
   "source": [
    "print(sepPos)"
   ]
  }
 ],
 "metadata": {
  "kernelspec": {
   "display_name": "Python 3",
   "language": "python",
   "name": "python3"
  },
  "language_info": {
   "codemirror_mode": {
    "name": "ipython",
    "version": 3
   },
   "file_extension": ".py",
   "mimetype": "text/x-python",
   "name": "python",
   "nbconvert_exporter": "python",
   "pygments_lexer": "ipython3",
   "version": "3.6.4"
  }
 },
 "nbformat": 4,
 "nbformat_minor": 2
}
